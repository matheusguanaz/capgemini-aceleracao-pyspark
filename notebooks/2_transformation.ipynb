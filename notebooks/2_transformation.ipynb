{
 "cells": [
  {
   "cell_type": "code",
   "execution_count": 1,
   "id": "a69bb5ad",
   "metadata": {},
   "outputs": [],
   "source": [
    "import findspark\n",
    "findspark.init()"
   ]
  },
  {
   "cell_type": "code",
   "execution_count": 2,
   "id": "1fc775a7",
   "metadata": {},
   "outputs": [],
   "source": [
    "from pyspark import SparkContext, SparkConf\n",
    "from pyspark.sql import SparkSession\n",
    "from pyspark.sql import functions as F\n",
    "from pyspark.sql.types import StructType, StructField, StringType, IntegerType, FloatType"
   ]
  },
  {
   "cell_type": "code",
   "execution_count": 3,
   "id": "7420102a",
   "metadata": {},
   "outputs": [],
   "source": [
    "# Expressoes regulares comuns\n",
    "REGEX_NOT_NUM = r'^[^0-9]*$'"
   ]
  },
  {
   "cell_type": "code",
   "execution_count": 4,
   "id": "2334cfd4",
   "metadata": {},
   "outputs": [],
   "source": [
    "# Criar o contexto do spark\n",
    "sc = SparkContext()\n",
    "\n",
    "# Instancia o criador de sessao do spark\n",
    "spark = (SparkSession.builder\n",
    "                     .master(\"local[7]\")\n",
    "                     .appName(\"Aceleração PySpark - Capgemini\")\n",
    "                    ).getOrCreate()"
   ]
  },
  {
   "cell_type": "code",
   "execution_count": 5,
   "id": "2fa7141e",
   "metadata": {},
   "outputs": [],
   "source": [
    "def split_csv(line):\n",
    "    return tuple(map(lambda x: x.replace('\"',''), line.split(\",\")))"
   ]
  },
  {
   "cell_type": "code",
   "execution_count": 6,
   "id": "d7a39b88",
   "metadata": {},
   "outputs": [],
   "source": [
    "schema_airports = StructType([\n",
    "    StructField(\"faa\",  StringType(),  True),\n",
    "    StructField(\"name\", StringType(),  True),\n",
    "    StructField(\"lat\",  FloatType(),   True),\n",
    "    StructField(\"lon\",  FloatType(),   True),\n",
    "    StructField(\"alt\",  IntegerType(), True),\n",
    "    StructField(\"tz\",   FloatType(), True),\n",
    "    StructField(\"dst\",  StringType(),  True)\n",
    "])\n",
    "\n",
    "schema_planes = StructType([\n",
    "    StructField(\"tailnum\",      StringType(),  True),\n",
    "    StructField(\"year\",         IntegerType(), True),\n",
    "    StructField(\"type\",         StringType(),  True),\n",
    "    StructField(\"manufacturer\", StringType(),  True),\n",
    "    StructField(\"model\",        StringType(),  True),\n",
    "    StructField(\"engines\",      IntegerType(), True),\n",
    "    StructField(\"seats\",        IntegerType(), True),\n",
    "    StructField(\"speed\",        IntegerType(), True),\n",
    "    StructField(\"engine\",       StringType(),  True)\n",
    "])\n",
    "\n",
    "schema_flights = StructType([\n",
    "    StructField(\"year\",      IntegerType(), True),\n",
    "    StructField(\"month\",     IntegerType(), True),\n",
    "    StructField(\"day\",       IntegerType(), True),\n",
    "    StructField(\"dep_time\",  StringType(),  True),\n",
    "    StructField(\"dep_delay\", IntegerType(), True),\n",
    "    StructField(\"arr_time\",  StringType(),  True),\n",
    "    StructField(\"arr_delay\", IntegerType(), True),\n",
    "    StructField(\"carrier\",   StringType(),  True),\n",
    "    StructField(\"tailnum\",   StringType(),  True),\n",
    "    StructField(\"flight\",    StringType(),  True),\n",
    "    StructField(\"origin\",    StringType(),  True),\n",
    "    StructField(\"dest\",      StringType(),  True),\n",
    "    StructField(\"air_time\",  IntegerType(), True),\n",
    "    StructField(\"distance\",  IntegerType(), True),\n",
    "    StructField(\"hour\",      IntegerType(), True),\n",
    "    StructField(\"minute\",    IntegerType(), True),\n",
    "])"
   ]
  },
  {
   "cell_type": "code",
   "execution_count": 7,
   "id": "456fb810",
   "metadata": {},
   "outputs": [],
   "source": [
    "#voltar\n",
    "df_airports = (spark.read\n",
    "                  .format(\"csv\")\n",
    "                  .option(\"header\", \"true\")\n",
    "                  .schema(schema_airports)\n",
    "                  .load(\"data/airports.csv\"))\n",
    "\n",
    "df_planes = (spark.read\n",
    "                  .format(\"csv\")\n",
    "                  .option(\"header\", \"true\")\n",
    "                  .schema(schema_planes)\n",
    "                  .load(\"data/planes.csv\"))\n",
    "\n",
    "df_flights = (spark.read\n",
    "                  .format(\"csv\")\n",
    "                  .option(\"header\", \"true\")\n",
    "                  .schema(schema_flights)\n",
    "                  .load(\"data/flights.csv\"))"
   ]
  },
  {
   "cell_type": "code",
   "execution_count": 8,
   "id": "99d4f22d",
   "metadata": {},
   "outputs": [],
   "source": [
    "rdd_airports = sc.textFile(\"/airports.csv\")\n",
    "rdd_planes   = sc.textFile(\"data/planes.csv\")"
   ]
  },
  {
   "cell_type": "code",
   "execution_count": 9,
   "id": "75b42df8",
   "metadata": {},
   "outputs": [],
   "source": [
    "# armazena a primeira linha do arquivo como referencia\n",
    "header_airports = rdd_airports.first()\n",
    "header_planes   = rdd_planes.first()\n",
    "\n",
    "# Remove a primeira linha do arquivo\n",
    "rdd_airports = rdd_airports.filter(lambda line: line != header_airports).map(split_csv)\n",
    "rdd_planes   = rdd_planes.filter(lambda   line: line != header_planes).map(split_csv)\n"
   ]
  },
  {
   "cell_type": "markdown",
   "id": "45914d17",
   "metadata": {},
   "source": [
    "## Airports Dataset"
   ]
  },
  {
   "cell_type": "markdown",
   "id": "656c03a6",
   "metadata": {},
   "source": [
    "### Pergunta 1"
   ]
  },
  {
   "cell_type": "code",
   "execution_count": 10,
   "id": "485ba479",
   "metadata": {},
   "outputs": [
    {
     "name": "stdout",
     "output_type": "stream",
     "text": [
      "+---+-------------+---------+----------+---+----+---+\n",
      "|faa|         name|      lat|       lon|alt|  tz|dst|\n",
      "+---+-------------+---------+----------+---+----+---+\n",
      "|IPL|  Imperial Co| 32.83422|-115.57874|-54|-8.0|  A|\n",
      "|NJK|El Centro Naf|32.829224|-115.67167|-42|-8.0|  A|\n",
      "+---+-------------+---------+----------+---+----+---+\n",
      "\n",
      "+---+----+---+---+---+---+---+\n",
      "|faa|name|lat|lon|alt| tz|dst|\n",
      "+---+----+---+---+---+---+---+\n",
      "+---+----+---+---+---+---+---+\n",
      "\n"
     ]
    }
   ],
   "source": [
    "df_airports.filter(F.col('alt') < 0 ).show()\n",
    "df_airports = df_airports.withColumn(\"alt\", \n",
    "                                     F.when(F.col(\"alt\") < 0 , 0)\n",
    "                                     .otherwise(F.col(\"alt\"))\n",
    "                                    )\n",
    "\n",
    "df_airports.filter(F.col('alt') < 0 ).show()"
   ]
  },
  {
   "cell_type": "markdown",
   "id": "830d51a8",
   "metadata": {},
   "source": [
    " **Utilizando RDD**"
   ]
  },
  {
   "cell_type": "code",
   "execution_count": 11,
   "id": "94f7fc32",
   "metadata": {},
   "outputs": [
    {
     "name": "stdout",
     "output_type": "stream",
     "text": [
      "Wall time: 776 ms\n"
     ]
    },
    {
     "data": {
      "text/plain": [
       "[('04G', 'Lansdowne Airport', '41.1304722', '-80.6195833', '1044', '-5', 'A'),\n",
       " ('06A',\n",
       "  'Moton Field Municipal Airport',\n",
       "  '32.4605722',\n",
       "  '-85.6800278',\n",
       "  '264',\n",
       "  '-5',\n",
       "  'A'),\n",
       " ('06C', 'Schaumburg Regional', '41.9893408', '-88.1012428', '801', '-6', 'A'),\n",
       " ('06N', 'Randall Airport', '41.431912', '-74.3915611', '523', '-5', 'A'),\n",
       " ('09J',\n",
       "  'Jekyll Island Airport',\n",
       "  '31.0744722',\n",
       "  '-81.4277778',\n",
       "  '11',\n",
       "  '-4',\n",
       "  'A'),\n",
       " ('0A9',\n",
       "  'Elizabethton Municipal Airport',\n",
       "  '36.3712222',\n",
       "  '-82.1734167',\n",
       "  '1593',\n",
       "  '-4',\n",
       "  'A')]"
      ]
     },
     "execution_count": 11,
     "metadata": {},
     "output_type": "execute_result"
    }
   ],
   "source": [
    "%%time\n",
    "def alt(row):\n",
    "    if (int(row[4]) < 0):\n",
    "        row = (row[0], row[1], row[2], row[3], 0, row[5], row[6])\n",
    "    return row\n",
    "\n",
    "rdd_airports = rdd_airports.map(alt)\n",
    "rdd_airports.take(6)"
   ]
  },
  {
   "cell_type": "markdown",
   "id": "58640cd6",
   "metadata": {},
   "source": [
    "### Pergunta 2 "
   ]
  },
  {
   "cell_type": "code",
   "execution_count": 12,
   "id": "6a63b17e",
   "metadata": {},
   "outputs": [
    {
     "name": "stdout",
     "output_type": "stream",
     "text": [
      "+---+--------------------+---------+----------+----+----+---+\n",
      "|faa|                name|      lat|       lon| alt|  tz|dst|\n",
      "+---+--------------------+---------+----------+----+----+---+\n",
      "|04G|   Lansdowne Airport|41.130474| -80.61958|1044|-5.0|  A|\n",
      "|06A|Moton Field Munic...| 32.46057| -85.68003| 264|-5.0|  A|\n",
      "|06C| Schaumburg Regional| 41.98934| -88.10124| 801|-6.0|  A|\n",
      "|06N|     Randall Airport| 41.43191| -74.39156| 523|-5.0|  A|\n",
      "|0G6|Williams County A...|41.467304|-84.506775| 730|-5.0|  A|\n",
      "|0G7|Finger Lakes Regi...|42.883564|-76.781235| 492|-5.0|  A|\n",
      "|0P2|Shoestring Aviati...|39.794823|-76.647194|1000|-5.0|  U|\n",
      "|0W3|Harford County Ai...|39.566837|  -76.2024| 409|-5.0|  A|\n",
      "|10C|  Galt Field Airport| 42.40289|-88.375114| 875|-6.0|  U|\n",
      "|17G|Port Bucyrus-Craw...|40.781555| -82.97481|1003|-5.0|  A|\n",
      "|1B9| Mansfield Municipal|42.000134| -71.19677| 122|-5.0|  A|\n",
      "|1CS|Clow Internationa...|41.695976|-88.129234| 670|-6.0|  U|\n",
      "|1OH|     Fortman Airport|40.555325| -84.38662| 885|-5.0|  U|\n",
      "|1RL|Point Roberts Air...| 48.97972|-123.07889|  10|-7.0|  A|\n",
      "|24C| Lowell City Airport| 42.95392|  -85.3439| 681|-5.0|  A|\n",
      "|24J|Suwannee County A...|30.300125|  -83.0247| 104|-5.0|  A|\n",
      "|25D| Forest Lake Airport|45.247746|-92.994385| 925|-5.0|  A|\n",
      "|29D|  Grove City Airport|41.146027| -80.16775|1371|-5.0|  A|\n",
      "|2G9|Somerset County A...| 40.03887| -79.01499|2275|-5.0|  A|\n",
      "|2J9|Quincy Municipal ...| 30.59787| -84.55743| 225|-5.0|  A|\n",
      "+---+--------------------+---------+----------+----+----+---+\n",
      "only showing top 20 rows\n",
      "\n",
      "923\n",
      "1329\n",
      "+---+----+---+---+---+---+---+\n",
      "|faa|name|lat|lon|alt| tz|dst|\n",
      "+---+----+---+---+---+---+---+\n",
      "+---+----+---+---+---+---+---+\n",
      "\n",
      "1380\n"
     ]
    }
   ],
   "source": [
    "df_airports.filter(F.col('tz').between(-7,-5)).show()\n",
    "print(df_airports.filter(F.col('tz').between(-7,-5)).count())\n",
    "print(df_airports.filter(F.col('dst') == 'A').count())\n",
    "\n",
    "df_airports = df_airports.withColumn(\"dst\", \n",
    "                                    F.when(F.col(\"tz\").between(-7,-5), 'A')\n",
    "                                   .otherwise(F.col(\"dst\")))\n",
    "\n",
    "df_airports.filter((F.col('tz').between(-7,-5)) & (F.col('dst') != 'A')).show()\n",
    "print(df_airports.filter(F.col('dst') == 'A').count())"
   ]
  },
  {
   "cell_type": "markdown",
   "id": "710d2361",
   "metadata": {},
   "source": [
    "**Utilizando RDD**"
   ]
  },
  {
   "cell_type": "code",
   "execution_count": 13,
   "id": "4b292013",
   "metadata": {},
   "outputs": [
    {
     "data": {
      "text/plain": [
       "[('04G', 'Lansdowne Airport', '41.1304722', '-80.6195833', '1044', '-5', 'A'),\n",
       " ('06A',\n",
       "  'Moton Field Municipal Airport',\n",
       "  '32.4605722',\n",
       "  '-85.6800278',\n",
       "  '264',\n",
       "  '-5',\n",
       "  'A'),\n",
       " ('06C', 'Schaumburg Regional', '41.9893408', '-88.1012428', '801', '-6', 'A'),\n",
       " ('06N', 'Randall Airport', '41.431912', '-74.3915611', '523', '-5', 'A'),\n",
       " ('09J',\n",
       "  'Jekyll Island Airport',\n",
       "  '31.0744722',\n",
       "  '-81.4277778',\n",
       "  '11',\n",
       "  '-4',\n",
       "  'A'),\n",
       " ('0A9',\n",
       "  'Elizabethton Municipal Airport',\n",
       "  '36.3712222',\n",
       "  '-82.1734167',\n",
       "  '1593',\n",
       "  '-4',\n",
       "  'A')]"
      ]
     },
     "execution_count": 13,
     "metadata": {},
     "output_type": "execute_result"
    }
   ],
   "source": [
    "def tz_replace_dst(row):\n",
    "    if (-5 >= int(row[5]) >= -7 ) :\n",
    "        row = row[:6] + ('A',)\n",
    "    return row\n",
    "\n",
    "rdd_airports = rdd_airports.map(tz_replace_dst)\n",
    "rdd_airports.take(6)"
   ]
  },
  {
   "cell_type": "markdown",
   "id": "dc4b6fc7",
   "metadata": {},
   "source": [
    "### Pergunta 3"
   ]
  },
  {
   "cell_type": "code",
   "execution_count": 14,
   "id": "30658ec2",
   "metadata": {
    "scrolled": false
   },
   "outputs": [
    {
     "name": "stdout",
     "output_type": "stream",
     "text": [
      "8\n",
      "+---+--------------------+---------+----------+----+-----+---+\n",
      "|faa|                name|      lat|       lon| alt|   tz|dst|\n",
      "+---+--------------------+---------+----------+----+-----+---+\n",
      "|19A|Jackson County Ai...|34.175865|  -83.5616| 951| -4.0|  U|\n",
      "|BLD|Boulder City Muni...|  35.5651|  -114.514|2201| -8.0|  U|\n",
      "|GCW|Grand Canyon West...|  35.5925| -113.4859|4825| -8.0|  U|\n",
      "|MXY|    McCarthy Airport| 61.43706|-142.90308|1531| -8.0|  U|\n",
      "|NGZ|         NAS Alameda|  37.7861| -122.3186|  10| -9.0|  U|\n",
      "|SWD|      Seward Airport|60.126938|-149.41881|  22| -8.0|  U|\n",
      "|SXQ|    Soldotna Airport|60.474957|-151.03824| 113| -8.0|  U|\n",
      "|WWT|      Newtok Airport|60.939167|-164.64111|  25|-10.0|  U|\n",
      "+---+--------------------+---------+----------+----+-----+---+\n",
      "\n",
      "+---+----+---+---+---+---+---+\n",
      "|faa|name|lat|lon|alt| tz|dst|\n",
      "+---+----+---+---+---+---+---+\n",
      "+---+----+---+---+---+---+---+\n",
      "\n",
      "0\n",
      "1388\n"
     ]
    }
   ],
   "source": [
    "print(df_airports.filter(F.col('dst') == 'U').count())\n",
    "df_airports.filter(F.col('dst') == 'U').show()\n",
    "\n",
    "df_airports = df_airports.withColumn(\"dst\", \n",
    "                                     F.when(F.col(\"dst\") == 'U', 'A')\n",
    "                                     .otherwise(F.col(\"dst\")))\n",
    "\n",
    "df_airports.filter(F.col('dst') == 'U').show()\n",
    "print(df_airports.filter(F.col('dst') == 'U').count())\n",
    "print(df_airports.filter(F.col('dst') == 'A').count())"
   ]
  },
  {
   "cell_type": "code",
   "execution_count": 15,
   "id": "d9f9a110",
   "metadata": {},
   "outputs": [
    {
     "data": {
      "text/plain": [
       "[('04G', 'Lansdowne Airport', '41.1304722', '-80.6195833', '1044', '-5', 'A'),\n",
       " ('06A',\n",
       "  'Moton Field Municipal Airport',\n",
       "  '32.4605722',\n",
       "  '-85.6800278',\n",
       "  '264',\n",
       "  '-5',\n",
       "  'A'),\n",
       " ('06C', 'Schaumburg Regional', '41.9893408', '-88.1012428', '801', '-6', 'A'),\n",
       " ('06N', 'Randall Airport', '41.431912', '-74.3915611', '523', '-5', 'A'),\n",
       " ('09J',\n",
       "  'Jekyll Island Airport',\n",
       "  '31.0744722',\n",
       "  '-81.4277778',\n",
       "  '11',\n",
       "  '-4',\n",
       "  'A'),\n",
       " ('0A9',\n",
       "  'Elizabethton Municipal Airport',\n",
       "  '36.3712222',\n",
       "  '-82.1734167',\n",
       "  '1593',\n",
       "  '-4',\n",
       "  'A')]"
      ]
     },
     "execution_count": 15,
     "metadata": {},
     "output_type": "execute_result"
    }
   ],
   "source": [
    "#rdd\n",
    "\n",
    "def dst(row):\n",
    "    if(row[6] == 'U'):\n",
    "        row = row[:6] + ('A',)\n",
    "    return row\n",
    "\n",
    "rdd_airports = rdd_airports.map(dst)\n",
    "rdd_airports.take(6)"
   ]
  },
  {
   "cell_type": "markdown",
   "id": "b9910cb5",
   "metadata": {},
   "source": [
    "### Pergunta 4"
   ]
  },
  {
   "cell_type": "code",
   "execution_count": 16,
   "id": "4e1b3b02",
   "metadata": {
    "scrolled": false
   },
   "outputs": [
    {
     "name": "stdout",
     "output_type": "stream",
     "text": [
      "+-------------+-----+\n",
      "|       region|count|\n",
      "+-------------+-----+\n",
      "|       ALASKA|  261|\n",
      "|     OFFSHORE|    4|\n",
      "|MAINLAND-EAST|  696|\n",
      "|MAINLAND-WEST|  436|\n",
      "+-------------+-----+\n",
      "\n"
     ]
    }
   ],
   "source": [
    "df_airports = df_airports.withColumn(\"region\", \n",
    "                                    F.when(F.col(\"lon\") < -124, 'ALASKA')\n",
    "                                     .when((F.col(\"lon\") > -50) | (F.col(\"lat\") < 24),'OFFSHORE')\n",
    "                                     .when( F.col(\"lon\").between(-124,-95), 'MAINLAND-WEST')\n",
    "                                     .when( F.col(\"lon\").between(-95, -50), 'MAINLAND-EAST')\n",
    "                                     .otherwise('NaN'))\n",
    "\n",
    "df_airports.groupBy('region').count().show()"
   ]
  },
  {
   "cell_type": "markdown",
   "id": "0dedd198",
   "metadata": {},
   "source": [
    "### Pergunta 5"
   ]
  },
  {
   "cell_type": "code",
   "execution_count": 17,
   "id": "f94bb5bb",
   "metadata": {
    "scrolled": true
   },
   "outputs": [
    {
     "name": "stdout",
     "output_type": "stream",
     "text": [
      "+----+-----+\n",
      "|type|count|\n",
      "+----+-----+\n",
      "|  AD|    1|\n",
      "| NaN|  666|\n",
      "|  AS|   19|\n",
      "|  FL|   85|\n",
      "|  AK|   12|\n",
      "|  AP|  614|\n",
      "+----+-----+\n",
      "\n",
      "+---+--------------------+---------+-----------+----+----+---+-------------+----+\n",
      "|faa|                name|      lat|        lon| alt|  tz|dst|       region|type|\n",
      "+---+--------------------+---------+-----------+----+----+---+-------------+----+\n",
      "|06C| Schaumburg Regional| 41.98934|  -88.10124| 801|-6.0|  A|MAINLAND-EAST| NaN|\n",
      "|0P2|Shoestring Aviati...|39.794823| -76.647194|1000|-5.0|  A|MAINLAND-EAST| NaN|\n",
      "|0S9|Jefferson County ...| 48.05381|-122.810646| 108|-8.0|  A|MAINLAND-WEST| NaN|\n",
      "|1B9| Mansfield Municipal|42.000134|  -71.19677| 122|-5.0|  A|MAINLAND-EAST| NaN|\n",
      "|3G3| Wadsworth Municipal| 41.00316|  -81.75644| 974|-5.0|  A|MAINLAND-EAST| NaN|\n",
      "|49X|   Chemehuevi Valley| 34.52889| -114.43197| 638|-8.0|  A|MAINLAND-WEST| NaN|\n",
      "|4U9|   Dell Flight Strip| 44.73575| -112.72002|6007|-7.0|  A|MAINLAND-WEST| NaN|\n",
      "|6S2|            Florence| 43.98282| -124.11137|  51|-7.0|  A|       ALASKA| NaN|\n",
      "|ABE|  Lehigh Valley Intl|40.652084|   -75.4408| 393|-5.0|  A|MAINLAND-EAST| NaN|\n",
      "|ABI|        Abilene Rgnl| 32.41132|   -99.6819|1791|-6.0|  A|MAINLAND-WEST| NaN|\n",
      "|ABQ|Albuquerque Inter...|35.040222| -106.60919|5355|-7.0|  A|MAINLAND-WEST| NaN|\n",
      "|ACK|       Nantucket Mem| 41.25305|  -70.06018|  48|-5.0|  A|MAINLAND-EAST| NaN|\n",
      "|ACT|           Waco Rgnl|31.611288|  -97.23052| 516|-6.0|  A|MAINLAND-WEST| NaN|\n",
      "|ACV|              Arcata| 40.97811| -124.10861| 221|-8.0|  A|       ALASKA| NaN|\n",
      "|ACY|  Atlantic City Intl|39.457584|  -74.57716|  75|-5.0|  A|MAINLAND-EAST| NaN|\n",
      "|ADM|        Ardmore Muni|34.300835|  -97.00889| 762|-6.0|  A|MAINLAND-WEST| NaN|\n",
      "|ADQ|              Kodiak|57.749966| -152.49385|  78|-9.0|  A|       ALASKA| NaN|\n",
      "|ADS|             Addison| 32.96856|  -96.83645| 644|-5.0|  A|MAINLAND-WEST| NaN|\n",
      "|ADW|         Andrews Afb|38.810806|  -76.86703| 280|-5.0|  A|MAINLAND-EAST| NaN|\n",
      "|AEX|     Alexandria Intl|  31.3274| -92.549835|  89|-6.0|  A|MAINLAND-EAST| NaN|\n",
      "+---+--------------------+---------+-----------+----+----+---+-------------+----+\n",
      "only showing top 20 rows\n",
      "\n"
     ]
    }
   ],
   "source": [
    "AP_LIST = [ \"Airport\", \"Tradeport\", \"Heliport\", \"Airpor\",\"Arpt\"]\n",
    "REGEX_AP = r'|'.join(map(lambda word: f'.*(^| ){word}( |$).*', AP_LIST))\n",
    "\n",
    "df_airports = df_airports.withColumn(\"type\",\n",
    "                                    F.when(F.col(\"name\").rlike(REGEX_AP), 'AP')\n",
    "                                     .when(F.col(\"name\").contains(\"Aerodrome\"), 'AD')\n",
    "                                     .when(F.col(\"name\").contains(\"Airpark\") | F.col(\"name\").contains(\"Aero Park\"), 'AK')\n",
    "                                     .when(F.col(\"name\").contains(\"Station\") | F.col(\"name\").contains(\"Air Station\"), 'AS')\n",
    "                                     .when(F.col(\"name\").contains(\"Field\")| F.col(\"name\").contains(\"Fld\"), 'FL')\n",
    "                                     .otherwise('NaN'))\n",
    "\n",
    "df_airports.groupBy('type').count().show()\n",
    "df_airports.filter(F.col('type') == 'NaN').show()"
   ]
  },
  {
   "cell_type": "markdown",
   "id": "11245626",
   "metadata": {},
   "source": [
    "### Pergunta 6"
   ]
  },
  {
   "cell_type": "code",
   "execution_count": 18,
   "id": "d5b388cd",
   "metadata": {
    "scrolled": true
   },
   "outputs": [
    {
     "name": "stdout",
     "output_type": "stream",
     "text": [
      "+--------+-----+\n",
      "|military|count|\n",
      "+--------+-----+\n",
      "|    true|  160|\n",
      "|   false| 1237|\n",
      "+--------+-----+\n",
      "\n",
      "root\n",
      " |-- faa: string (nullable = true)\n",
      " |-- name: string (nullable = true)\n",
      " |-- lat: float (nullable = true)\n",
      " |-- lon: float (nullable = true)\n",
      " |-- alt: integer (nullable = true)\n",
      " |-- tz: float (nullable = true)\n",
      " |-- dst: string (nullable = true)\n",
      " |-- region: string (nullable = false)\n",
      " |-- type: string (nullable = false)\n",
      " |-- military: boolean (nullable = false)\n",
      "\n"
     ]
    }
   ],
   "source": [
    "MILITARY_LIST = [\"Base\", \"Aaf\", \"AFs\", \"Ahp\", \"Afb\", \"LRRS\", \"Lrrs\", \"Arb\",\n",
    "                 \"Naf\", \"NAS\", \"Nas\", \"Jrb\", \"Ns\", \"As\", \"Cgas\", \"Angb\"]\n",
    "\n",
    "REGEX_MILITARY = r'|'.join(map(lambda word: f'.*(^| ){word}( |$).*', MILITARY_LIST))\n",
    "\n",
    "df_airports = df_airports.withColumn(\"military\",\n",
    "                                     F.when(F.col(\"name\").rlike(REGEX_MILITARY), True)\n",
    "                                     .otherwise(False))\n",
    "\n",
    "df_airports.groupBy('military').count().show()\n",
    "df_airports.printSchema()"
   ]
  },
  {
   "cell_type": "markdown",
   "id": "7deb73fd",
   "metadata": {},
   "source": [
    "### Pergunta 7"
   ]
  },
  {
   "cell_type": "code",
   "execution_count": 19,
   "id": "657126f9",
   "metadata": {
    "scrolled": true
   },
   "outputs": [
    {
     "name": "stdout",
     "output_type": "stream",
     "text": [
      "+--------------+-----+\n",
      "|administration|count|\n",
      "+--------------+-----+\n",
      "|             M|  179|\n",
      "|             N|    5|\n",
      "|             R|  281|\n",
      "|           NaN|  768|\n",
      "|             I|  164|\n",
      "+--------------+-----+\n",
      "\n"
     ]
    }
   ],
   "source": [
    "REGEX_ADMINISTRATION = {'I': None, 'N': None, 'R' : None, 'M' : None}\n",
    "REGEX_ADMINISTRATION_LIST = [\n",
    "    [\"International\", \"Intl\", \"Intercontinental\"],\n",
    "    [\"National\", \"Natl\"],\n",
    "    [ \"Regional\", \"Reigonal\", \"Rgnl\", \"County\", \"Metro\", \"Metropolitan\"],\n",
    "    [\"Municipal\", \"Muni\", \"City\"]\n",
    "]\n",
    "\n",
    "for key, lista in zip(REGEX_ADMINISTRATION, REGEX_ADMINISTRATION_LIST):\n",
    "    REGEX_ADMINISTRATION[key] = r'|'.join(map(lambda word: f'.*(^| ){word}( |$).*', lista))\n",
    "\n",
    "df_airports = df_airports.withColumn(\"administration\", \n",
    "                                     F.when(F.col('name').rlike(REGEX_ADMINISTRATION['I']), 'I')\n",
    "                                    .when(F.col('name').rlike(REGEX_ADMINISTRATION['N']), 'N')\n",
    "                                    .when(F.col('name').rlike(REGEX_ADMINISTRATION['R']), 'R')\n",
    "                                    .when(F.col('name').rlike(REGEX_ADMINISTRATION['M']), 'M')\n",
    "                                    .otherwise('NaN'))\n",
    "\n",
    "df_airports.groupBy('administration').count().show()"
   ]
  },
  {
   "cell_type": "markdown",
   "id": "a6dd476a",
   "metadata": {},
   "source": [
    "## Dataset Planes"
   ]
  },
  {
   "cell_type": "markdown",
   "id": "8d624a77",
   "metadata": {},
   "source": [
    "### Pergunta 1\n"
   ]
  },
  {
   "cell_type": "code",
   "execution_count": 20,
   "id": "055dd38e",
   "metadata": {},
   "outputs": [
    {
     "name": "stdout",
     "output_type": "stream",
     "text": [
      "+-------+--------+\n",
      "|tailnum|tailchar|\n",
      "+-------+--------+\n",
      "| N11206|    null|\n",
      "| N12114|    null|\n",
      "| N12216|    null|\n",
      "| N12218|    null|\n",
      "| N12221|    null|\n",
      "| N12225|    null|\n",
      "| N12238|    null|\n",
      "| N13248|    null|\n",
      "| N13716|    null|\n",
      "| N13718|    null|\n",
      "| N14214|    null|\n",
      "| N14219|    null|\n",
      "| N14228|    null|\n",
      "| N14230|    null|\n",
      "| N14231|    null|\n",
      "| N14237|    null|\n",
      "| N14242|    null|\n",
      "| N14250|    null|\n",
      "| N14704|    null|\n",
      "| N14731|    null|\n",
      "+-------+--------+\n",
      "only showing top 20 rows\n",
      "\n",
      "+-------+--------+\n",
      "|tailnum|tailchar|\n",
      "+-------+--------+\n",
      "|  N1602|    null|\n",
      "|  N1603|    null|\n",
      "|  N1605|    null|\n",
      "|  N1608|    null|\n",
      "|  N1609|    null|\n",
      "|  N3752|    null|\n",
      "|  N3753|    null|\n",
      "|  N3756|    null|\n",
      "|  N3759|    null|\n",
      "|  N3765|    null|\n",
      "|  N3766|    null|\n",
      "|  N3767|    null|\n",
      "|  N3768|    null|\n",
      "|  N6700|    null|\n",
      "|  N6701|    null|\n",
      "|  N6702|    null|\n",
      "|  N6709|    null|\n",
      "|  N704X|       X|\n",
      "|  N744P|       P|\n",
      "+-------+--------+\n",
      "\n"
     ]
    }
   ],
   "source": [
    "df_planes = df_planes.withColumn(\"tailchar\", \n",
    "                                 F.when(df_planes.tailnum.rlike('[A-Z]{2}$'),df_planes.tailnum.substr(-2,6))\n",
    "                                 .when(df_planes.tailnum.rlike('[A-Z]$'), df_planes.tailnum.substr(-1,6)))\n",
    "df_planes.select('tailnum','tailchar').filter(F.col('tailchar').isNull()).show()\n",
    "\n",
    "df_planes.select('tailnum','tailchar').filter(F.length(F.col('tailnum')) == 5).show()"
   ]
  },
  {
   "cell_type": "markdown",
   "id": "36fac1be",
   "metadata": {},
   "source": [
    "### Pergunta 2\n"
   ]
  },
  {
   "cell_type": "code",
   "execution_count": 21,
   "id": "2f670c61",
   "metadata": {},
   "outputs": [
    {
     "name": "stdout",
     "output_type": "stream",
     "text": [
      "+-------+----+--------------------+------------+---------+-------+-----+-----+----------+--------+\n",
      "|tailnum|year|                type|manufacturer|    model|engines|seats|speed|    engine|tailchar|\n",
      "+-------+----+--------------------+------------+---------+-------+-----+-----+----------+--------+\n",
      "| N235SW|   0|Fixed wing multi ...|     EMBRAER|EMB-120ER|      2|   32| null|Turbo-prop|      SW|\n",
      "+-------+----+--------------------+------------+---------+-------+-----+-----+----------+--------+\n",
      "\n",
      "+-------+----+----+------------+-----+-------+-----+-----+------+--------+\n",
      "|tailnum|year|type|manufacturer|model|engines|seats|speed|engine|tailchar|\n",
      "+-------+----+----+------------+-----+-------+-----+-----+------+--------+\n",
      "+-------+----+----+------------+-----+-------+-----+-----+------+--------+\n",
      "\n"
     ]
    }
   ],
   "source": [
    "df_planes.filter(df_planes.year == 0).show()\n",
    "\n",
    "df_planes = df_planes.withColumn(\"year\", \n",
    "                                 F.when(df_planes.year == 0, 1996)\n",
    "                                 .otherwise(df_planes.year))\n",
    "\n",
    "df_planes.filter(df_planes.year == 0).show()"
   ]
  },
  {
   "cell_type": "markdown",
   "id": "b824e50a",
   "metadata": {},
   "source": [
    "### Pergunta 3"
   ]
  },
  {
   "cell_type": "code",
   "execution_count": 22,
   "id": "baeb91e0",
   "metadata": {
    "scrolled": true
   },
   "outputs": [
    {
     "name": "stdout",
     "output_type": "stream",
     "text": [
      "+-------+----+--------------------+------------+--------+-------+-----+-----+---------+--------+\n",
      "|tailnum|year|                type|manufacturer|   model|engines|seats|speed|   engine|tailchar|\n",
      "+-------+----+--------------------+------------+--------+-------+-----+-----+---------+--------+\n",
      "| N194UW|null|Fixed wing multi ...|      AIRBUS|A321-211|      2|  199| null|Turbo-fan|      UW|\n",
      "| N188US|2002|Fixed wing multi ...|      AIRBUS|A321-211|      2|  199| null|Turbo-fan|      US|\n",
      "| N187US|2002|Fixed wing multi ...|      AIRBUS|A321-211|      2|  199| null|Turbo-fan|      US|\n",
      "| N186US|2002|Fixed wing multi ...|      AIRBUS|A321-211|      2|  199| null|Turbo-fan|      US|\n",
      "| N193UW|2008|Fixed wing multi ...|      AIRBUS|A321-211|      2|  199| null|Turbo-fan|      UW|\n",
      "| N195UW|2008|Fixed wing multi ...|      AIRBUS|A321-211|      2|  199| null|Turbo-fan|      UW|\n",
      "| N196UW|2009|Fixed wing multi ...|      AIRBUS|A321-211|      2|  199| null|Turbo-fan|      UW|\n",
      "| N197UW|2009|Fixed wing multi ...|      AIRBUS|A321-211|      2|  199| null|Turbo-fan|      UW|\n",
      "| N150UW|2013|Fixed wing multi ...|      AIRBUS|A321-211|      2|  199| null|Turbo-fan|      UW|\n",
      "| N151UW|2013|Fixed wing multi ...|      AIRBUS|A321-211|      2|  199| null|Turbo-fan|      UW|\n",
      "| N153UW|2013|Fixed wing multi ...|      AIRBUS|A321-211|      2|  199| null|Turbo-fan|      UW|\n",
      "| N157UW|2013|Fixed wing multi ...|      AIRBUS|A321-211|      2|  199| null|Turbo-fan|      UW|\n",
      "| N152UW|2013|Fixed wing multi ...|      AIRBUS|A321-211|      2|  199| null|Turbo-fan|      UW|\n",
      "| N154UW|2013|Fixed wing multi ...|      AIRBUS|A321-211|      2|  199| null|Turbo-fan|      UW|\n",
      "| N155UW|2013|Fixed wing multi ...|      AIRBUS|A321-211|      2|  199| null|Turbo-fan|      UW|\n",
      "| N198UW|2013|Fixed wing multi ...|      AIRBUS|A321-211|      2|  199| null|Turbo-fan|      UW|\n",
      "| N199UW|2013|Fixed wing multi ...|      AIRBUS|A321-211|      2|  199| null|Turbo-fan|      UW|\n",
      "| N156UW|2013|Fixed wing multi ...|      AIRBUS|A321-211|      2|  199| null|Turbo-fan|      UW|\n",
      "+-------+----+--------------------+------------+--------+-------+-----+-----+---------+--------+\n",
      "\n",
      "+-------+----+--------------------+------------+-------+-------+-----+-----+---------+--------+\n",
      "|tailnum|year|                type|manufacturer|  model|engines|seats|speed|   engine|tailchar|\n",
      "+-------+----+--------------------+------------+-------+-------+-----+-----+---------+--------+\n",
      "| N76503|null|Fixed wing multi ...|      BOEING|737-824|      2|  149| null|Turbo-fan|    null|\n",
      "| N33292|null|Fixed wing multi ...|      BOEING|737-824|      2|  149| null|Turbo-fan|    null|\n",
      "| N76505|null|Fixed wing multi ...|      BOEING|737-824|      2|  149| null|Turbo-fan|    null|\n",
      "| N73278|null|Fixed wing multi ...|      BOEING|737-824|      2|  149| null|Turbo-fan|    null|\n",
      "| N76514|null|Fixed wing multi ...|      BOEING|737-824|      2|  149| null|Turbo-fan|    null|\n",
      "| N12216|1998|Fixed wing multi ...|      BOEING|737-824|      2|  149| null|Turbo-fan|    null|\n",
      "| N12221|1998|Fixed wing multi ...|      BOEING|737-824|      2|  149| null|Turbo-fan|    null|\n",
      "| N12218|1998|Fixed wing multi ...|      BOEING|737-824|      2|  149| null|Turbo-fan|    null|\n",
      "| N12225|1998|Fixed wing multi ...|      BOEING|737-824|      2|  149| null|Turbo-fan|    null|\n",
      "| N14214|1998|Fixed wing multi ...|      BOEING|737-824|      2|  149| null|Turbo-fan|    null|\n",
      "| N16217|1998|Fixed wing multi ...|      BOEING|737-824|      2|  149| null|Turbo-fan|    null|\n",
      "| N18223|1998|Fixed wing multi ...|      BOEING|737-824|      2|  149| null|Turbo-fan|    null|\n",
      "| N24212|1998|Fixed wing multi ...|      BOEING|737-824|      2|  149| null|Turbo-fan|    null|\n",
      "| N26210|1998|Fixed wing multi ...|      BOEING|737-824|      2|  149| null|Turbo-fan|    null|\n",
      "| N26226|1998|Fixed wing multi ...|      BOEING|737-824|      2|  149| null|Turbo-fan|    null|\n",
      "| N14219|1998|Fixed wing multi ...|      BOEING|737-824|      2|  149| null|Turbo-fan|    null|\n",
      "| N18220|1998|Fixed wing multi ...|      BOEING|737-824|      2|  149| null|Turbo-fan|    null|\n",
      "| N24211|1998|Fixed wing multi ...|      BOEING|737-824|      2|  149| null|Turbo-fan|    null|\n",
      "| N24224|1998|Fixed wing multi ...|      BOEING|737-824|      2|  149| null|Turbo-fan|    null|\n",
      "| N26215|1998|Fixed wing multi ...|      BOEING|737-824|      2|  149| null|Turbo-fan|    null|\n",
      "+-------+----+--------------------+------------+-------+-------+-----+-----+---------+--------+\n",
      "only showing top 20 rows\n",
      "\n",
      "+--------+----+------------+---+\n",
      "|   model|year|manufacturer|row|\n",
      "+--------+----+------------+---+\n",
      "|A319-111|2002|      AIRBUS|  1|\n",
      "|A319-111|2002|      AIRBUS|  2|\n",
      "|A319-111|2002|      AIRBUS|  3|\n",
      "|A319-111|2003|      AIRBUS|  4|\n",
      "|A319-111|2003|      AIRBUS|  5|\n",
      "|A319-111|2003|      AIRBUS|  6|\n",
      "|A319-111|2003|      AIRBUS|  7|\n",
      "|A319-111|2003|      AIRBUS|  8|\n",
      "|A319-111|2003|      AIRBUS|  9|\n",
      "|A319-111|2003|      AIRBUS| 10|\n",
      "|A319-111|2004|      AIRBUS| 11|\n",
      "|A319-111|2004|      AIRBUS| 12|\n",
      "|A319-111|2004|      AIRBUS| 13|\n",
      "|A319-111|2004|      AIRBUS| 14|\n",
      "|A319-111|2004|      AIRBUS| 15|\n",
      "|A319-111|2004|      AIRBUS| 16|\n",
      "|A319-111|2004|      AIRBUS| 17|\n",
      "|A319-111|2004|      AIRBUS| 18|\n",
      "|A319-111|2004|      AIRBUS| 19|\n",
      "|A319-111|2006|      AIRBUS| 20|\n",
      "+--------+----+------------+---+\n",
      "only showing top 20 rows\n",
      "\n",
      "+-------+----+--------------------+---------------+-------------+-------+-----+-----+-------------+--------+\n",
      "|tailnum|year|                type|   manufacturer|        model|engines|seats|speed|       engine|tailchar|\n",
      "+-------+----+--------------------+---------------+-------------+-------+-----+-----+-------------+--------+\n",
      "| N528AA|null|Fixed wing single...|LAMBERT RICHARD|    FALCON XP|      1|    2| null|Reciprocating|      AA|\n",
      "| N531JB|null|Fixed wing single...|  BARKER JACK L|ZODIAC 601HDS|      1|    2| null|Reciprocating|      JB|\n",
      "+-------+----+--------------------+---------------+-------------+-------+-----+-----+-------------+--------+\n",
      "\n",
      "+--------------------+-----+\n",
      "|        manufacturer|count|\n",
      "+--------------------+-----+\n",
      "|       BARKER JACK L|    1|\n",
      "|    AIRBUS INDUSTRIE|  401|\n",
      "|ROBINSON HELICOPT...|    1|\n",
      "|            SIKORSKY|    1|\n",
      "|              BOEING| 1460|\n",
      "|             EMBRAER|   37|\n",
      "|  CIRRUS DESIGN CORP|    1|\n",
      "|          MARZ BARRY|    1|\n",
      "|              CESSNA|    4|\n",
      "|     LAMBERT RICHARD|    1|\n",
      "|      BOMBARDIER INC|  214|\n",
      "|               PIPER|    2|\n",
      "|                BELL|    1|\n",
      "|MCDONNELL DOUGLAS...|    2|\n",
      "|   MCDONNELL DOUGLAS|   94|\n",
      "|        KILDALL GARY|    1|\n",
      "|            CANADAIR|    8|\n",
      "|              AIRBUS|  397|\n",
      "|GULFSTREAM AEROSPACE|    1|\n",
      "+--------------------+-----+\n",
      "\n",
      "+-------+----+--------------------+------------+--------+-------+-----+-----+---------+--------+\n",
      "|tailnum|year|                type|manufacturer|   model|engines|seats|speed|   engine|tailchar|\n",
      "+-------+----+--------------------+------------+--------+-------+-----+-----+---------+--------+\n",
      "| N194UW|2002|Fixed wing multi ...|      AIRBUS|A321-211|      2|  199| null|Turbo-fan|      UW|\n",
      "| N33292|1998|Fixed wing multi ...|      BOEING| 737-824|      2|  149| null|Turbo-fan|    null|\n",
      "+-------+----+--------------------+------------+--------+-------+-----+-----+---------+--------+\n",
      "\n"
     ]
    },
    {
     "data": {
      "text/plain": [
       "2628"
      ]
     },
     "execution_count": 22,
     "metadata": {},
     "output_type": "execute_result"
    }
   ],
   "source": [
    "from pyspark.sql.window import Window\n",
    "\n",
    "w = Window.partitionBy(\"manufacturer\", \"model\").orderBy(F.col(\"manufacturer\"), F.col(\"model\"), F.col(\"year\"))\n",
    "w2 = Window.partitionBy(\"manufacturer\").orderBy(F.col(\"manufacturer\"), F.col(\"model\"), F.col(\"year\"))\n",
    "\n",
    "df_planes.filter((F.col('model').like('A321-211') ) & (F.col('manufacturer').like('AIRBUS'))).orderBy('year').show()\n",
    "df_planes.filter((F.col('model').like('737-824') ) & (F.col('manufacturer').like('BOEING'))).orderBy('year').show()\n",
    "\n",
    "\n",
    "df_planes_year_not_null = df_planes.select('model','year','manufacturer').filter(df_planes.year.isNotNull())\n",
    "df_planes_year_reference = df_planes_year_not_null.withColumn(\"row\",F.row_number().over(w))\n",
    "df_planes_year_reference.show()\n",
    "\n",
    "\n",
    "df_planes_year_reference = (df_planes_year_reference\n",
    "           .filter(df_planes_year_reference.row == 1)\n",
    "           .drop(\"row\")\n",
    "          )\n",
    "df_planes_year_reference = (df_planes_year_reference\n",
    "           .withColumnRenamed(\"year\",\"year_1\")\n",
    "           .withColumnRenamed(\"manufacturer\",\"manufacturer_1\")\n",
    "          .withColumnRenamed(\"model\",\"model_1\"))\n",
    "\n",
    "df_planes_1 = df_planes.join(df_planes_year_reference, \n",
    "                             (df_planes.manufacturer == df_planes_year_reference.manufacturer_1) &\n",
    "                            (df_planes.model == df_planes_year_reference.model_1),\n",
    "                             \"left\")\n",
    "\n",
    "df_planes_year_reference = df_planes_year_not_null.withColumn(\"row\",F.row_number().over(w2))\n",
    "df_planes_year_reference = df_planes_year_reference.filter(df_planes_year_reference.row == 1).drop(\"row\")\n",
    "df_planes_year_reference = (df_planes_year_reference\n",
    "           .withColumnRenamed(\"year\",\"year_2\")\n",
    "           .withColumnRenamed(\"manufacturer\",\"manufacturer_2\")\n",
    "            .withColumnRenamed(\"model\", \"model_2\")\n",
    "          )\n",
    "df_planes_1 = df_planes_1.join(df_planes_year_reference, \n",
    "                               df_planes_1.manufacturer == df_planes_year_reference.manufacturer_2,\n",
    "                               \"left\")\n",
    "\n",
    "df_planes_1 = df_planes_1.withColumn(\"year\",\n",
    "                                     F.when(df_planes_1.year.isNull(), df_planes_1.year_1)\n",
    "                                     .otherwise(df_planes_1.year))\n",
    "df_planes_1 = df_planes_1.withColumn(\"year\",\n",
    "                                    F.when(df_planes_1.year.isNull(),df_planes_1.year_2)\n",
    "                                     .otherwise(df_planes_1.year))\n",
    "\n",
    "df_planes = df_planes_1.drop(\"year_1\", \"year_2\",'model_1','model_2','manufacturer_1','manufacturer_2')\n",
    "\n",
    "\n",
    "df_planes.filter(df_planes.year.isNull()).show()\n",
    "df_planes.groupBy('manufacturer').count().show()\n",
    "df_planes.filter(df_planes.tailnum.isin(['N194UW','N33292'])).show()\n",
    "df_planes.count()\n"
   ]
  },
  {
   "cell_type": "markdown",
   "id": "9fb32b78",
   "metadata": {},
   "source": [
    "### Pergunta 4"
   ]
  },
  {
   "cell_type": "code",
   "execution_count": 23,
   "id": "43117c12",
   "metadata": {
    "scrolled": true
   },
   "outputs": [
    {
     "name": "stdout",
     "output_type": "stream",
     "text": [
      "+-------+----+--------------------+----------------+--------+-------+-----+-----+---------+--------+---+\n",
      "|tailnum|year|                type|    manufacturer|   model|engines|seats|speed|   engine|tailchar|age|\n",
      "+-------+----+--------------------+----------------+--------+-------+-----+-----+---------+--------+---+\n",
      "| N102UW|1998|Fixed wing multi ...|AIRBUS INDUSTRIE|A320-214|      2|  182| null|Turbo-fan|      UW| 24|\n",
      "| N103US|1999|Fixed wing multi ...|AIRBUS INDUSTRIE|A320-214|      2|  182| null|Turbo-fan|      US| 23|\n",
      "| N104UW|1999|Fixed wing multi ...|AIRBUS INDUSTRIE|A320-214|      2|  182| null|Turbo-fan|      UW| 23|\n",
      "| N105UW|1999|Fixed wing multi ...|AIRBUS INDUSTRIE|A320-214|      2|  182| null|Turbo-fan|      UW| 23|\n",
      "| N107US|1999|Fixed wing multi ...|AIRBUS INDUSTRIE|A320-214|      2|  182| null|Turbo-fan|      US| 23|\n",
      "| N108UW|1999|Fixed wing multi ...|AIRBUS INDUSTRIE|A320-214|      2|  182| null|Turbo-fan|      UW| 23|\n",
      "| N109UW|1999|Fixed wing multi ...|AIRBUS INDUSTRIE|A320-214|      2|  182| null|Turbo-fan|      UW| 23|\n",
      "| N110UW|1999|Fixed wing multi ...|AIRBUS INDUSTRIE|A320-214|      2|  182| null|Turbo-fan|      UW| 23|\n",
      "| N111US|1999|Fixed wing multi ...|AIRBUS INDUSTRIE|A320-214|      2|  182| null|Turbo-fan|      US| 23|\n",
      "| N11206|2000|Fixed wing multi ...|          BOEING| 737-824|      2|  149| null|Turbo-fan|    null| 22|\n",
      "| N112US|1999|Fixed wing multi ...|AIRBUS INDUSTRIE|A320-214|      2|  182| null|Turbo-fan|      US| 23|\n",
      "| N113UW|1999|Fixed wing multi ...|AIRBUS INDUSTRIE|A320-214|      2|  182| null|Turbo-fan|      UW| 23|\n",
      "| N114UW|1999|Fixed wing multi ...|AIRBUS INDUSTRIE|A320-214|      2|  182| null|Turbo-fan|      UW| 23|\n",
      "| N117UW|2000|Fixed wing multi ...|AIRBUS INDUSTRIE|A320-214|      2|  182| null|Turbo-fan|      UW| 22|\n",
      "| N118US|2000|Fixed wing multi ...|AIRBUS INDUSTRIE|A320-214|      2|  182| null|Turbo-fan|      US| 22|\n",
      "| N119US|2000|Fixed wing multi ...|AIRBUS INDUSTRIE|A320-214|      2|  182| null|Turbo-fan|      US| 22|\n",
      "| N1200K|1998|Fixed wing multi ...|          BOEING| 767-332|      2|  330| null|Turbo-fan|       K| 24|\n",
      "| N1201P|1998|Fixed wing multi ...|          BOEING| 767-332|      2|  330| null|Turbo-fan|       P| 24|\n",
      "| N12114|1995|Fixed wing multi ...|          BOEING| 757-224|      2|  178| null|Turbo-jet|    null| 27|\n",
      "| N121DE|1987|Fixed wing multi ...|          BOEING| 767-332|      2|  330| null|Turbo-fan|      DE| 35|\n",
      "+-------+----+--------------------+----------------+--------+-------+-----+-----+---------+--------+---+\n",
      "only showing top 20 rows\n",
      "\n",
      "+-------+----+--------------------+---------------+-------------+-------+-----+-----+-------------+--------+----+\n",
      "|tailnum|year|                type|   manufacturer|        model|engines|seats|speed|       engine|tailchar| age|\n",
      "+-------+----+--------------------+---------------+-------------+-------+-----+-----+-------------+--------+----+\n",
      "| N528AA|null|Fixed wing single...|LAMBERT RICHARD|    FALCON XP|      1|    2| null|Reciprocating|      AA|null|\n",
      "| N531JB|null|Fixed wing single...|  BARKER JACK L|ZODIAC 601HDS|      1|    2| null|Reciprocating|      JB|null|\n",
      "+-------+----+--------------------+---------------+-------------+-------+-----+-----+-------------+--------+----+\n",
      "\n"
     ]
    }
   ],
   "source": [
    "from datetime import datetime\n",
    "\n",
    "hoje = datetime.now()\n",
    "ano_atual = hoje.year\n",
    "\n",
    "df_planes = df_planes.withColumn(\"age\", ano_atual - df_planes.year)\n",
    "df_planes.show()\n",
    "df_planes.filter(df_planes.age.isNull()).show()"
   ]
  },
  {
   "cell_type": "markdown",
   "id": "6810ef56",
   "metadata": {},
   "source": [
    "### Pergunta 5"
   ]
  },
  {
   "cell_type": "code",
   "execution_count": 24,
   "id": "8eee6689",
   "metadata": {},
   "outputs": [
    {
     "name": "stdout",
     "output_type": "stream",
     "text": [
      "+----------+-----+\n",
      "|      type|count|\n",
      "+----------+-----+\n",
      "|SINGLE_ENG|   10|\n",
      "| MULTI_ENG| 2615|\n",
      "|ROTORCRAFT|    3|\n",
      "+----------+-----+\n",
      "\n"
     ]
    }
   ],
   "source": [
    "df_planes = df_planes.withColumn(\"type\", \n",
    "                                 F.when(df_planes.type.startswith('Ro'), 'ROTORCRAFT')\n",
    "                                 .when(df_planes.type.endswith('multi engine'), 'MULTI_ENG')\n",
    "                                .when(df_planes.type.endswith('single engine'), 'SINGLE_ENG')\n",
    "                                .otherwise(df_planes.type))\n",
    "df_planes.select('type').groupBy('type').count().show()\n"
   ]
  },
  {
   "cell_type": "markdown",
   "id": "e038bc82",
   "metadata": {},
   "source": [
    "### Pergunta 6\n"
   ]
  },
  {
   "cell_type": "code",
   "execution_count": 25,
   "id": "8edfbc1c",
   "metadata": {
    "scrolled": true
   },
   "outputs": [
    {
     "name": "stdout",
     "output_type": "stream",
     "text": [
      "+--------------------+-----+\n",
      "|        manufacturer|count|\n",
      "+--------------------+-----+\n",
      "|              AIRBUS|  397|\n",
      "|    AIRBUS INDUSTRIE|  401|\n",
      "|       BARKER JACK L|    1|\n",
      "|                BELL|    1|\n",
      "|              BOEING| 1460|\n",
      "|      BOMBARDIER INC|  214|\n",
      "|            CANADAIR|    8|\n",
      "|              CESSNA|    4|\n",
      "|  CIRRUS DESIGN CORP|    1|\n",
      "|             EMBRAER|   37|\n",
      "|GULFSTREAM AEROSPACE|    1|\n",
      "|        KILDALL GARY|    1|\n",
      "|     LAMBERT RICHARD|    1|\n",
      "|          MARZ BARRY|    1|\n",
      "|   MCDONNELL DOUGLAS|   94|\n",
      "|MCDONNELL DOUGLAS...|    2|\n",
      "|               PIPER|    2|\n",
      "|ROBINSON HELICOPT...|    1|\n",
      "|            SIKORSKY|    1|\n",
      "+--------------------+-----+\n",
      "\n",
      "+-------------------+-----+\n",
      "|       manufacturer|count|\n",
      "+-------------------+-----+\n",
      "|             AIRBUS|  798|\n",
      "|        BARKER JACK|    1|\n",
      "|               BELL|    1|\n",
      "|             BOEING| 1460|\n",
      "|         BOMBARDIER|  214|\n",
      "|           CANADAIR|    8|\n",
      "|             CESSNA|    4|\n",
      "|             CIRRUS|    1|\n",
      "|            EMBRAER|   37|\n",
      "|         GULFSTREAM|    1|\n",
      "|       KILDALL GARY|    1|\n",
      "|    LAMBERT RICHARD|    1|\n",
      "|         MARZ BARRY|    1|\n",
      "|  MCDONNELL DOUGLAS|   96|\n",
      "|              PIPER|    2|\n",
      "|ROBINSON HELICOPTER|    1|\n",
      "|           SIKORSKY|    1|\n",
      "+-------------------+-----+\n",
      "\n"
     ]
    },
    {
     "data": {
      "text/plain": [
       "2628"
      ]
     },
     "execution_count": 25,
     "metadata": {},
     "output_type": "execute_result"
    }
   ],
   "source": [
    "df_planes.select('manufacturer').groupBy(\"manufacturer\").count().orderBy(\"manufacturer\").show()\n",
    "\n",
    "df_planes = df_planes.withColumn(\"manufacturer\", \n",
    "                                 F.when(df_planes.manufacturer.startswith('AIR'),'AIRBUS')\n",
    "                                 .when(F.col('manufacturer').startswith('MCD'), 'MCDONNELL DOUGLAS')\n",
    "                                 .when(F.col('manufacturer').startswith('BARKER'),'BARKER JACK')\n",
    "                                 .when(F.col('manufacturer').startswith('BOM'), 'BOMBARDIER')\n",
    "                                 .when(F.col('manufacturer').startswith('CIRR'),'CIRRUS')\n",
    "                                 .when(F.col('manufacturer').startswith('GU'),'GULFSTREAM')\n",
    "                                 .when(F.col('manufacturer').startswith('RO'),'ROBINSON HELICOPTER')\n",
    "                                 .otherwise(df_planes.manufacturer))\n",
    "\n",
    "df_planes.select('manufacturer').groupBy(\"manufacturer\").count().orderBy(\"manufacturer\").show()\n",
    "df_planes.count()"
   ]
  },
  {
   "cell_type": "markdown",
   "id": "e306aff5",
   "metadata": {},
   "source": [
    "### Pergunta 7\n"
   ]
  },
  {
   "cell_type": "code",
   "execution_count": 26,
   "id": "d2ca4e20",
   "metadata": {},
   "outputs": [
    {
     "name": "stdout",
     "output_type": "stream",
     "text": [
      "+-------+----+---------+-----------------+--------------+-------+-----+-----+---------+--------+---+\n",
      "|tailnum|year|     type|     manufacturer|         model|engines|seats|speed|   engine|tailchar|age|\n",
      "+-------+----+---------+-----------------+--------------+-------+-----+-----+---------+--------+---+\n",
      "| N426AA|1986|MULTI_ENG|MCDONNELL DOUGLAS|DC-9-82(MD-82)|      2|  172| null|Turbo-fan|      AA| 36|\n",
      "| N434AA|1987|MULTI_ENG|MCDONNELL DOUGLAS|DC-9-83(MD-83)|      2|  172| null|Turbo-fan|      AA| 35|\n",
      "| N436AA|1987|MULTI_ENG|MCDONNELL DOUGLAS|DC-9-83(MD-83)|      2|  172| null|Turbo-fan|      AA| 35|\n",
      "| N437AA|1987|MULTI_ENG|MCDONNELL DOUGLAS|DC-9-83(MD-83)|      2|  172| null|Turbo-fan|      AA| 35|\n",
      "| N438AA|1987|MULTI_ENG|MCDONNELL DOUGLAS|DC-9-83(MD-83)|      2|  172| null|Turbo-fan|      AA| 35|\n",
      "| N439AA|1987|MULTI_ENG|MCDONNELL DOUGLAS|DC-9-83(MD-83)|      2|  172| null|Turbo-fan|      AA| 35|\n",
      "| N456AA|1988|MULTI_ENG|MCDONNELL DOUGLAS|DC-9-82(MD-82)|      2|  172| null|Turbo-fan|      AA| 34|\n",
      "| N467AA|1988|MULTI_ENG|MCDONNELL DOUGLAS|DC-9-82(MD-82)|      2|  172| null|Turbo-fan|      AA| 34|\n",
      "| N468AA|1988|MULTI_ENG|MCDONNELL DOUGLAS|DC-9-82(MD-82)|      2|  172| null|Turbo-fan|      AA| 34|\n",
      "| N470AA|1988|MULTI_ENG|MCDONNELL DOUGLAS|DC-9-82(MD-82)|      2|  172| null|Turbo-fan|      AA| 34|\n",
      "| N472AA|1988|MULTI_ENG|MCDONNELL DOUGLAS|DC-9-82(MD-82)|      2|  172| null|Turbo-fan|      AA| 34|\n",
      "| N473AA|1988|MULTI_ENG|MCDONNELL DOUGLAS|DC-9-82(MD-82)|      2|  172| null|Turbo-fan|      AA| 34|\n",
      "| N476AA|1988|MULTI_ENG|MCDONNELL DOUGLAS|DC-9-82(MD-82)|      2|  172| null|Turbo-fan|      AA| 34|\n",
      "| N477AA|1988|MULTI_ENG|MCDONNELL DOUGLAS|DC-9-82(MD-82)|      2|  172| null|Turbo-fan|      AA| 34|\n",
      "| N478AA|1988|MULTI_ENG|MCDONNELL DOUGLAS|DC-9-82(MD-82)|      2|  172| null|Turbo-fan|      AA| 34|\n",
      "| N480AA|1988|MULTI_ENG|MCDONNELL DOUGLAS|DC-9-82(MD-82)|      2|  172| null|Turbo-fan|      AA| 34|\n",
      "| N481AA|1988|MULTI_ENG|MCDONNELL DOUGLAS|DC-9-82(MD-82)|      2|  172| null|Turbo-fan|      AA| 34|\n",
      "| N486AA|1988|MULTI_ENG|MCDONNELL DOUGLAS|DC-9-82(MD-82)|      2|  172| null|Turbo-fan|      AA| 34|\n",
      "| N487AA|1988|MULTI_ENG|MCDONNELL DOUGLAS|DC-9-82(MD-82)|      2|  172| null|Turbo-fan|      AA| 34|\n",
      "| N490AA|1989|MULTI_ENG|MCDONNELL DOUGLAS|DC-9-82(MD-82)|      2|  172| null|Turbo-fan|      AA| 33|\n",
      "+-------+----+---------+-----------------+--------------+-------+-----+-----+---------+--------+---+\n",
      "only showing top 20 rows\n",
      "\n",
      "+-------+----+----+------------+-----+-------+-----+-----+------+--------+---+\n",
      "|tailnum|year|type|manufacturer|model|engines|seats|speed|engine|tailchar|age|\n",
      "+-------+----+----+------------+-----+-------+-----+-----+------+--------+---+\n",
      "+-------+----+----+------------+-----+-------+-----+-----+------+--------+---+\n",
      "\n",
      "+-------+----+---------+-----------------+-------+-------+-----+-----+---------+--------+---+\n",
      "|tailnum|year|     type|     manufacturer|  model|engines|seats|speed|   engine|tailchar|age|\n",
      "+-------+----+---------+-----------------+-------+-------+-----+-----+---------+--------+---+\n",
      "| N426AA|1986|MULTI_ENG|MCDONNELL DOUGLAS|DC-9-82|      2|  172| null|Turbo-fan|      AA| 36|\n",
      "| N456AA|1988|MULTI_ENG|MCDONNELL DOUGLAS|DC-9-82|      2|  172| null|Turbo-fan|      AA| 34|\n",
      "| N467AA|1988|MULTI_ENG|MCDONNELL DOUGLAS|DC-9-82|      2|  172| null|Turbo-fan|      AA| 34|\n",
      "| N468AA|1988|MULTI_ENG|MCDONNELL DOUGLAS|DC-9-82|      2|  172| null|Turbo-fan|      AA| 34|\n",
      "| N470AA|1988|MULTI_ENG|MCDONNELL DOUGLAS|DC-9-82|      2|  172| null|Turbo-fan|      AA| 34|\n",
      "| N472AA|1988|MULTI_ENG|MCDONNELL DOUGLAS|DC-9-82|      2|  172| null|Turbo-fan|      AA| 34|\n",
      "| N473AA|1988|MULTI_ENG|MCDONNELL DOUGLAS|DC-9-82|      2|  172| null|Turbo-fan|      AA| 34|\n",
      "| N476AA|1988|MULTI_ENG|MCDONNELL DOUGLAS|DC-9-82|      2|  172| null|Turbo-fan|      AA| 34|\n",
      "| N477AA|1988|MULTI_ENG|MCDONNELL DOUGLAS|DC-9-82|      2|  172| null|Turbo-fan|      AA| 34|\n",
      "| N478AA|1988|MULTI_ENG|MCDONNELL DOUGLAS|DC-9-82|      2|  172| null|Turbo-fan|      AA| 34|\n",
      "| N480AA|1988|MULTI_ENG|MCDONNELL DOUGLAS|DC-9-82|      2|  172| null|Turbo-fan|      AA| 34|\n",
      "| N481AA|1988|MULTI_ENG|MCDONNELL DOUGLAS|DC-9-82|      2|  172| null|Turbo-fan|      AA| 34|\n",
      "| N486AA|1988|MULTI_ENG|MCDONNELL DOUGLAS|DC-9-82|      2|  172| null|Turbo-fan|      AA| 34|\n",
      "| N487AA|1988|MULTI_ENG|MCDONNELL DOUGLAS|DC-9-82|      2|  172| null|Turbo-fan|      AA| 34|\n",
      "| N490AA|1989|MULTI_ENG|MCDONNELL DOUGLAS|DC-9-82|      2|  172| null|Turbo-fan|      AA| 33|\n",
      "| N496AA|1989|MULTI_ENG|MCDONNELL DOUGLAS|DC-9-82|      2|  172| null|Turbo-fan|      AA| 33|\n",
      "| N499AA|1989|MULTI_ENG|MCDONNELL DOUGLAS|DC-9-82|      2|  172| null|Turbo-fan|      AA| 33|\n",
      "| N513AA|1990|MULTI_ENG|MCDONNELL DOUGLAS|DC-9-82|      2|  172| null|Turbo-fan|      AA| 32|\n",
      "| N553AA|1991|MULTI_ENG|MCDONNELL DOUGLAS|DC-9-82|      2|  172| null|Turbo-fan|      AA| 31|\n",
      "| N554AA|1991|MULTI_ENG|MCDONNELL DOUGLAS|DC-9-82|      2|  172| null|Turbo-fan|      AA| 31|\n",
      "+-------+----+---------+-----------------+-------+-------+-----+-----+---------+--------+---+\n",
      "only showing top 20 rows\n",
      "\n"
     ]
    }
   ],
   "source": [
    "df_planes.filter((F.col('model').contains('(')) | (F.col('model').contains(')'))).show()\n",
    "\n",
    "\n",
    "df_planes = df_planes.withColumn(\"model\", \n",
    "                                 F.when(F.col('model').contains('('), \n",
    "                                       F.regexp_replace('model',r'\\(([^()]*)\\)',''))\n",
    "                                 .when(F.col('model').contains(')'), \n",
    "                                       F.regexp_replace('model',r'\\(([^()]*)\\)',''))\n",
    "                                 .otherwise(F.col('model')))\n",
    "\n",
    "\n",
    "df_planes.filter((F.col('model').contains('(')) | (F.col('model').contains(')'))).show()\n",
    "df_planes.filter(F.col('model').contains('DC-9-82')).show()\n"
   ]
  },
  {
   "cell_type": "markdown",
   "id": "a709ae90",
   "metadata": {},
   "source": [
    "### Pergunta 8\n"
   ]
  },
  {
   "cell_type": "code",
   "execution_count": 27,
   "id": "9fc21247",
   "metadata": {
    "scrolled": true
   },
   "outputs": [
    {
     "name": "stdout",
     "output_type": "stream",
     "text": [
      "+-------+----+---------+------------+--------+-------+-----+-----+---------+--------+---+\n",
      "|tailnum|year|     type|manufacturer|   model|engines|seats|speed|   engine|tailchar|age|\n",
      "+-------+----+---------+------------+--------+-------+-----+-----+---------+--------+---+\n",
      "| N102UW|1998|MULTI_ENG|      AIRBUS|A320-214|      2|  182| null|Turbo-fan|      UW| 24|\n",
      "| N103US|1999|MULTI_ENG|      AIRBUS|A320-214|      2|  182| null|Turbo-fan|      US| 23|\n",
      "| N104UW|1999|MULTI_ENG|      AIRBUS|A320-214|      2|  182| null|Turbo-fan|      UW| 23|\n",
      "| N105UW|1999|MULTI_ENG|      AIRBUS|A320-214|      2|  182| null|Turbo-fan|      UW| 23|\n",
      "| N107US|1999|MULTI_ENG|      AIRBUS|A320-214|      2|  182| null|Turbo-fan|      US| 23|\n",
      "| N108UW|1999|MULTI_ENG|      AIRBUS|A320-214|      2|  182| null|Turbo-fan|      UW| 23|\n",
      "| N109UW|1999|MULTI_ENG|      AIRBUS|A320-214|      2|  182| null|Turbo-fan|      UW| 23|\n",
      "| N110UW|1999|MULTI_ENG|      AIRBUS|A320-214|      2|  182| null|Turbo-fan|      UW| 23|\n",
      "| N111US|1999|MULTI_ENG|      AIRBUS|A320-214|      2|  182| null|Turbo-fan|      US| 23|\n",
      "| N11206|2000|MULTI_ENG|      BOEING| 737-824|      2|  149| null|Turbo-fan|    null| 22|\n",
      "| N112US|1999|MULTI_ENG|      AIRBUS|A320-214|      2|  182| null|Turbo-fan|      US| 23|\n",
      "| N113UW|1999|MULTI_ENG|      AIRBUS|A320-214|      2|  182| null|Turbo-fan|      UW| 23|\n",
      "| N114UW|1999|MULTI_ENG|      AIRBUS|A320-214|      2|  182| null|Turbo-fan|      UW| 23|\n",
      "| N117UW|2000|MULTI_ENG|      AIRBUS|A320-214|      2|  182| null|Turbo-fan|      UW| 22|\n",
      "| N118US|2000|MULTI_ENG|      AIRBUS|A320-214|      2|  182| null|Turbo-fan|      US| 22|\n",
      "| N119US|2000|MULTI_ENG|      AIRBUS|A320-214|      2|  182| null|Turbo-fan|      US| 22|\n",
      "| N1200K|1998|MULTI_ENG|      BOEING| 767-332|      2|  330| null|Turbo-fan|       K| 24|\n",
      "| N1201P|1998|MULTI_ENG|      BOEING| 767-332|      2|  330| null|Turbo-fan|       P| 24|\n",
      "| N12114|1995|MULTI_ENG|      BOEING| 757-224|      2|  178| null|Turbo-jet|    null| 27|\n",
      "| N121DE|1987|MULTI_ENG|      BOEING| 767-332|      2|  330| null|Turbo-fan|      DE| 35|\n",
      "+-------+----+---------+------------+--------+-------+-----+-----+---------+--------+---+\n",
      "only showing top 20 rows\n",
      "\n",
      "+-------+----+----+------------+-----+-------+-----+-----+------+--------+---+\n",
      "|tailnum|year|type|manufacturer|model|engines|seats|speed|engine|tailchar|age|\n",
      "+-------+----+----+------------+-----+-------+-----+-----+------+--------+---+\n",
      "+-------+----+----+------------+-----+-------+-----+-----+------+--------+---+\n",
      "\n",
      "+-------+----+---------+------------+--------+-------+-----+-----+---------+--------+---+\n",
      "|tailnum|year|     type|manufacturer|   model|engines|seats|speed|   engine|tailchar|age|\n",
      "+-------+----+---------+------------+--------+-------+-----+-----+---------+--------+---+\n",
      "| N102UW|1998|MULTI_ENG|      AIRBUS|A320-214|      2|  182|  506|Turbo-fan|      UW| 24|\n",
      "+-------+----+---------+------------+--------+-------+-----+-----+---------+--------+---+\n",
      "\n"
     ]
    }
   ],
   "source": [
    "df_planes.filter(F.col('speed').isNull()).show()\n",
    "df_planes = df_planes.withColumn(\"speed\", \n",
    "                                 F.when(F.col('speed').isNull(), F.ceil(F.col('seats')/0.36))\n",
    "                                .otherwise(F.col('speed')))\n",
    "\n",
    "\n",
    "df_planes.filter(F.col('speed').isNull()).show()\n",
    "df_planes.filter(F.col('tailnum') == 'N102UW').show()"
   ]
  },
  {
   "cell_type": "markdown",
   "id": "2ec3d4fe",
   "metadata": {},
   "source": [
    "### Pergunta 9"
   ]
  },
  {
   "cell_type": "code",
   "execution_count": 28,
   "id": "a7528f74",
   "metadata": {
    "scrolled": true
   },
   "outputs": [
    {
     "name": "stdout",
     "output_type": "stream",
     "text": [
      "+-------------+\n",
      "|       engine|\n",
      "+-------------+\n",
      "|    Turbo-jet|\n",
      "|      4 Cycle|\n",
      "|    Turbo-fan|\n",
      "|   Turbo-prop|\n",
      "|Reciprocating|\n",
      "|  Turbo-shaft|\n",
      "+-------------+\n",
      "\n",
      "+-----------+-----+\n",
      "|engine_type|count|\n",
      "+-----------+-----+\n",
      "|       PROP|   37|\n",
      "|       null|   10|\n",
      "|      CYCLE|    1|\n",
      "|        FAN| 2127|\n",
      "|        JET|  450|\n",
      "|      SHAFT|    3|\n",
      "+-----------+-----+\n",
      "\n",
      "+-------+----+----------+---------------+-------------+-------+-----+-----+-------------+--------+----+-----------+\n",
      "|tailnum|year|      type|   manufacturer|        model|engines|seats|speed|       engine|tailchar| age|engine_type|\n",
      "+-------+----+----------+---------------+-------------+-------+-----+-----+-------------+--------+----+-----------+\n",
      "| N201AA|1959|SINGLE_ENG|         CESSNA|          150|      1|    2|   90|Reciprocating|      AA|  63|       null|\n",
      "| N202AA|1980| MULTI_ENG|         CESSNA|         421C|      2|    8|   90|Reciprocating|      AA|  42|       null|\n",
      "| N425AA|1968|SINGLE_ENG|          PIPER|    PA-28-180|      1|    4|  107|Reciprocating|      AA|  54|       null|\n",
      "| N508JB|2007|SINGLE_ENG|         CIRRUS|         SR22|      1|    4|   12|Reciprocating|      JB|  15|       null|\n",
      "| N520AA|1985|SINGLE_ENG|   KILDALL GARY|    FALCON-XP|      1|    2|    6|Reciprocating|      AA|  37|       null|\n",
      "| N528AA|null|SINGLE_ENG|LAMBERT RICHARD|    FALCON XP|      1|    2|    6|Reciprocating|      AA|null|       null|\n",
      "| N531JB|null|SINGLE_ENG|    BARKER JACK|ZODIAC 601HDS|      1|    2|    6|Reciprocating|      JB|null|       null|\n",
      "| N545AA|1976|SINGLE_ENG|          PIPER|   PA-32R-300|      1|    7|  126|Reciprocating|      AA|  46|       null|\n",
      "| N557AA|1993|SINGLE_ENG|     MARZ BARRY|    KITFOX IV|      1|    2|    6|Reciprocating|      AA|  29|       null|\n",
      "| N575AA|1963|SINGLE_ENG|         CESSNA|        210-5|      1|    6|   17|Reciprocating|      AA|  59|       null|\n",
      "+-------+----+----------+---------------+-------------+-------+-----+-----+-------------+--------+----+-----------+\n",
      "\n"
     ]
    }
   ],
   "source": [
    "df_planes.select('engine').distinct().show()\n",
    "\n",
    "df_planes = df_planes.withColumn('engine_type',\n",
    "                                F.when(F.col('engine').endswith('cle'), 'CYCLE')\n",
    "                                 .when(F.col('engine').endswith('aft'), 'SHAFT')\n",
    "                                 .when(F.col('engine').endswith('fan'), 'FAN')\n",
    "                                .when(F.col('engine').endswith('jet'),'JET')\n",
    "                                .when(F.col('engine').endswith('rop'),'PROP'))\n",
    "df_planes.groupBy('engine_type').count().show()\n",
    "df_planes.filter(F.col('engine_type').isNull()).show()\n"
   ]
  },
  {
   "cell_type": "markdown",
   "id": "2f6b9ee9",
   "metadata": {},
   "source": [
    "## Flights Dataset\n",
    "\n",
    "### Pergunta 1"
   ]
  },
  {
   "cell_type": "code",
   "execution_count": 29,
   "id": "9b1449f5",
   "metadata": {},
   "outputs": [
    {
     "name": "stdout",
     "output_type": "stream",
     "text": [
      "48\n",
      "48\n",
      "+----+-----+---+--------+---------+--------+---------+-------+-------+------+------+----+--------+--------+----+------+\n",
      "|year|month|day|dep_time|dep_delay|arr_time|arr_delay|carrier|tailnum|flight|origin|dest|air_time|distance|hour|minute|\n",
      "+----+-----+---+--------+---------+--------+---------+-------+-------+------+------+----+--------+--------+----+------+\n",
      "+----+-----+---+--------+---------+--------+---------+-------+-------+------+------+----+--------+--------+----+------+\n",
      "\n",
      "+----+-----+---+--------+---------+--------+---------+-------+-------+------+------+----+--------+--------+----+------+\n",
      "|year|month|day|dep_time|dep_delay|arr_time|arr_delay|carrier|tailnum|flight|origin|dest|air_time|distance|hour|minute|\n",
      "+----+-----+---+--------+---------+--------+---------+-------+-------+------+------+----+--------+--------+----+------+\n",
      "+----+-----+---+--------+---------+--------+---------+-------+-------+------+------+----+--------+--------+----+------+\n",
      "\n",
      "0\n",
      "0\n",
      "226\n",
      "137\n"
     ]
    }
   ],
   "source": [
    "print(df_flights.filter(F.col('minute').isNull()).count())\n",
    "print(df_flights.filter(F.col('hour').isNull()).count())\n",
    "\n",
    "df_flights = df_flights.withColumn(\"hour\", \n",
    "                                   F.when((F.col('hour').isNull()) |\n",
    "                                         F.col('hour').startswith('N') , 0)\n",
    "                                  .otherwise(F.col('hour')))\n",
    "\n",
    "df_flights = df_flights.withColumn(\"minute\", \n",
    "                                   F.when((F.col('minute').isNull()) |\n",
    "                                          F.col('minute').startswith('N'), 0) \n",
    "                                  .otherwise(F.col('minute')))\n",
    "\n",
    "df_flights.filter(F.col('minute').isNull()).show()\n",
    "df_flights.filter(F.col('hour').isNull()).show()\n",
    "print(df_flights.filter(F.col('minute').isNull()).count())\n",
    "print(df_flights.filter(F.col('hour').isNull()).count())\n",
    "print(df_flights.filter(F.col('minute')==0).count())\n",
    "print(df_flights.filter(F.col('hour')==0).count())"
   ]
  },
  {
   "cell_type": "markdown",
   "id": "3db4113e",
   "metadata": {},
   "source": [
    "### Pergunta 2\n"
   ]
  },
  {
   "cell_type": "code",
   "execution_count": 30,
   "id": "7d7755d5",
   "metadata": {},
   "outputs": [
    {
     "name": "stdout",
     "output_type": "stream",
     "text": [
      "+----+-----+---+--------+---------+--------+---------+-------+-------+------+------+----+--------+--------+----+------+\n",
      "|year|month|day|dep_time|dep_delay|arr_time|arr_delay|carrier|tailnum|flight|origin|dest|air_time|distance|hour|minute|\n",
      "+----+-----+---+--------+---------+--------+---------+-------+-------+------+------+----+--------+--------+----+------+\n",
      "|2014|    6| 20|    2400|       10|     535|        0|     AA| N3GHAA|  2486|   SEA| ORD|     197|    1721|  24|     0|\n",
      "+----+-----+---+--------+---------+--------+---------+-------+-------+------+------+----+--------+--------+----+------+\n",
      "\n",
      "+----+-----+---+--------+---------+--------+---------+-------+-------+------+------+----+--------+--------+----+------+\n",
      "|year|month|day|dep_time|dep_delay|arr_time|arr_delay|carrier|tailnum|flight|origin|dest|air_time|distance|hour|minute|\n",
      "+----+-----+---+--------+---------+--------+---------+-------+-------+------+------+----+--------+--------+----+------+\n",
      "+----+-----+---+--------+---------+--------+---------+-------+-------+------+------+----+--------+--------+----+------+\n",
      "\n"
     ]
    }
   ],
   "source": [
    "df_flights.filter(F.col('hour') == 24).show()\n",
    "\n",
    "df_flights = df_flights.withColumn(\"hour\", \n",
    "                                  F.when(F.col('hour') == 24, 0)\n",
    "                                   .otherwise(F.col('hour')))\n",
    "\n",
    "df_flights.filter(F.col('hour') == 24).show()"
   ]
  },
  {
   "cell_type": "markdown",
   "id": "4e6ea5ac",
   "metadata": {},
   "source": [
    "### Pergunta 3"
   ]
  },
  {
   "cell_type": "code",
   "execution_count": 31,
   "id": "3e22ce04",
   "metadata": {},
   "outputs": [
    {
     "name": "stdout",
     "output_type": "stream",
     "text": [
      "+-------------------+-------------------+\n",
      "|         dep_string|       dep_datetime|\n",
      "+-------------------+-------------------+\n",
      "|  2014-12-8 6:58:00|2014-12-08 06:58:00|\n",
      "| 2014-1-22 10:40:00|2014-01-22 10:40:00|\n",
      "|  2014-3-9 14:43:00|2014-03-09 14:43:00|\n",
      "|   2014-4-9 17:5:00|2014-04-09 17:05:00|\n",
      "|   2014-3-9 7:54:00|2014-03-09 07:54:00|\n",
      "| 2014-1-15 10:37:00|2014-01-15 10:37:00|\n",
      "|   2014-7-2 8:47:00|2014-07-02 08:47:00|\n",
      "| 2014-5-12 16:55:00|2014-05-12 16:55:00|\n",
      "| 2014-4-19 12:36:00|2014-04-19 12:36:00|\n",
      "|2014-11-19 18:12:00|2014-11-19 18:12:00|\n",
      "| 2014-11-8 16:53:00|2014-11-08 16:53:00|\n",
      "|  2014-8-3 11:20:00|2014-08-03 11:20:00|\n",
      "| 2014-10-30 8:11:00|2014-10-30 08:11:00|\n",
      "|2014-11-12 23:46:00|2014-11-12 23:46:00|\n",
      "|2014-10-31 13:14:00|2014-10-31 13:14:00|\n",
      "|  2014-1-29 20:9:00|2014-01-29 20:09:00|\n",
      "|2014-12-17 20:15:00|2014-12-17 20:15:00|\n",
      "| 2014-8-11 10:17:00|2014-08-11 10:17:00|\n",
      "| 2014-1-13 21:56:00|2014-01-13 21:56:00|\n",
      "|  2014-6-5 17:33:00|2014-06-05 17:33:00|\n",
      "|  2014-7-27 21:5:00|2014-07-27 21:05:00|\n",
      "|  2014-9-26 6:10:00|2014-09-26 06:10:00|\n",
      "| 2014-8-19 18:45:00|2014-08-19 18:45:00|\n",
      "| 2014-8-19 12:22:00|2014-08-19 12:22:00|\n",
      "| 2014-10-29 6:43:00|2014-10-29 06:43:00|\n",
      "|  2014-6-5 11:33:00|2014-06-05 11:33:00|\n",
      "| 2014-12-30 13:5:00|2014-12-30 13:05:00|\n",
      "| 2014-9-28 18:48:00|2014-09-28 18:48:00|\n",
      "|  2014-12-4 9:54:00|2014-12-04 09:54:00|\n",
      "|  2014-2-25 5:55:00|2014-02-25 05:55:00|\n",
      "+-------------------+-------------------+\n",
      "only showing top 30 rows\n",
      "\n",
      "+----+-----+---+--------+---------+--------+---------+-------+-------+------+------+----+--------+--------+----+------+------------+\n",
      "|year|month|day|dep_time|dep_delay|arr_time|arr_delay|carrier|tailnum|flight|origin|dest|air_time|distance|hour|minute|dep_datetime|\n",
      "+----+-----+---+--------+---------+--------+---------+-------+-------+------+------+----+--------+--------+----+------+------------+\n",
      "+----+-----+---+--------+---------+--------+---------+-------+-------+------+------+----+--------+--------+----+------+------------+\n",
      "\n"
     ]
    }
   ],
   "source": [
    "df_flights = df_flights.withColumn('dep_string', \n",
    "                                   F.concat(\n",
    "                                       F.col('year'),\n",
    "                                       F.lit('-'),\n",
    "                                       F.col('month'),\n",
    "                                       F.lit('-'),\n",
    "                                       F.col('day'),\n",
    "                                       F.lit(' '),\n",
    "                                       F.col('hour'),\n",
    "                                       F.lit(':'),\n",
    "                                       F.col('minute'),\n",
    "                                       F.lit(':00')\n",
    "                                   ))\n",
    "df_flights = df_flights.withColumn('dep_datetime', F.to_timestamp(F.col('dep_string'), 'yyyy-M-d H:m:00'))\n",
    "df_flights.select('dep_string','dep_datetime').show(30)\n",
    "df_flights = df_flights.drop('dep_string')\n",
    "df_flights.filter(df_flights.dep_datetime.isNull()).show()"
   ]
  },
  {
   "cell_type": "markdown",
   "id": "4d3fd216",
   "metadata": {},
   "source": [
    "### Pergunta 4\n"
   ]
  },
  {
   "cell_type": "code",
   "execution_count": 32,
   "id": "8ed4372d",
   "metadata": {},
   "outputs": [
    {
     "name": "stdout",
     "output_type": "stream",
     "text": [
      "+--------+\n",
      "|dep_time|\n",
      "+--------+\n",
      "|      NA|\n",
      "+--------+\n",
      "\n",
      "+----+-----+---+--------+---------+--------+---------+-------+-------+------+------+----+--------+--------+----+------+------------+\n",
      "|year|month|day|dep_time|dep_delay|arr_time|arr_delay|carrier|tailnum|flight|origin|dest|air_time|distance|hour|minute|dep_datetime|\n",
      "+----+-----+---+--------+---------+--------+---------+-------+-------+------+------+----+--------+--------+----+------+------------+\n",
      "+----+-----+---+--------+---------+--------+---------+-------+-------+------+------+----+--------+--------+----+------+------------+\n",
      "\n",
      "+--------+\n",
      "|dep_time|\n",
      "+--------+\n",
      "+--------+\n",
      "\n",
      "+----+-----+---+--------+---------+--------+---------+-------+-------+------+------+----+--------+--------+----+------+------------+\n",
      "|year|month|day|dep_time|dep_delay|arr_time|arr_delay|carrier|tailnum|flight|origin|dest|air_time|distance|hour|minute|dep_datetime|\n",
      "+----+-----+---+--------+---------+--------+---------+-------+-------+------+------+----+--------+--------+----+------+------------+\n",
      "+----+-----+---+--------+---------+--------+---------+-------+-------+------+------+----+--------+--------+----+------+------------+\n",
      "\n"
     ]
    }
   ],
   "source": [
    "df_flights.select('dep_time').filter(df_flights.dep_time.rlike(REGEX_NOT_NUM)).distinct().show()\n",
    "df_flights.filter(F.col('dep_time').isNull()).show()\n",
    "\n",
    "df_flights = df_flights.withColumn('dep_time', \n",
    "                                   F.when(F.col('dep_time').endswith('A')\n",
    "                                          , F.concat(F.col('hour'), \n",
    "                                                     F.when(F.length(F.col('minute'))== 1, \n",
    "                                                                     F.concat(F.lit('0'),F.col('minute')))\n",
    "                                                     .otherwise(F.col('minute'))))\n",
    "                                  .otherwise(F.col('dep_time')))\n",
    "                                  \n",
    "df_flights.select('dep_time').filter(df_flights.dep_time.rlike(REGEX_NOT_NUM)).distinct().show()\n",
    "df_flights.filter(F.col('dep_time').isNull()).show()\n",
    "\n"
   ]
  },
  {
   "cell_type": "markdown",
   "id": "4ac643ec",
   "metadata": {},
   "source": [
    "### Pergunta 5\n"
   ]
  },
  {
   "cell_type": "code",
   "execution_count": 33,
   "id": "06dde18a",
   "metadata": {},
   "outputs": [
    {
     "name": "stdout",
     "output_type": "stream",
     "text": [
      "+----+-----+---+--------+---------+--------+---------+-------+-------+------+------+----+--------+--------+----+------+-------------------+\n",
      "|year|month|day|dep_time|dep_delay|arr_time|arr_delay|carrier|tailnum|flight|origin|dest|air_time|distance|hour|minute|       dep_datetime|\n",
      "+----+-----+---+--------+---------+--------+---------+-------+-------+------+------+----+--------+--------+----+------+-------------------+\n",
      "|2014|    3|  4|     000|     null|      NA|     null|     UA|     NA|   156|   SEA| DEN|    null|    1024|   0|     0|2014-03-04 00:00:00|\n",
      "|2014|    2| 12|     000|     null|      NA|     null|     AS| N527AS|     2|   SEA| DCA|    null|    2329|   0|     0|2014-02-12 00:00:00|\n",
      "|2014|    7|  1|     000|     null|      NA|     null|     WN| N8323C|  2485|   SEA| MDW|    null|    1733|   0|     0|2014-07-01 00:00:00|\n",
      "|2014|    4| 30|     000|     null|      NA|     null|     AS| N526AS|   566|   PDX| LAX|    null|     834|   0|     0|2014-04-30 00:00:00|\n",
      "|2014|    1|  3|     000|     null|      NA|     null|     US|     NA|   553|   SEA| PHL|    null|    2378|   0|     0|2014-01-03 00:00:00|\n",
      "|2014|    8|  7|     000|     null|      NA|     null|     AS| N579AS|   867|   SEA| OGG|    null|    2640|   0|     0|2014-08-07 00:00:00|\n",
      "|2014|    8| 11|     000|     null|      NA|     null|     OO| N689CA|  4528|   PDX| SEA|    null|     129|   0|     0|2014-08-11 00:00:00|\n",
      "|2014|    1|  2|     000|     null|      NA|     null|     UA|     NA|   212|   SEA| EWR|    null|    2402|   0|     0|2014-01-02 00:00:00|\n",
      "|2014|    5| 15|     000|     null|      NA|     null|     OO| N917SW|  6250|   PDX| LAX|    null|     834|   0|     0|2014-05-15 00:00:00|\n",
      "|2014|    2|  7|     000|     null|      NA|     null|     OO| N594SW|  5553|   PDX| SFO|    null|     550|   0|     0|2014-02-07 00:00:00|\n",
      "|2014|    6|  6|     000|     null|      NA|     null|     WN| N645SW|   956|   PDX| OAK|    null|     543|   0|     0|2014-06-06 00:00:00|\n",
      "|2014|    1|  5|     000|     null|      NA|     null|     UA|     NA|   758|   PDX| IAH|    null|    1825|   0|     0|2014-01-05 00:00:00|\n",
      "|2014|    1|  6|     000|     null|      NA|     null|     UA|     NA|  1729|   SEA| DEN|    null|    1024|   0|     0|2014-01-06 00:00:00|\n",
      "|2014|    3| 30|     000|     null|      NA|     null|     US|     NA|   500|   SEA| PHX|    null|    1107|   0|     0|2014-03-30 00:00:00|\n",
      "|2014|    2|  9|     000|     null|      NA|     null|     OO| N580SW|  5438|   PDX| EUG|    null|     106|   0|     0|2014-02-09 00:00:00|\n",
      "|2014|    2|  9|     000|     null|      NA|     null|     OO| N297SW|  5342|   SEA| PDX|    null|     129|   0|     0|2014-02-09 00:00:00|\n",
      "|2014|    1|  1|     000|     null|      NA|     null|     OO| N295SW|  5403|   PDX| EUG|    null|     106|   0|     0|2014-01-01 00:00:00|\n",
      "|2014|    2| 17|     000|     null|      NA|     null|     AA| N3LCAA|  1236|   SEA| ORD|    null|    1721|   0|     0|2014-02-17 00:00:00|\n",
      "|2014|    1|  5|     000|     null|      NA|     null|     UA|     NA|   995|   PDX| SFO|    null|     550|   0|     0|2014-01-05 00:00:00|\n",
      "|2014|    5| 26|     000|     null|      NA|     null|     UA|     NA|   690|   SEA| ORD|    null|    1721|   0|     0|2014-05-26 00:00:00|\n",
      "+----+-----+---+--------+---------+--------+---------+-------+-------+------+------+----+--------+--------+----+------+-------------------+\n",
      "only showing top 20 rows\n",
      "\n",
      "48\n",
      "+----+-----+---+--------+---------+--------+---------+-------+-------+------+------+----+--------+--------+----+------+------------+\n",
      "|year|month|day|dep_time|dep_delay|arr_time|arr_delay|carrier|tailnum|flight|origin|dest|air_time|distance|hour|minute|dep_datetime|\n",
      "+----+-----+---+--------+---------+--------+---------+-------+-------+------+------+----+--------+--------+----+------+------------+\n",
      "+----+-----+---+--------+---------+--------+---------+-------+-------+------+------+----+--------+--------+----+------+------------+\n",
      "\n",
      "+----+-----+---+--------+---------+--------+---------+-------+-------+------+------+----+--------+--------+----+------+------------+\n",
      "|year|month|day|dep_time|dep_delay|arr_time|arr_delay|carrier|tailnum|flight|origin|dest|air_time|distance|hour|minute|dep_datetime|\n",
      "+----+-----+---+--------+---------+--------+---------+-------+-------+------+------+----+--------+--------+----+------+------------+\n",
      "+----+-----+---+--------+---------+--------+---------+-------+-------+------+------+----+--------+--------+----+------+------------+\n",
      "\n",
      "0\n",
      "+----+-----+---+--------+---------+--------+---------+-------+-------+------+------+----+--------+--------+----+------+------------+\n",
      "|year|month|day|dep_time|dep_delay|arr_time|arr_delay|carrier|tailnum|flight|origin|dest|air_time|distance|hour|minute|dep_datetime|\n",
      "+----+-----+---+--------+---------+--------+---------+-------+-------+------+------+----+--------+--------+----+------+------------+\n",
      "+----+-----+---+--------+---------+--------+---------+-------+-------+------+------+----+--------+--------+----+------+------------+\n",
      "\n"
     ]
    }
   ],
   "source": [
    "df_flights.filter(F.col('dep_delay').isNull()).show()\n",
    "print(df_flights.filter(F.col('dep_delay').isNull()).count())\n",
    "df_flights.filter(F.col('dep_delay').rlike(REGEX_NOT_NUM)).distinct().show()\n",
    "\n",
    "df_flights = df_flights.withColumn('dep_delay', \n",
    "                                   F.when(F.col('dep_delay').isNull(), 0)\n",
    "                                  .otherwise(F.col('dep_delay')))\n",
    "\n",
    "df_flights.filter(F.col('dep_delay').isNull()).show()\n",
    "print(df_flights.filter(F.col('dep_delay').isNull()).count())\n",
    "df_flights.filter(F.col('dep_delay').rlike(REGEX_NOT_NUM)).show()"
   ]
  },
  {
   "cell_type": "markdown",
   "id": "a3710909",
   "metadata": {},
   "source": [
    "### Pergunta 6\n"
   ]
  },
  {
   "cell_type": "code",
   "execution_count": 34,
   "id": "b0a01c24",
   "metadata": {},
   "outputs": [
    {
     "name": "stdout",
     "output_type": "stream",
     "text": [
      "+----+-----+---+--------+---------+--------+---------+-------+-------+------+------+----+--------+--------+----+------+-------------------+\n",
      "|year|month|day|dep_time|dep_delay|arr_time|arr_delay|carrier|tailnum|flight|origin|dest|air_time|distance|hour|minute|       dep_datetime|\n",
      "+----+-----+---+--------+---------+--------+---------+-------+-------+------+------+----+--------+--------+----+------+-------------------+\n",
      "|2014|    4|  6|    1329|        4|    2159|     null|     DL| N130DL|  1929|   SEA| ATL|    null|    2182|  13|    29|2014-04-06 13:29:00|\n",
      "|2014|    3|  4|     000|        0|      NA|     null|     UA|     NA|   156|   SEA| DEN|    null|    1024|   0|     0|2014-03-04 00:00:00|\n",
      "|2014|    2| 12|     000|        0|      NA|     null|     AS| N527AS|     2|   SEA| DCA|    null|    2329|   0|     0|2014-02-12 00:00:00|\n",
      "|2014|    7|  1|     000|        0|      NA|     null|     WN| N8323C|  2485|   SEA| MDW|    null|    1733|   0|     0|2014-07-01 00:00:00|\n",
      "|2014|   12| 27|    1420|       40|    2012|     null|     OO| N224AG|  3452|   SEA| HDN|    null|     891|  14|    20|2014-12-27 14:20:00|\n",
      "|2014|    4| 30|     000|        0|      NA|     null|     AS| N526AS|   566|   PDX| LAX|    null|     834|   0|     0|2014-04-30 00:00:00|\n",
      "|2014|    1|  3|     000|        0|      NA|     null|     US|     NA|   553|   SEA| PHL|    null|    2378|   0|     0|2014-01-03 00:00:00|\n",
      "|2014|    6| 11|    1054|       -9|    1624|     null|     OO| N926SW|  5576|   PDX| DEN|    null|     991|  10|    54|2014-06-11 10:54:00|\n",
      "|2014|    8|  7|     000|        0|      NA|     null|     AS| N579AS|   867|   SEA| OGG|    null|    2640|   0|     0|2014-08-07 00:00:00|\n",
      "|2014|    8| 11|     000|        0|      NA|     null|     OO| N689CA|  4528|   PDX| SEA|    null|     129|   0|     0|2014-08-11 00:00:00|\n",
      "|2014|    2|  6|    2238|        8|      NA|     null|     OO| N297SW|  5437|   PDX| LMT|    null|     241|  22|    38|2014-02-06 22:38:00|\n",
      "|2014|    1|  2|     000|        0|      NA|     null|     UA|     NA|   212|   SEA| EWR|    null|    2402|   0|     0|2014-01-02 00:00:00|\n",
      "|2014|    5| 15|     000|        0|      NA|     null|     OO| N917SW|  6250|   PDX| LAX|    null|     834|   0|     0|2014-05-15 00:00:00|\n",
      "|2014|    2|  7|     000|        0|      NA|     null|     OO| N594SW|  5553|   PDX| SFO|    null|     550|   0|     0|2014-02-07 00:00:00|\n",
      "|2014|    4| 15|     652|       -8|    1754|     null|     DL| N378DA|   400|   PDX| JFK|    null|    2454|   6|    52|2014-04-15 06:52:00|\n",
      "|2014|    6|  6|     000|        0|      NA|     null|     WN| N645SW|   956|   PDX| OAK|    null|     543|   0|     0|2014-06-06 00:00:00|\n",
      "|2014|    1|  5|     000|        0|      NA|     null|     UA|     NA|   758|   PDX| IAH|    null|    1825|   0|     0|2014-01-05 00:00:00|\n",
      "|2014|    1|  6|     000|        0|      NA|     null|     UA|     NA|  1729|   SEA| DEN|    null|    1024|   0|     0|2014-01-06 00:00:00|\n",
      "|2014|    3| 30|     000|        0|      NA|     null|     US|     NA|   500|   SEA| PHX|    null|    1107|   0|     0|2014-03-30 00:00:00|\n",
      "|2014|    5| 24|    1455|       55|    2212|     null|     UA| N37409|  1635|   SEA| IAH|    null|    1874|  14|    55|2014-05-24 14:55:00|\n",
      "+----+-----+---+--------+---------+--------+---------+-------+-------+------+------+----+--------+--------+----+------+-------------------+\n",
      "only showing top 20 rows\n",
      "\n",
      "75\n",
      "+----+-----+---+--------+---------+--------+---------+-------+-------+------+------+----+--------+--------+----+------+------------+\n",
      "|year|month|day|dep_time|dep_delay|arr_time|arr_delay|carrier|tailnum|flight|origin|dest|air_time|distance|hour|minute|dep_datetime|\n",
      "+----+-----+---+--------+---------+--------+---------+-------+-------+------+------+----+--------+--------+----+------+------------+\n",
      "+----+-----+---+--------+---------+--------+---------+-------+-------+------+------+----+--------+--------+----+------+------------+\n",
      "\n",
      "+----+-----+---+--------+---------+--------+---------+-------+-------+------+------+----+--------+--------+----+------+------------+\n",
      "|year|month|day|dep_time|dep_delay|arr_time|arr_delay|carrier|tailnum|flight|origin|dest|air_time|distance|hour|minute|dep_datetime|\n",
      "+----+-----+---+--------+---------+--------+---------+-------+-------+------+------+----+--------+--------+----+------+------------+\n",
      "+----+-----+---+--------+---------+--------+---------+-------+-------+------+------+----+--------+--------+----+------+------------+\n",
      "\n",
      "+----+-----+---+--------+---------+--------+---------+-------+-------+------+------+----+--------+--------+----+------+------------+\n",
      "|year|month|day|dep_time|dep_delay|arr_time|arr_delay|carrier|tailnum|flight|origin|dest|air_time|distance|hour|minute|dep_datetime|\n",
      "+----+-----+---+--------+---------+--------+---------+-------+-------+------+------+----+--------+--------+----+------+------------+\n",
      "+----+-----+---+--------+---------+--------+---------+-------+-------+------+------+----+--------+--------+----+------+------------+\n",
      "\n",
      "0\n"
     ]
    }
   ],
   "source": [
    "df_flights.filter(F.col('arr_delay').isNull()).show()\n",
    "print(df_flights.filter(F.col('arr_delay').isNull()).count())\n",
    "df_flights.filter(F.col('arr_delay').rlike(REGEX_NOT_NUM)).distinct().show()\n",
    "\n",
    "df_flights = df_flights.withColumn('arr_delay', \n",
    "                                  F.when(F.col('arr_delay').isNull(), 0)\n",
    "                                  .otherwise(F.col('arr_delay')))\n",
    "\n",
    "df_flights.filter(F.col('arr_delay').isNull()).show()\n",
    "df_flights.filter(F.col('arr_delay').rlike(REGEX_NOT_NUM)).show()\n",
    "print(df_flights.filter(F.col('dep_delay').isNull()).count())"
   ]
  },
  {
   "cell_type": "markdown",
   "id": "293a13ea",
   "metadata": {},
   "source": [
    "### Pergunta 7"
   ]
  },
  {
   "cell_type": "code",
   "execution_count": 35,
   "id": "e80e1d58",
   "metadata": {},
   "outputs": [
    {
     "name": "stdout",
     "output_type": "stream",
     "text": [
      "+--------+---------+--------+---------+-------+-------+------+------+----+--------+--------+-------------------+\n",
      "|dep_time|dep_delay|arr_time|arr_delay|carrier|tailnum|flight|origin|dest|air_time|distance|       dep_datetime|\n",
      "+--------+---------+--------+---------+-------+-------+------+------+----+--------+--------+-------------------+\n",
      "|     658|       -7|     935|       -5|     VX| N846VA|  1780|   SEA| LAX|     132|     954|2014-12-08 06:58:00|\n",
      "|    1040|        5|    1505|        5|     AS| N559AS|   851|   SEA| HNL|     360|    2677|2014-01-22 10:40:00|\n",
      "|    1443|       -2|    1652|        2|     VX| N847VA|   755|   SEA| SFO|     111|     679|2014-03-09 14:43:00|\n",
      "|    1705|       45|    1839|       34|     WN| N360SW|   344|   PDX| SJC|      83|     569|2014-04-09 17:05:00|\n",
      "|     754|       -1|    1015|        1|     AS| N612AS|   522|   SEA| BUR|     127|     937|2014-03-09 07:54:00|\n",
      "|    1037|        7|    1352|        2|     WN| N646SW|    48|   PDX| DEN|     121|     991|2014-01-15 10:37:00|\n",
      "|     847|       42|    1041|       51|     WN| N422WN|  1520|   PDX| OAK|      90|     543|2014-07-02 08:47:00|\n",
      "|    1655|       -5|    1842|      -18|     VX| N361VA|   755|   SEA| SFO|      98|     679|2014-05-12 16:55:00|\n",
      "|    1236|       -4|    1508|       -7|     AS| N309AS|   490|   SEA| SAN|     135|    1050|2014-04-19 12:36:00|\n",
      "|    1812|       -3|    2352|       -4|     AS| N564AS|    26|   SEA| ORD|     198|    1721|2014-11-19 18:12:00|\n",
      "|    1653|       -2|    1924|       -1|     AS| N323AS|   448|   SEA| LAX|     130|     954|2014-11-08 16:53:00|\n",
      "|    1120|        0|    1415|        2|     AS| N305AS|   656|   SEA| PHX|     154|    1107|2014-08-03 11:20:00|\n",
      "|     811|       21|    1038|       29|     AS| N433AS|   608|   SEA| LAS|     127|     867|2014-10-30 08:11:00|\n",
      "|    2346|       -4|     217|      -28|     AS| N765AS|   121|   SEA| ANC|     183|    1448|2014-11-12 23:46:00|\n",
      "|    1314|       89|    1544|      111|     AS| N713AS|   306|   SEA| SFO|     129|     679|2014-10-31 13:14:00|\n",
      "|    2009|        3|    2159|        9|     UA| N27205|  1458|   PDX| SFO|      90|     550|2014-01-29 20:09:00|\n",
      "|    2015|       50|    2150|       41|     AS| N626AS|   368|   SEA| SMF|      76|     605|2014-12-17 20:15:00|\n",
      "|    1017|       -3|    1613|       -7|     WN| N8634A|   827|   SEA| MDW|     216|    1733|2014-08-11 10:17:00|\n",
      "|    2156|       -9|     607|      -15|     AS| N597AS|    24|   SEA| BOS|     290|    2496|2014-01-13 21:56:00|\n",
      "|    1733|      -12|    1945|      -10|     OO| N215AG|  3488|   PDX| BUR|     111|     817|2014-06-05 17:33:00|\n",
      "+--------+---------+--------+---------+-------+-------+------+------+----+--------+--------+-------------------+\n",
      "only showing top 20 rows\n",
      "\n"
     ]
    }
   ],
   "source": [
    "df_flights = df_flights.drop('year','month','day','hour','minute')\n",
    "df_flights.show()"
   ]
  },
  {
   "cell_type": "markdown",
   "id": "25bb29e3",
   "metadata": {},
   "source": [
    "### Pergunta 8"
   ]
  },
  {
   "cell_type": "code",
   "execution_count": 36,
   "id": "c02079f2",
   "metadata": {
    "scrolled": true
   },
   "outputs": [
    {
     "name": "stdout",
     "output_type": "stream",
     "text": [
      "+--------+------------------+\n",
      "|distance|air_time_projected|\n",
      "+--------+------------------+\n",
      "|     954|               115|\n",
      "|    2677|               287|\n",
      "|     679|                87|\n",
      "|     569|                76|\n",
      "|     937|               113|\n",
      "|     991|               119|\n",
      "|     543|                74|\n",
      "|     679|                87|\n",
      "|    1050|               125|\n",
      "|    1721|               192|\n",
      "|     954|               115|\n",
      "|    1107|               130|\n",
      "|     867|               106|\n",
      "|    1448|               164|\n",
      "|     679|                87|\n",
      "|     550|                75|\n",
      "|     605|                80|\n",
      "|    1733|               193|\n",
      "|    2496|               269|\n",
      "|     817|               101|\n",
      "+--------+------------------+\n",
      "only showing top 20 rows\n",
      "\n"
     ]
    }
   ],
   "source": [
    "df_flights = df_flights.withColumn('air_time_projected', ((F.col('distance')*0.1) + 20).cast('int'))\n",
    "df_flights.select('distance','air_time_projected').show()"
   ]
  },
  {
   "cell_type": "markdown",
   "id": "cf63e286",
   "metadata": {},
   "source": [
    "### Pergunta 9\n"
   ]
  },
  {
   "cell_type": "code",
   "execution_count": 37,
   "id": "862c56a4",
   "metadata": {},
   "outputs": [
    {
     "name": "stdout",
     "output_type": "stream",
     "text": [
      "+--------+------+------------------+\n",
      "|origin_1|dest_1|     avg(air_time)|\n",
      "+--------+------+------------------+\n",
      "|     SEA|   RNO|            74.375|\n",
      "|     SEA|   DTW|219.81632653061226|\n",
      "|     SEA|   CLE|             233.5|\n",
      "|     SEA|   LAX| 126.8641425389755|\n",
      "|     PDX|   SEA|34.927536231884055|\n",
      "|     SEA|   BLI|              22.8|\n",
      "|     PDX|   IAH|213.83928571428572|\n",
      "|     PDX|   PHX|130.21153846153845|\n",
      "|     SEA|   SLC| 88.98222222222222|\n",
      "|     SEA|   SBA|118.30434782608695|\n",
      "|     SEA|   BWI| 269.8965517241379|\n",
      "|     PDX|   IAD| 267.8695652173913|\n",
      "|     PDX|   SFO| 85.42809364548495|\n",
      "|     SEA|   KOA|           347.075|\n",
      "|     PDX|   MCI|174.46666666666667|\n",
      "|     SEA|   SJC|103.13615023474179|\n",
      "|     SEA|   ABQ|142.74418604651163|\n",
      "|     SEA|   SAT|208.44444444444446|\n",
      "|     PDX|   ONT| 111.6842105263158|\n",
      "|     SEA|   LAS|118.46978021978022|\n",
      "+--------+------+------------------+\n",
      "only showing top 20 rows\n",
      "\n",
      "+--------+---------+--------+---------+-------+-------+------+------+----+--------+--------+-------------------+------------------+-----------------+\n",
      "|dep_time|dep_delay|arr_time|arr_delay|carrier|tailnum|flight|origin|dest|air_time|distance|       dep_datetime|air_time_projected|air_time_expected|\n",
      "+--------+---------+--------+---------+-------+-------+------+------+----+--------+--------+-------------------+------------------+-----------------+\n",
      "|     658|       -7|     935|       -5|     VX| N846VA|  1780|   SEA| LAX|     132|     954|2014-12-08 06:58:00|               115|              126|\n",
      "|    1040|        5|    1505|        5|     AS| N559AS|   851|   SEA| HNL|     360|    2677|2014-01-22 10:40:00|               287|              343|\n",
      "|    1443|       -2|    1652|        2|     VX| N847VA|   755|   SEA| SFO|     111|     679|2014-03-09 14:43:00|                87|              101|\n",
      "|    1705|       45|    1839|       34|     WN| N360SW|   344|   PDX| SJC|      83|     569|2014-04-09 17:05:00|                76|               85|\n",
      "|     754|       -1|    1015|        1|     AS| N612AS|   522|   SEA| BUR|     127|     937|2014-03-09 07:54:00|               113|              122|\n",
      "|    1037|        7|    1352|        2|     WN| N646SW|    48|   PDX| DEN|     121|     991|2014-01-15 10:37:00|               119|              123|\n",
      "|     847|       42|    1041|       51|     WN| N422WN|  1520|   PDX| OAK|      90|     543|2014-07-02 08:47:00|                74|               81|\n",
      "|    1655|       -5|    1842|      -18|     VX| N361VA|   755|   SEA| SFO|      98|     679|2014-05-12 16:55:00|                87|              101|\n",
      "|    1236|       -4|    1508|       -7|     AS| N309AS|   490|   SEA| SAN|     135|    1050|2014-04-19 12:36:00|               125|              137|\n",
      "|    1812|       -3|    2352|       -4|     AS| N564AS|    26|   SEA| ORD|     198|    1721|2014-11-19 18:12:00|               192|              202|\n",
      "|    1653|       -2|    1924|       -1|     AS| N323AS|   448|   SEA| LAX|     130|     954|2014-11-08 16:53:00|               115|              126|\n",
      "|    1120|        0|    1415|        2|     AS| N305AS|   656|   SEA| PHX|     154|    1107|2014-08-03 11:20:00|               130|              141|\n",
      "|     811|       21|    1038|       29|     AS| N433AS|   608|   SEA| LAS|     127|     867|2014-10-30 08:11:00|               106|              118|\n",
      "|    2346|       -4|     217|      -28|     AS| N765AS|   121|   SEA| ANC|     183|    1448|2014-11-12 23:46:00|               164|              190|\n",
      "|    1314|       89|    1544|      111|     AS| N713AS|   306|   SEA| SFO|     129|     679|2014-10-31 13:14:00|                87|              101|\n",
      "|    2009|        3|    2159|        9|     UA| N27205|  1458|   PDX| SFO|      90|     550|2014-01-29 20:09:00|                75|               85|\n",
      "|    2015|       50|    2150|       41|     AS| N626AS|   368|   SEA| SMF|      76|     605|2014-12-17 20:15:00|                80|               82|\n",
      "|    1017|       -3|    1613|       -7|     WN| N8634A|   827|   SEA| MDW|     216|    1733|2014-08-11 10:17:00|               193|              214|\n",
      "|    2156|       -9|     607|      -15|     AS| N597AS|    24|   SEA| BOS|     290|    2496|2014-01-13 21:56:00|               269|              286|\n",
      "|    1733|      -12|    1945|      -10|     OO| N215AG|  3488|   PDX| BUR|     111|     817|2014-06-05 17:33:00|               101|              108|\n",
      "+--------+---------+--------+---------+-------+-------+------+------+----+--------+--------+-------------------+------------------+-----------------+\n",
      "only showing top 20 rows\n",
      "\n"
     ]
    }
   ],
   "source": [
    "df_flights_avg_time = (df_flights.select('origin','dest','air_time')\n",
    "                       .filter((~F.col('air_time').startswith('N')) & F.col('air_time').isNotNull())\n",
    "                       )\n",
    "df_flights_avg_time = df_flights_avg_time.withColumn('air_time', F.col('air_time').cast('int'))\n",
    "df_flights_avg_time = df_flights_avg_time.groupBy(\"origin\",\"dest\").avg(\"air_time\")\n",
    "\n",
    "df_flights_avg_time = (df_flights_avg_time\n",
    "                       .withColumnRenamed(\"origin\",\"origin_1\")\n",
    "                       .withColumnRenamed(\"dest\",\"dest_1\"))\n",
    "\n",
    "\n",
    "df_flights_avg_time.show()\n",
    "\n",
    "\n",
    "df_flights = df_flights.join(df_flights_avg_time,\n",
    "                            (F.col('origin') == F.col('origin_1')) &\n",
    "                            (F.col('dest') == F.col('dest_1')),\n",
    "                            \"left\")\n",
    "df_flights = df_flights.withColumn('air_time_expected', F.col('avg(air_time)').cast('int'))\n",
    "df_flights = df_flights.drop('dest_1','origin_1','avg(air_time)')\n",
    "df_flights.show()"
   ]
  },
  {
   "cell_type": "markdown",
   "id": "a1bb9fe4",
   "metadata": {},
   "source": [
    "### Pergunta 10\n"
   ]
  },
  {
   "cell_type": "code",
   "execution_count": 38,
   "id": "1f422205",
   "metadata": {},
   "outputs": [
    {
     "name": "stdout",
     "output_type": "stream",
     "text": [
      "+--------+---------+--------+---------+-------+-------+------+------+----+--------+--------+-------------------+------------------+-----------------+\n",
      "|dep_time|dep_delay|arr_time|arr_delay|carrier|tailnum|flight|origin|dest|air_time|distance|       dep_datetime|air_time_projected|air_time_expected|\n",
      "+--------+---------+--------+---------+-------+-------+------+------+----+--------+--------+-------------------+------------------+-----------------+\n",
      "|    1329|        4|    2159|        0|     DL| N130DL|  1929|   SEA| ATL|    null|    2182|2014-04-06 13:29:00|               238|              245|\n",
      "|     000|        0|      NA|        0|     UA|     NA|   156|   SEA| DEN|    null|    1024|2014-03-04 00:00:00|               122|              127|\n",
      "|     000|        0|      NA|        0|     AS| N527AS|     2|   SEA| DCA|    null|    2329|2014-02-12 00:00:00|               252|              268|\n",
      "|     000|        0|      NA|        0|     WN| N8323C|  2485|   SEA| MDW|    null|    1733|2014-07-01 00:00:00|               193|              214|\n",
      "|    1420|       40|    2012|        0|     OO| N224AG|  3452|   SEA| HDN|    null|     891|2014-12-27 14:20:00|               109|              117|\n",
      "|     000|        0|      NA|        0|     AS| N526AS|   566|   PDX| LAX|    null|     834|2014-04-30 00:00:00|               103|              114|\n",
      "|     000|        0|      NA|        0|     US|     NA|   553|   SEA| PHL|    null|    2378|2014-01-03 00:00:00|               257|              279|\n",
      "|    1054|       -9|    1624|        0|     OO| N926SW|  5576|   PDX| DEN|    null|     991|2014-06-11 10:54:00|               119|              123|\n",
      "|     000|        0|      NA|        0|     AS| N579AS|   867|   SEA| OGG|    null|    2640|2014-08-07 00:00:00|               284|              339|\n",
      "|     000|        0|      NA|        0|     OO| N689CA|  4528|   PDX| SEA|    null|     129|2014-08-11 00:00:00|                32|               34|\n",
      "|    2238|        8|      NA|        0|     OO| N297SW|  5437|   PDX| LMT|    null|     241|2014-02-06 22:38:00|                44|               53|\n",
      "|     000|        0|      NA|        0|     UA|     NA|   212|   SEA| EWR|    null|    2402|2014-01-02 00:00:00|               260|              277|\n",
      "|     000|        0|      NA|        0|     OO| N917SW|  6250|   PDX| LAX|    null|     834|2014-05-15 00:00:00|               103|              114|\n",
      "|     000|        0|      NA|        0|     OO| N594SW|  5553|   PDX| SFO|    null|     550|2014-02-07 00:00:00|                75|               85|\n",
      "|     652|       -8|    1754|        0|     DL| N378DA|   400|   PDX| JFK|    null|    2454|2014-04-15 06:52:00|               265|              286|\n",
      "|     000|        0|      NA|        0|     WN| N645SW|   956|   PDX| OAK|    null|     543|2014-06-06 00:00:00|                74|               81|\n",
      "|     000|        0|      NA|        0|     UA|     NA|   758|   PDX| IAH|    null|    1825|2014-01-05 00:00:00|               202|              213|\n",
      "|     000|        0|      NA|        0|     UA|     NA|  1729|   SEA| DEN|    null|    1024|2014-01-06 00:00:00|               122|              127|\n",
      "|     000|        0|      NA|        0|     US|     NA|   500|   SEA| PHX|    null|    1107|2014-03-30 00:00:00|               130|              141|\n",
      "|    1455|       55|    2212|        0|     UA| N37409|  1635|   SEA| IAH|    null|    1874|2014-05-24 14:55:00|               207|              220|\n",
      "+--------+---------+--------+---------+-------+-------+------+------+----+--------+--------+-------------------+------------------+-----------------+\n",
      "only showing top 20 rows\n",
      "\n",
      "+--------+---------+--------+---------+-------+-------+------+------+----+--------+--------+------------+------------------+-----------------+\n",
      "|dep_time|dep_delay|arr_time|arr_delay|carrier|tailnum|flight|origin|dest|air_time|distance|dep_datetime|air_time_projected|air_time_expected|\n",
      "+--------+---------+--------+---------+-------+-------+------+------+----+--------+--------+------------+------------------+-----------------+\n",
      "+--------+---------+--------+---------+-------+-------+------+------+----+--------+--------+------------+------------------+-----------------+\n",
      "\n",
      "+--------+---------+--------+---------+-------+-------+------+------+----+--------+--------+------------+------------------+-----------------+\n",
      "|dep_time|dep_delay|arr_time|arr_delay|carrier|tailnum|flight|origin|dest|air_time|distance|dep_datetime|air_time_projected|air_time_expected|\n",
      "+--------+---------+--------+---------+-------+-------+------+------+----+--------+--------+------------+------------------+-----------------+\n",
      "+--------+---------+--------+---------+-------+-------+------+------+----+--------+--------+------------+------------------+-----------------+\n",
      "\n"
     ]
    }
   ],
   "source": [
    "df_flights.filter(F.col('air_time').isNull()).show()\n",
    "df_flights.filter(F.col('air_time').rlike(REGEX_NOT_NUM)).show()\n",
    "\n",
    "df_flights = df_flights.withColumn('air_time', \n",
    "                                   F.when(F.col('air_time').isNull(),\n",
    "                                          F.when(F.col('air_time_projected') > F.col('air_time_expected'),\n",
    "                                                F.col('air_time_projected'))\n",
    "                                          .otherwise(F.col('air_time_expected')))\n",
    "                                   .otherwise(F.col('air_time')))\n",
    "\n",
    "df_flights.filter(F.col('air_time').isNull()).show()"
   ]
  },
  {
   "cell_type": "markdown",
   "id": "fdbb7eaa",
   "metadata": {},
   "source": [
    "### Pergunta 11"
   ]
  },
  {
   "cell_type": "code",
   "execution_count": 39,
   "id": "d4b37957",
   "metadata": {
    "scrolled": true
   },
   "outputs": [
    {
     "name": "stdout",
     "output_type": "stream",
     "text": [
      "+--------+---------+--------+---------+-------+-------+------+------+----+--------+--------+-------------------+------------------+-----------------+\n",
      "|dep_time|dep_delay|arr_time|arr_delay|carrier|tailnum|flight|origin|dest|air_time|distance|       dep_datetime|air_time_projected|air_time_expected|\n",
      "+--------+---------+--------+---------+-------+-------+------+------+----+--------+--------+-------------------+------------------+-----------------+\n",
      "|     000|        0|      NA|        0|     UA|     NA|   156|   SEA| DEN|     127|    1024|2014-03-04 00:00:00|               122|              127|\n",
      "|     000|        0|      NA|        0|     AS| N527AS|     2|   SEA| DCA|     268|    2329|2014-02-12 00:00:00|               252|              268|\n",
      "|     000|        0|      NA|        0|     WN| N8323C|  2485|   SEA| MDW|     214|    1733|2014-07-01 00:00:00|               193|              214|\n",
      "|     000|        0|      NA|        0|     AS| N526AS|   566|   PDX| LAX|     114|     834|2014-04-30 00:00:00|               103|              114|\n",
      "|     000|        0|      NA|        0|     US|     NA|   553|   SEA| PHL|     279|    2378|2014-01-03 00:00:00|               257|              279|\n",
      "|     000|        0|      NA|        0|     AS| N579AS|   867|   SEA| OGG|     339|    2640|2014-08-07 00:00:00|               284|              339|\n",
      "|     000|        0|      NA|        0|     OO| N689CA|  4528|   PDX| SEA|      34|     129|2014-08-11 00:00:00|                32|               34|\n",
      "|    2238|        8|      NA|        0|     OO| N297SW|  5437|   PDX| LMT|      53|     241|2014-02-06 22:38:00|                44|               53|\n",
      "|     000|        0|      NA|        0|     UA|     NA|   212|   SEA| EWR|     277|    2402|2014-01-02 00:00:00|               260|              277|\n",
      "|     000|        0|      NA|        0|     OO| N917SW|  6250|   PDX| LAX|     114|     834|2014-05-15 00:00:00|               103|              114|\n",
      "|     000|        0|      NA|        0|     OO| N594SW|  5553|   PDX| SFO|      85|     550|2014-02-07 00:00:00|                75|               85|\n",
      "|     000|        0|      NA|        0|     WN| N645SW|   956|   PDX| OAK|      81|     543|2014-06-06 00:00:00|                74|               81|\n",
      "|     000|        0|      NA|        0|     UA|     NA|   758|   PDX| IAH|     213|    1825|2014-01-05 00:00:00|               202|              213|\n",
      "|     000|        0|      NA|        0|     UA|     NA|  1729|   SEA| DEN|     127|    1024|2014-01-06 00:00:00|               122|              127|\n",
      "|     000|        0|      NA|        0|     US|     NA|   500|   SEA| PHX|     141|    1107|2014-03-30 00:00:00|               130|              141|\n",
      "|     000|        0|      NA|        0|     OO| N580SW|  5438|   PDX| EUG|      30|     106|2014-02-09 00:00:00|                30|               27|\n",
      "|     000|        0|      NA|        0|     OO| N297SW|  5342|   SEA| PDX|      32|     129|2014-02-09 00:00:00|                32|               32|\n",
      "|     000|        0|      NA|        0|     OO| N295SW|  5403|   PDX| EUG|      30|     106|2014-01-01 00:00:00|                30|               27|\n",
      "|     000|        0|      NA|        0|     AA| N3LCAA|  1236|   SEA| ORD|     202|    1721|2014-02-17 00:00:00|               192|              202|\n",
      "|     000|        0|      NA|        0|     UA|     NA|   995|   PDX| SFO|      85|     550|2014-01-05 00:00:00|                75|               85|\n",
      "+--------+---------+--------+---------+-------+-------+------+------+----+--------+--------+-------------------+------------------+-----------------+\n",
      "only showing top 20 rows\n",
      "\n",
      "+--------+---------+--------+---------+-------+-------+------+------+----+--------+--------+------------+------------------+-----------------+\n",
      "|dep_time|dep_delay|arr_time|arr_delay|carrier|tailnum|flight|origin|dest|air_time|distance|dep_datetime|air_time_projected|air_time_expected|\n",
      "+--------+---------+--------+---------+-------+-------+------+------+----+--------+--------+------------+------------------+-----------------+\n",
      "+--------+---------+--------+---------+-------+-------+------+------+----+--------+--------+------------+------------------+-----------------+\n",
      "\n",
      "+--------+---------+--------+---------+-------+-------+------+------+----+--------+--------+------------+------------------+-----------------+\n",
      "|dep_time|dep_delay|arr_time|arr_delay|carrier|tailnum|flight|origin|dest|air_time|distance|dep_datetime|air_time_projected|air_time_expected|\n",
      "+--------+---------+--------+---------+-------+-------+------+------+----+--------+--------+------------+------------------+-----------------+\n",
      "+--------+---------+--------+---------+-------+-------+------+------+----+--------+--------+------------+------------------+-----------------+\n",
      "\n",
      "+--------+---------+--------+---------+-------+-------+------+------+----+--------+--------+-------------------+------------------+-----------------+\n",
      "|dep_time|dep_delay|arr_time|arr_delay|carrier|tailnum|flight|origin|dest|air_time|distance|       dep_datetime|air_time_projected|air_time_expected|\n",
      "+--------+---------+--------+---------+-------+-------+------+------+----+--------+--------+-------------------+------------------+-----------------+\n",
      "|     647|       -3|    1007|      -12|     AS| N527AS|   682|   SEA| DEN|     119|    1024|2014-03-03 06:47:00|               122|              127|\n",
      "|     000|        0|     428|        0|     AS| N527AS|     2|   SEA| DCA|     268|    2329|2014-02-12 00:00:00|               252|              268|\n",
      "|    1926|       -9|    2150|       -5|     AS| N527AS|   524|   SEA| BUR|     127|     937|2014-06-25 19:26:00|               113|              122|\n",
      "|     550|      -15|     745|      -20|     AS| N527AS|   344|   SEA| OAK|      92|     671|2014-02-06 05:50:00|                87|               99|\n",
      "|    2222|       -3|      48|      -20|     AS| N527AS|   143|   PDX| ANC|     194|    1542|2014-06-21 22:22:00|               174|              202|\n",
      "|     700|       -5|     939|       17|     AS| N527AS|   608|   SEA| LAS|     131|     867|2014-03-25 07:00:00|               106|              118|\n",
      "|    1149|       -1|    1258|       15|     AS| N527AS|   684|   SEA| GEG|      38|     224|2014-04-12 11:49:00|                42|               37|\n",
      "|     613|       -2|     848|       -7|     AS| N527AS|   454|   SEA| LAX|     129|     954|2014-08-05 06:13:00|               115|              126|\n",
      "|     758|       -2|    1037|       -3|     AS| N527AS|   482|   SEA| LAX|     122|     954|2014-09-29 07:58:00|               115|              126|\n",
      "|    1839|       -1|    2130|        2|     AS| N527AS|   109|   SEA| ANC|     212|    1448|2014-12-01 18:39:00|               164|              190|\n",
      "|     558|       -2|     838|        8|     AS| N527AS|    81|   SEA| ANC|     194|    1448|2014-05-10 05:58:00|               164|              190|\n",
      "|     951|        1|    1731|       -4|     AS| N527AS|   752|   PDX| ATL|     266|    2172|2014-01-24 09:51:00|               237|              247|\n",
      "|    1023|        8|    1721|       21|     AS| N527AS|   788|   SEA| MSY|     258|    2086|2014-09-28 10:23:00|               228|              242|\n",
      "|    2132|        7|    2334|       19|     AS| N527AS|   384|   PDX| SFO|     103|     550|2014-09-23 21:32:00|                75|               85|\n",
      "|     644|       -6|    1009|      -10|     AS| N527AS|   682|   SEA| DEN|     124|    1024|2014-02-18 06:44:00|               122|              127|\n",
      "|    2041|       -4|    2252|       -7|     AS| N527AS|   566|   PDX| LAX|     106|     834|2014-10-21 20:41:00|               103|              114|\n",
      "|    1350|       -5|    2209|       10|     AS| N527AS|     2|   SEA| DCA|     297|    2329|2014-06-04 13:50:00|               252|              268|\n",
      "|    1237|       -3|    1800|      -45|     AS| N527AS|   692|   SEA| SAT|     190|    1774|2014-03-05 12:37:00|               197|              208|\n",
      "|     836|        1|    1644|        6|     AS| N527AS|    32|   SEA| PHL|     291|    2378|2014-06-17 08:36:00|               257|              279|\n",
      "|    1133|       -7|    1356|      -10|     AS| N527AS|   500|   SEA| SNA|     129|     978|2014-01-15 11:33:00|               117|              133|\n",
      "+--------+---------+--------+---------+-------+-------+------+------+----+--------+--------+-------------------+------------------+-----------------+\n",
      "only showing top 20 rows\n",
      "\n"
     ]
    },
    {
     "name": "stdout",
     "output_type": "stream",
     "text": [
      "+--------+--------+--------+\n",
      "|arr_time|air_time|dep_time|\n",
      "+--------+--------+--------+\n",
      "+--------+--------+--------+\n",
      "\n"
     ]
    }
   ],
   "source": [
    "df_flights.filter(F.col('arr_time').rlike(REGEX_NOT_NUM)).show()\n",
    "df_flights.filter(F.col('arr_time').isNull()).show()\n",
    "df_flights = df_flights.withColumn('dep_hour_teste',\n",
    "                                  F.when(F.length(F.col('dep_time')) == 3,\n",
    "                                        F.col('dep_time').substr(1,1).cast('int'))\n",
    "                                  .when(F.length(F.col('dep_time')) == 4,\n",
    "                                       F.col('dep_time').substr(1,2).cast('int')))\n",
    "\n",
    "df_flights = df_flights.withColumn('dep_minute_teste',\n",
    "                                  F.when(F.length(F.col('dep_time')) == 3,\n",
    "                                        F.col('dep_time').substr(-2,3).cast('int'))\n",
    "                                  .when(F.length(F.col('dep_time')) == 4,\n",
    "                                       F.col('dep_time').substr(-2,4).cast('int')))\n",
    "\n",
    "df_flights = df_flights.withColumn('dep_arr_total', F.col('dep_hour_teste')*60 + F.col('dep_minute_teste') + F.col('air_time'))\n",
    "df_flights = df_flights.withColumn('horas', (F.col('dep_arr_total')/60).cast('int'))\n",
    "\n",
    "\n",
    "df_flights = df_flights.withColumn('minutos', F.col('dep_arr_total') - (F.col('horas')*60))\n",
    "df_flights = df_flights.withColumn('horas', \n",
    "                                   F.when(F.col('horas') == 24, 0)\n",
    "                                  .otherwise(F.col('horas')))\n",
    "df_flights = df_flights.withColumn('arr_time', \n",
    "                                  F.when(F.col('arr_time').startswith('N'),\n",
    "                                         F.when(F.col('minutos') < 10, \n",
    "                                                F.concat(F.col('horas'),F.lit('0') ,F.col('minutos')))\n",
    "                                         .otherwise(F.concat(F.col('horas'), F.col('minutos')))\n",
    "                                        ) \n",
    "                                   .otherwise(F.col('arr_time')))\n",
    "df_flights = df_flights.drop('dep_hour_teste','dep_minute_teste','dep_arr_total','horas','minutos')\n",
    "df_flights.filter(F.col('arr_time').rlike(REGEX_NOT_NUM)).show()\n",
    "df_flights.filter(F.col('tailnum') == 'N527AS').show()\n",
    "df_flights.select('arr_time','air_time','dep_time').filter(F.col('arr_time').rlike(REGEX_NOT_NUM)).show(100)\n"
   ]
  },
  {
   "cell_type": "markdown",
   "id": "2d14d31f",
   "metadata": {},
   "source": [
    "### Pergunta 12"
   ]
  },
  {
   "cell_type": "code",
   "execution_count": 40,
   "id": "42ee06e5",
   "metadata": {},
   "outputs": [
    {
     "name": "stdout",
     "output_type": "stream",
     "text": [
      "+-------------+-----+\n",
      "|haul_duration|count|\n",
      "+-------------+-----+\n",
      "|    LONG-HAUL|   54|\n",
      "|  MEDIUM-HAUL| 3254|\n",
      "|   SHORT-HAUL| 6692|\n",
      "+-------------+-----+\n",
      "\n",
      "+--------+-------------+\n",
      "|air_time|haul_duration|\n",
      "+--------+-------------+\n",
      "+--------+-------------+\n",
      "\n"
     ]
    }
   ],
   "source": [
    "df_flights = df_flights.withColumn('haul_duration',\n",
    "                                  F.when(F.col('air_time').between(20,180), 'SHORT-HAUL')\n",
    "                                  .when(F.col('air_time').between(180,360), 'MEDIUM-HAUL')\n",
    "                                  .when(F.col('air_time') > 360,'LONG-HAUL'))\n",
    "\n",
    "df_flights.groupBy('haul_duration').count().show()\n",
    "df_flights.select('air_time','haul_duration').filter(F.col('haul_duration').isNull()).show()"
   ]
  },
  {
   "cell_type": "markdown",
   "id": "f6fe38e8",
   "metadata": {},
   "source": [
    "### Pergunta 13"
   ]
  },
  {
   "cell_type": "code",
   "execution_count": 41,
   "id": "68f4f11b",
   "metadata": {
    "scrolled": true
   },
   "outputs": [
    {
     "name": "stdout",
     "output_type": "stream",
     "text": [
      "+----------+-----+\n",
      "|dep_season|count|\n",
      "+----------+-----+\n",
      "|    WINTER| 2149|\n",
      "|    SPRING| 2560|\n",
      "|      FALL| 2373|\n",
      "|    SUMMER| 2918|\n",
      "+----------+-----+\n",
      "\n",
      "+-------------------+----------+\n",
      "|       dep_datetime|dep_season|\n",
      "+-------------------+----------+\n",
      "|2014-12-08 06:58:00|      FALL|\n",
      "|2014-01-22 10:40:00|    WINTER|\n",
      "|2014-03-09 14:43:00|    WINTER|\n",
      "|2014-04-09 17:05:00|    SPRING|\n",
      "|2014-03-09 07:54:00|    WINTER|\n",
      "|2014-01-15 10:37:00|    WINTER|\n",
      "|2014-07-02 08:47:00|    SUMMER|\n",
      "|2014-05-12 16:55:00|    SPRING|\n",
      "|2014-04-19 12:36:00|    SPRING|\n",
      "|2014-11-19 18:12:00|      FALL|\n",
      "|2014-11-08 16:53:00|      FALL|\n",
      "|2014-08-03 11:20:00|    SUMMER|\n",
      "|2014-10-30 08:11:00|      FALL|\n",
      "|2014-11-12 23:46:00|      FALL|\n",
      "|2014-10-31 13:14:00|      FALL|\n",
      "|2014-01-29 20:09:00|    WINTER|\n",
      "|2014-12-17 20:15:00|      FALL|\n",
      "|2014-08-11 10:17:00|    SUMMER|\n",
      "|2014-01-13 21:56:00|    WINTER|\n",
      "|2014-06-05 17:33:00|    SPRING|\n",
      "+-------------------+----------+\n",
      "only showing top 20 rows\n",
      "\n"
     ]
    }
   ],
   "source": [
    "df_flights = df_flights.withColumn('dep_season',\n",
    "                                  F.when(\n",
    "                                      (F.col('dep_datetime') < F.concat(F.year('dep_datetime'),F.lit('-03-20 15:33:00'))) |\n",
    "                                       (F.col('dep_datetime') > F.concat(F.year('dep_datetime'), F.lit('-12-21 21:48:00'))),\n",
    "                                        'WINTER')\n",
    "                                  .when(F.col('dep_datetime')\n",
    "                                        .between(F.concat(F.year('dep_datetime'),F.lit('-03-20 15:33:01')),\n",
    "                                                F.concat(F.year('dep_datetime'),F.lit('-06-21 10:14:00'))),\n",
    "                                        'SPRING'\n",
    "                                       )\n",
    "                                   .when(F.col('dep_datetime')\n",
    "                                        .between(F.concat(F.year('dep_datetime'),F.lit('-06-21 10:14:01')),\n",
    "                                                F.concat(F.year('dep_datetime'),F.lit('-09-23 02:04:00'))),\n",
    "                                        'SUMMER'\n",
    "                                       )\n",
    "                                    .when(F.col('dep_datetime')\n",
    "                                        .between(F.concat(F.year('dep_datetime'),F.lit('-09-23 02:04:01')),\n",
    "                                                F.concat(F.year('dep_datetime'),F.lit('-12-21 21:48:00'))),\n",
    "                                        'FALL'\n",
    "                                       )\n",
    "                                  )\n",
    "\n",
    "df_flights.select('dep_season').groupBy('dep_season').count().show()\n",
    "df_flights.select('dep_datetime','dep_season').show()"
   ]
  },
  {
   "cell_type": "markdown",
   "id": "b4f23204",
   "metadata": {},
   "source": [
    "### Pergunta 14"
   ]
  },
  {
   "cell_type": "code",
   "execution_count": 42,
   "id": "d5db80e0",
   "metadata": {},
   "outputs": [
    {
     "name": "stdout",
     "output_type": "stream",
     "text": [
      "+------------------+-----+\n",
      "|dep_delay_category|count|\n",
      "+------------------+-----+\n",
      "|       ANTECIPATED| 5894|\n",
      "|             MAJOR|  395|\n",
      "|             MINOR| 3065|\n",
      "|            INTIME|  646|\n",
      "+------------------+-----+\n",
      "\n"
     ]
    }
   ],
   "source": [
    "df_flights = df_flights.withColumn('dep_delay_category',\n",
    "                                  F.when(F.col('dep_delay') < 0, 'ANTECIPATED')\n",
    "                                   .when(F.col('dep_delay') == 0, 'INTIME')\n",
    "                                   .when(F.col('dep_delay').between(0,59), 'MINOR')\n",
    "                                   .when(F.col('dep_delay') >= 60 , 'MAJOR'))\n",
    "df_flights.groupBy('dep_delay_category').count().show()"
   ]
  },
  {
   "cell_type": "code",
   "execution_count": 43,
   "id": "47549728",
   "metadata": {},
   "outputs": [],
   "source": [
    "df_planes.write.mode('overwrite').parquet('output/planes_proc.parquet')\n",
    "df_airports.write.mode('overwrite').parquet('output/airports_proc.parquet')\n",
    "df_flights.write.mode('overwrite').parquet('output/flights_proc.parquet')"
   ]
  }
 ],
 "metadata": {
  "kernelspec": {
   "display_name": "Python 3 (ipykernel)",
   "language": "python",
   "name": "python3"
  },
  "language_info": {
   "codemirror_mode": {
    "name": "ipython",
    "version": 3
   },
   "file_extension": ".py",
   "mimetype": "text/x-python",
   "name": "python",
   "nbconvert_exporter": "python",
   "pygments_lexer": "ipython3",
   "version": "3.9.7"
  }
 },
 "nbformat": 4,
 "nbformat_minor": 5
}
