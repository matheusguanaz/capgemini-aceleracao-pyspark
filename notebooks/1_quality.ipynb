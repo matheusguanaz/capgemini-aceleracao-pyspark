{
 "cells": [
  {
   "cell_type": "code",
   "execution_count": 1,
   "metadata": {},
   "outputs": [
    {
     "name": "stdout",
     "output_type": "stream",
     "text": [
      "Requirement already satisfied: pyspark in c:\\users\\mguanaz\\anaconda3\\lib\\site-packages (3.2.1)\n",
      "Requirement already satisfied: py4j==0.10.9.3 in c:\\users\\mguanaz\\anaconda3\\lib\\site-packages (from pyspark) (0.10.9.3)\n",
      "Requirement already satisfied: findspark in c:\\users\\mguanaz\\anaconda3\\lib\\site-packages (2.0.1)\n"
     ]
    }
   ],
   "source": [
    "# Installing required packages\n",
    "!pip install pyspark\n",
    "!pip install findspark"
   ]
  },
  {
   "cell_type": "code",
   "execution_count": 2,
   "metadata": {},
   "outputs": [],
   "source": [
    "import findspark\n",
    "findspark.init()"
   ]
  },
  {
   "cell_type": "code",
   "execution_count": 3,
   "metadata": {},
   "outputs": [],
   "source": [
    "# PySpark is the Spark API for Python. In this lab, we use PySpark to initialize the spark context. \n",
    "from pyspark import SparkContext, SparkConf\n",
    "from pyspark.sql import SparkSession\n",
    "from pyspark.sql.functions import when, lit, isnan, length, col\n",
    "from pyspark.sql.types import StructType, IntegerType, StringType, FloatType\n"
   ]
  },
  {
   "cell_type": "code",
   "execution_count": 4,
   "metadata": {},
   "outputs": [],
   "source": [
    "REGEX_EMPTY_STR= r'[\\t ]+$'"
   ]
  },
  {
   "cell_type": "code",
   "execution_count": 5,
   "metadata": {},
   "outputs": [],
   "source": [
    "def check_empty_column(coluna):\n",
    "    return (col(coluna).isNull() | (col(coluna) == '') | col(coluna).rlike(REGEX_EMPTY_STR))"
   ]
  },
  {
   "cell_type": "code",
   "execution_count": 6,
   "metadata": {},
   "outputs": [],
   "source": [
    "# Creating a spark context class\n",
    "sc = SparkContext()\n",
    "\n",
    "# Creating a spark session\n",
    "spark = SparkSession \\\n",
    "    .builder \\\n",
    "    .appName(\"Python Spark DataFrames basic example\") \\\n",
    "    .config(\"spark.some.config.option\", \"some-value\") \\\n",
    "    .getOrCreate()"
   ]
  },
  {
   "cell_type": "markdown",
   "metadata": {},
   "source": [
    "Definindo Schema do dataframe"
   ]
  },
  {
   "cell_type": "code",
   "execution_count": 7,
   "metadata": {},
   "outputs": [],
   "source": [
    "\n",
    "schema = StructType() \\\n",
    ".add(\"faa\", StringType(), True) \\\n",
    ".add(\"name\", StringType(), True) \\\n",
    ".add(\"lat\", FloatType(), True) \\\n",
    ".add(\"lon\", FloatType(), True) \\\n",
    ".add(\"alt\", IntegerType(), True) \\\n",
    ".add(\"tz\", FloatType(), True) \\\n",
    ".add(\"dst\", StringType(), True)"
   ]
  },
  {
   "cell_type": "code",
   "execution_count": 8,
   "metadata": {},
   "outputs": [
    {
     "name": "stdout",
     "output_type": "stream",
     "text": [
      "+---+--------------------+---------+-----------+----+----+---+\n",
      "|faa|                name|      lat|        lon| alt|  tz|dst|\n",
      "+---+--------------------+---------+-----------+----+----+---+\n",
      "|04G|   Lansdowne Airport|41.130474|  -80.61958|1044|-5.0|  A|\n",
      "|06A|Moton Field Munic...| 32.46057|  -85.68003| 264|-5.0|  A|\n",
      "|06C| Schaumburg Regional| 41.98934|  -88.10124| 801|-6.0|  A|\n",
      "|06N|     Randall Airport| 41.43191|  -74.39156| 523|-5.0|  A|\n",
      "|09J|Jekyll Island Air...|31.074472|  -81.42778|  11|-4.0|  A|\n",
      "|0A9|Elizabethton Muni...|36.371223| -82.173416|1593|-4.0|  A|\n",
      "|0G6|Williams County A...|41.467304| -84.506775| 730|-5.0|  A|\n",
      "|0G7|Finger Lakes Regi...|42.883564| -76.781235| 492|-5.0|  A|\n",
      "|0P2|Shoestring Aviati...|39.794823| -76.647194|1000|-5.0|  U|\n",
      "|0S9|Jefferson County ...| 48.05381|-122.810646| 108|-8.0|  A|\n",
      "|0W3|Harford County Ai...|39.566837|   -76.2024| 409|-5.0|  A|\n",
      "|10C|  Galt Field Airport| 42.40289| -88.375114| 875|-6.0|  U|\n",
      "|17G|Port Bucyrus-Craw...|40.781555|  -82.97481|1003|-5.0|  A|\n",
      "|19A|Jackson County Ai...|34.175865|   -83.5616| 951|-4.0|  U|\n",
      "|1A3|Martin Campbell F...|35.015804|  -84.34683|1789|-4.0|  A|\n",
      "|1B9| Mansfield Municipal|42.000134|  -71.19677| 122|-5.0|  A|\n",
      "|1C9|Frazier Lake Airpark|54.013332| -124.76833| 152|-8.0|  A|\n",
      "|1CS|Clow Internationa...|41.695976| -88.129234| 670|-6.0|  U|\n",
      "|1G3|  Kent State Airport| 41.15139|  -81.41511|1134|-4.0|  A|\n",
      "|1OH|     Fortman Airport|40.555325|  -84.38662| 885|-5.0|  U|\n",
      "+---+--------------------+---------+-----------+----+----+---+\n",
      "only showing top 20 rows\n",
      "\n",
      "root\n",
      " |-- faa: string (nullable = true)\n",
      " |-- name: string (nullable = true)\n",
      " |-- lat: float (nullable = true)\n",
      " |-- lon: float (nullable = true)\n",
      " |-- alt: integer (nullable = true)\n",
      " |-- tz: float (nullable = true)\n",
      " |-- dst: string (nullable = true)\n",
      "\n"
     ]
    }
   ],
   "source": [
    "# Ler o dataset\n",
    "df = spark.read.options(header=True, delimiter=\",\", inferSChema=False).schema(schema).csv(\"data/airports.csv\")\n",
    "df_sql = df\n",
    "rdd = df.rdd\n",
    "\n",
    "df.show()\n",
    "df.printSchema()\n",
    "\n",
    "df_sql.createOrReplaceTempView(\"airports\")\n"
   ]
  },
  {
   "cell_type": "markdown",
   "metadata": {},
   "source": [
    "## Airport - Perguntas\n"
   ]
  },
  {
   "cell_type": "markdown",
   "metadata": {},
   "source": [
    "#### Pergunta 1"
   ]
  },
  {
   "cell_type": "code",
   "execution_count": 9,
   "metadata": {},
   "outputs": [
    {
     "name": "stdout",
     "output_type": "stream",
     "text": [
      "+---+----+---+---+---+---+---+------+\n",
      "|faa|name|lat|lon|alt| tz|dst|qa_faa|\n",
      "+---+----+---+---+---+---+---+------+\n",
      "+---+----+---+---+---+---+---+------+\n",
      "\n",
      "+---+-----+\n",
      "|faa|count|\n",
      "+---+-----+\n",
      "|BGM|    1|\n",
      "|FMY|    1|\n",
      "|HYL|    1|\n",
      "|LEB|    1|\n",
      "|OXC|    1|\n",
      "|RKP|    1|\n",
      "|4A7|    1|\n",
      "|AVX|    1|\n",
      "|DLG|    1|\n",
      "|ELI|    1|\n",
      "|INL|    1|\n",
      "|OLF|    1|\n",
      "|TYE|    1|\n",
      "|FRN|    1|\n",
      "|MSY|    1|\n",
      "|RDG|    1|\n",
      "|1CS|    1|\n",
      "|CDW|    1|\n",
      "|DRT|    1|\n",
      "|DWS|    1|\n",
      "|FOK|    1|\n",
      "|GEG|    1|\n",
      "|HVR|    1|\n",
      "|KNW|    1|\n",
      "|4A9|    1|\n",
      "|BUR|    1|\n",
      "|CGX|    1|\n",
      "|DKK|    1|\n",
      "|F57|    1|\n",
      "|GVT|    1|\n",
      "|NMM|    1|\n",
      "|NQI|    1|\n",
      "|PTK|    1|\n",
      "|SNA|    1|\n",
      "|BYW|    1|\n",
      "|FOD|    1|\n",
      "|GRB|    1|\n",
      "|GTF|    1|\n",
      "|JGC|    1|\n",
      "|JRB|    1|\n",
      "|MRN|    1|\n",
      "|OPF|    1|\n",
      "|AIK|    1|\n",
      "|ASH|    1|\n",
      "|BXS|    1|\n",
      "|CAR|    1|\n",
      "|IFP|    1|\n",
      "|MXY|    1|\n",
      "|AUW|    1|\n",
      "|HOM|    1|\n",
      "|IDA|    1|\n",
      "|K03|    1|\n",
      "|STE|    1|\n",
      "|SVA|    1|\n",
      "|WDR|    1|\n",
      "|GRR|    1|\n",
      "|HHR|    1|\n",
      "|LWB|    1|\n",
      "|NXX|    1|\n",
      "|3D2|    1|\n",
      "|JLN|    1|\n",
      "|MPB|    1|\n",
      "|NHK|    1|\n",
      "|NPZ|    1|\n",
      "|PAO|    1|\n",
      "|PVU|    1|\n",
      "|3G3|    1|\n",
      "|ARA|    1|\n",
      "|EUG|    1|\n",
      "|PSG|    1|\n",
      "|RAL|    1|\n",
      "|SES|    1|\n",
      "|ATY|    1|\n",
      "|GYY|    1|\n",
      "|HWO|    1|\n",
      "|KYK|    1|\n",
      "|PBV|    1|\n",
      "|RIV|    1|\n",
      "|SDC|    1|\n",
      "|6A2|    1|\n",
      "|CNW|    1|\n",
      "|GSO|    1|\n",
      "|ISO|    1|\n",
      "|MYR|    1|\n",
      "|PVD|    1|\n",
      "|SNP|    1|\n",
      "|SRV|    1|\n",
      "|KPB|    1|\n",
      "|KWP|    1|\n",
      "|OAK|    1|\n",
      "|UDD|    1|\n",
      "|1OH|    1|\n",
      "|BEC|    1|\n",
      "|DWH|    1|\n",
      "|EAR|    1|\n",
      "|BTM|    1|\n",
      "|COD|    1|\n",
      "|EGT|    1|\n",
      "|END|    1|\n",
      "|FAR|    1|\n",
      "+---+-----+\n",
      "only showing top 100 rows\n",
      "\n"
     ]
    }
   ],
   "source": [
    "df = df.withColumn(\"qa_faa\", when(check_empty_column('faa'), 'M'))\n",
    "df.filter(df.qa_faa == 'M').show()\n",
    "\n",
    "df.groupBy('faa').count().show(100)"
   ]
  },
  {
   "cell_type": "code",
   "execution_count": 10,
   "metadata": {},
   "outputs": [
    {
     "name": "stdout",
     "output_type": "stream",
     "text": [
      "+---+----+---+---+---+---+---+------+\n",
      "|faa|name|lat|lon|alt| tz|dst|qa_faa|\n",
      "+---+----+---+---+---+---+---+------+\n",
      "+---+----+---+---+---+---+---+------+\n",
      "\n",
      "+---+----+---+---+---+---+---+------+\n",
      "|faa|name|lat|lon|alt| tz|dst|qa_faa|\n",
      "+---+----+---+---+---+---+---+------+\n",
      "+---+----+---+---+---+---+---+------+\n",
      "\n",
      "+---+----+---+---+---+---+---+------+\n",
      "|faa|name|lat|lon|alt| tz|dst|qa_faa|\n",
      "+---+----+---+---+---+---+---+------+\n",
      "+---+----+---+---+---+---+---+------+\n",
      "\n"
     ]
    }
   ],
   "source": [
    "df = df.withColumn(\"qa_faa\", \n",
    "                   when((length(df.faa) < 3) | (length(df.faa) > 5), 'F')\n",
    "                   .otherwise(df.qa_faa))\n",
    "df.filter(df.qa_faa == 'F').show()\n",
    "\n",
    "\n",
    "df1 = spark.sql(\"\"\"\n",
    "    SELECT *,\n",
    "        CASE\n",
    "            WHEN\n",
    "                faa IS NULL OR faa like '' \n",
    "                THEN 'M'\n",
    "            when \n",
    "                length(faa) < 3 or length(faa) > 5 \n",
    "                then 'F' \n",
    "        END AS qa_faa\n",
    "    FROM airports\n",
    "\"\"\")\n",
    "\n",
    "df1.filter(df1.qa_faa == 'M').show()\n",
    "df1.filter(df1.qa_faa == 'F').show()"
   ]
  },
  {
   "cell_type": "markdown",
   "metadata": {},
   "source": [
    "#### Pergunta 2"
   ]
  },
  {
   "cell_type": "code",
   "execution_count": 11,
   "metadata": {},
   "outputs": [
    {
     "name": "stdout",
     "output_type": "stream",
     "text": [
      "+---+--------------------+---------+----------+---+----+---+------+-------+\n",
      "|faa|                name|      lat|       lon|alt|  tz|dst|qa_faa|qa_name|\n",
      "+---+--------------------+---------+----------+---+----+---+------+-------+\n",
      "|IMM|          Immokalee | 26.43389| -81.40139| 37|-5.0|  A|  null|      M|\n",
      "|MGM|Montgomery Region...| 32.30064|-86.393974|221|-6.0|  A|  null|      M|\n",
      "|RFD|Chicago Rockford ...|42.195362| -89.09722|742|-6.0|  A|  null|      M|\n",
      "+---+--------------------+---------+----------+---+----+---+------+-------+\n",
      "\n",
      "+---+--------------------+---------+----------+---+----+---+------+-------+\n",
      "|faa|                name|      lat|       lon|alt|  tz|dst|qa_faa|qa_name|\n",
      "+---+--------------------+---------+----------+---+----+---+------+-------+\n",
      "|IMM|          Immokalee | 26.43389| -81.40139| 37|-5.0|  A|  null|      M|\n",
      "|MGM|Montgomery Region...| 32.30064|-86.393974|221|-6.0|  A|  null|      M|\n",
      "|RFD|Chicago Rockford ...|42.195362| -89.09722|742|-6.0|  A|  null|      M|\n",
      "+---+--------------------+---------+----------+---+----+---+------+-------+\n",
      "\n"
     ]
    }
   ],
   "source": [
    "df = df.withColumn(\"qa_name\", when(check_empty_column('name'), 'M'))\n",
    "df.filter(df.qa_name == 'M').show()\n",
    "\n",
    "df1 = spark.sql(\"\"\"\n",
    "                    SELECT *,\n",
    "                        CASE\n",
    "                            WHEN\n",
    "                                name IS NULL OR name like ''\n",
    "                                THEN 'M'\n",
    "                        END AS qa_name\n",
    "                    FROM airports\n",
    "\"\"\")\n",
    "\n",
    "df.filter(df.qa_name == 'M').show()"
   ]
  },
  {
   "cell_type": "markdown",
   "metadata": {},
   "source": [
    "#### Pergunta 3"
   ]
  },
  {
   "cell_type": "code",
   "execution_count": 12,
   "metadata": {},
   "outputs": [
    {
     "name": "stdout",
     "output_type": "stream",
     "text": [
      "+---+----+---+---+---+---+---+------+-------+------+\n",
      "|faa|name|lat|lon|alt| tz|dst|qa_faa|qa_name|qa_lat|\n",
      "+---+----+---+---+---+---+---+------+-------+------+\n",
      "+---+----+---+---+---+---+---+------+-------+------+\n",
      "\n",
      "+---+-----+\n",
      "|lat|count|\n",
      "+---+-----+\n",
      "+---+-----+\n",
      "\n"
     ]
    }
   ],
   "source": [
    "df = df.withColumn(\"qa_lat\", when( check_empty_column('lat'), 'M'))\n",
    "df.filter(df.qa_lat == 'M').show()\n",
    "df.filter(df.lat.rlike('^[^0-9]*$')).groupBy('lat').count().show()"
   ]
  },
  {
   "cell_type": "code",
   "execution_count": 13,
   "metadata": {},
   "outputs": [
    {
     "name": "stdout",
     "output_type": "stream",
     "text": [
      "+---+----+---+---+---+---+---+------+-------+------+\n",
      "|faa|name|lat|lon|alt| tz|dst|qa_faa|qa_name|qa_lat|\n",
      "+---+----+---+---+---+---+---+------+-------+------+\n",
      "+---+----+---+---+---+---+---+------+-------+------+\n",
      "\n"
     ]
    }
   ],
   "source": [
    "df = df.withColumn(\"qa_lat\",\n",
    "                   when( (df.lat < -180) | (df.lat > 180), 'I')\n",
    "                   .otherwise(df.qa_lat))\n",
    "df.filter(df.qa_lat == 'I').show()"
   ]
  },
  {
   "cell_type": "code",
   "execution_count": 14,
   "metadata": {},
   "outputs": [
    {
     "name": "stdout",
     "output_type": "stream",
     "text": [
      "+---+----+---+---+---+---+---+------+-------+------+\n",
      "|faa|name|lat|lon|alt| tz|dst|qa_faa|qa_name|qa_lat|\n",
      "+---+----+---+---+---+---+---+------+-------+------+\n",
      "+---+----+---+---+---+---+---+------+-------+------+\n",
      "\n",
      "+---+----+---+---+---+---+---+------+\n",
      "|faa|name|lat|lon|alt| tz|dst|qa_lat|\n",
      "+---+----+---+---+---+---+---+------+\n",
      "+---+----+---+---+---+---+---+------+\n",
      "\n"
     ]
    }
   ],
   "source": [
    "df = df.withColumn(\"qa_lat\", \n",
    "                   when(df.lat.cast('int').isNull(), 'A')\n",
    "                   .otherwise(df.qa_lat))\n",
    "df.filter(df.qa_lat == 'A').show()\n",
    "\n",
    "df1 = spark.sql(\"\"\"\n",
    "                    SELECT *,\n",
    "                        CASE\n",
    "                            WHEN\n",
    "                                lat IS NULL OR lat == ''\n",
    "                                THEN 'M'\n",
    "                            WHEN\n",
    "                                lat < -180 OR lat > 180\n",
    "                                THEN 'I'\n",
    "                            WHEN\n",
    "                                lat rlike '^([^0-9]*)$'\n",
    "                                THEN 'A'\n",
    "                        END AS qa_lat\n",
    "                    FROM airports\n",
    "\"\"\")\n",
    "\n",
    "df1.filter(df1.qa_lat.isin(['M','I','A'])).show()"
   ]
  },
  {
   "cell_type": "markdown",
   "metadata": {},
   "source": [
    "#### Pergunta 4\n"
   ]
  },
  {
   "cell_type": "code",
   "execution_count": 15,
   "metadata": {},
   "outputs": [
    {
     "name": "stdout",
     "output_type": "stream",
     "text": [
      "+---+----+---+---+---+---+---+------+-------+------+------+\n",
      "|faa|name|lat|lon|alt| tz|dst|qa_faa|qa_name|qa_lat|qa_lon|\n",
      "+---+----+---+---+---+---+---+------+-------+------+------+\n",
      "+---+----+---+---+---+---+---+------+-------+------+------+\n",
      "\n",
      "+---+-----+\n",
      "|lon|count|\n",
      "+---+-----+\n",
      "+---+-----+\n",
      "\n"
     ]
    }
   ],
   "source": [
    "df = df.withColumn(\"qa_lon\", when(check_empty_column('lon'), 'M'))\n",
    "df.filter(df.qa_lon == 'M').show()\n",
    "df.filter(df.lon.rlike('^[^0-9]*$')).groupBy('lon').count().show()"
   ]
  },
  {
   "cell_type": "code",
   "execution_count": 16,
   "metadata": {},
   "outputs": [
    {
     "name": "stdout",
     "output_type": "stream",
     "text": [
      "+---+----+---+---+---+---+---+------+-------+------+------+\n",
      "|faa|name|lat|lon|alt| tz|dst|qa_faa|qa_name|qa_lat|qa_lon|\n",
      "+---+----+---+---+---+---+---+------+-------+------+------+\n",
      "+---+----+---+---+---+---+---+------+-------+------+------+\n",
      "\n"
     ]
    }
   ],
   "source": [
    "df = df.withColumn(\"qa_lon\", \n",
    "                   when( (df.lon < -180) | (df.lon > 180), 'I')\n",
    "                   .otherwise(df.qa_lon))\n",
    "df.filter(df.qa_lon == 'I').show()"
   ]
  },
  {
   "cell_type": "code",
   "execution_count": 17,
   "metadata": {},
   "outputs": [
    {
     "name": "stdout",
     "output_type": "stream",
     "text": [
      "+---+----+---+---+---+---+---+------+-------+------+------+\n",
      "|faa|name|lat|lon|alt| tz|dst|qa_faa|qa_name|qa_lat|qa_lon|\n",
      "+---+----+---+---+---+---+---+------+-------+------+------+\n",
      "+---+----+---+---+---+---+---+------+-------+------+------+\n",
      "\n",
      "+---+----+---+---+---+---+---+------+\n",
      "|faa|name|lat|lon|alt| tz|dst|qa_lon|\n",
      "+---+----+---+---+---+---+---+------+\n",
      "+---+----+---+---+---+---+---+------+\n",
      "\n"
     ]
    }
   ],
   "source": [
    "df = df.withColumn(\"qa_lon\", \n",
    "                   when(df.lon.cast('int').isNull(), 'A')\n",
    "                   .otherwise(df.qa_lon))\n",
    "df.filter(df.qa_lon == 'A').show()\n",
    "\n",
    "\n",
    "\n",
    "df1 = spark.sql(\"\"\"\n",
    "                    SELECT *,\n",
    "                        CASE\n",
    "                            WHEN\n",
    "                                lon IS NULL OR lon == ''\n",
    "                                THEN 'M'\n",
    "                            WHEN\n",
    "                                lon < -180 OR lon > 180\n",
    "                                THEN 'I'\n",
    "                            WHEN\n",
    "                                lon rlike '^([^0-9]*)$'\n",
    "                                THEN 'A'\n",
    "                        END AS qa_lon\n",
    "                    FROM airports\n",
    "\"\"\")\n",
    "\n",
    "df1.filter(df1.qa_lon.isin(['M','I','A'])).show()"
   ]
  },
  {
   "cell_type": "markdown",
   "metadata": {},
   "source": [
    "#### Pergunta 5"
   ]
  },
  {
   "cell_type": "code",
   "execution_count": 18,
   "metadata": {},
   "outputs": [
    {
     "name": "stdout",
     "output_type": "stream",
     "text": [
      "+---+----+---+---+---+---+---+------+-------+------+------+------+\n",
      "|faa|name|lat|lon|alt| tz|dst|qa_faa|qa_name|qa_lat|qa_lon|qa_alt|\n",
      "+---+----+---+---+---+---+---+------+-------+------+------+------+\n",
      "+---+----+---+---+---+---+---+------+-------+------+------+------+\n",
      "\n",
      "+---+----+---+---+---+---+---+------+-------+------+------+------+\n",
      "|faa|name|lat|lon|alt| tz|dst|qa_faa|qa_name|qa_lat|qa_lon|qa_alt|\n",
      "+---+----+---+---+---+---+---+------+-------+------+------+------+\n",
      "+---+----+---+---+---+---+---+------+-------+------+------+------+\n",
      "\n"
     ]
    }
   ],
   "source": [
    "df = df.withColumn(\"qa_alt\", when(check_empty_column('alt'), 'M'))\n",
    "\n",
    "df.filter(df.alt.rlike('^[^0-9]*$')).show()\n",
    "df.filter(df.qa_alt == 'M').show()"
   ]
  },
  {
   "cell_type": "code",
   "execution_count": 19,
   "metadata": {},
   "outputs": [
    {
     "name": "stdout",
     "output_type": "stream",
     "text": [
      "+---+-------------+---------+----------+---+----+---+------+-------+------+------+------+\n",
      "|faa|         name|      lat|       lon|alt|  tz|dst|qa_faa|qa_name|qa_lat|qa_lon|qa_alt|\n",
      "+---+-------------+---------+----------+---+----+---+------+-------+------+------+------+\n",
      "|IPL|  Imperial Co| 32.83422|-115.57874|-54|-8.0|  A|  null|   null|  null|  null|     I|\n",
      "|NJK|El Centro Naf|32.829224|-115.67167|-42|-8.0|  A|  null|   null|  null|  null|     I|\n",
      "+---+-------------+---------+----------+---+----+---+------+-------+------+------+------+\n",
      "\n"
     ]
    }
   ],
   "source": [
    "df = df.withColumn(\"qa_alt\", \n",
    "                   when( df.alt < 0, 'I')\n",
    "                   .otherwise(df.qa_alt))\n",
    "\n",
    "df.filter(df.qa_alt == 'I').show()"
   ]
  },
  {
   "cell_type": "code",
   "execution_count": 20,
   "metadata": {},
   "outputs": [
    {
     "name": "stdout",
     "output_type": "stream",
     "text": [
      "+---+----+---+---+---+---+---+------+-------+------+------+------+\n",
      "|faa|name|lat|lon|alt| tz|dst|qa_faa|qa_name|qa_lat|qa_lon|qa_alt|\n",
      "+---+----+---+---+---+---+---+------+-------+------+------+------+\n",
      "+---+----+---+---+---+---+---+------+-------+------+------+------+\n",
      "\n",
      "+---+-------------+---------+----------+---+----+---+------+\n",
      "|faa|         name|      lat|       lon|alt|  tz|dst|qa_alt|\n",
      "+---+-------------+---------+----------+---+----+---+------+\n",
      "|IPL|  Imperial Co| 32.83422|-115.57874|-54|-8.0|  A|     I|\n",
      "|NJK|El Centro Naf|32.829224|-115.67167|-42|-8.0|  A|     I|\n",
      "+---+-------------+---------+----------+---+----+---+------+\n",
      "\n"
     ]
    }
   ],
   "source": [
    "df = df.withColumn(\"qa_alt\", \n",
    "                   when( df.alt.cast('int').isNull(), 'A')\n",
    "                   .otherwise(df.qa_alt))\n",
    "\n",
    "df.filter(df.qa_alt == 'A').show()\n",
    "\n",
    "\n",
    "df1 = spark.sql(\"\"\"\n",
    "                    SELECT *,\n",
    "                        CASE\n",
    "                            WHEN\n",
    "                                alt IS NULL OR alt == ''\n",
    "                                THEN 'M'\n",
    "                            WHEN\n",
    "                                alt < 0\n",
    "                                THEN 'I'\n",
    "                            WHEN\n",
    "                                alt rlike '^([^0-9]*)$'\n",
    "                                THEN 'A'\n",
    "                        END AS qa_alt\n",
    "                    FROM airports\n",
    "\"\"\")\n",
    "\n",
    "df1.filter(df1.qa_alt.isin(['M','I','A'])).show()"
   ]
  },
  {
   "cell_type": "markdown",
   "metadata": {},
   "source": [
    "#### Pergunta 6"
   ]
  },
  {
   "cell_type": "code",
   "execution_count": 21,
   "metadata": {},
   "outputs": [
    {
     "name": "stdout",
     "output_type": "stream",
     "text": [
      "+---+----+---+---+---+---+---+------+-------+------+------+------+-----+\n",
      "|faa|name|lat|lon|alt| tz|dst|qa_faa|qa_name|qa_lat|qa_lon|qa_alt|qa_tz|\n",
      "+---+----+---+---+---+---+---+------+-------+------+------+------+-----+\n",
      "+---+----+---+---+---+---+---+------+-------+------+------+------+-----+\n",
      "\n",
      "+---+----+---+---+---+---+---+------+-------+------+------+------+-----+\n",
      "|faa|name|lat|lon|alt| tz|dst|qa_faa|qa_name|qa_lat|qa_lon|qa_alt|qa_tz|\n",
      "+---+----+---+---+---+---+---+------+-------+------+------+------+-----+\n",
      "+---+----+---+---+---+---+---+------+-------+------+------+------+-----+\n",
      "\n"
     ]
    }
   ],
   "source": [
    "df = df.withColumn(\"qa_tz\", when( check_empty_column('tz'), 'M'))\n",
    "df.filter(df.qa_tz =='M').show()\n",
    "\n",
    "df.filter(df.tz.rlike('^[^0-9]*$')).show()"
   ]
  },
  {
   "cell_type": "code",
   "execution_count": 22,
   "metadata": {},
   "outputs": [
    {
     "name": "stdout",
     "output_type": "stream",
     "text": [
      "+---+----+---+---+---+---+---+------+-------+------+------+------+-----+\n",
      "|faa|name|lat|lon|alt| tz|dst|qa_faa|qa_name|qa_lat|qa_lon|qa_alt|qa_tz|\n",
      "+---+----+---+---+---+---+---+------+-------+------+------+------+-----+\n",
      "+---+----+---+---+---+---+---+------+-------+------+------+------+-----+\n",
      "\n",
      "51\n",
      "1329\n"
     ]
    }
   ],
   "source": [
    "df = df.withColumn(\"qa_tz\", \n",
    "                   when((df.tz < -11) | (df.tz > 14), 'I')\n",
    "                   .otherwise(df.qa_tz))\n",
    "df.filter(df.qa_tz == 'I').show()\n",
    "print(df.filter(col('tz').between(-7,-5) & (col('dst') != 'A')).count())\n",
    "print(df.filter(col('dst') == 'A').count())\n"
   ]
  },
  {
   "cell_type": "code",
   "execution_count": 23,
   "metadata": {},
   "outputs": [
    {
     "name": "stdout",
     "output_type": "stream",
     "text": [
      "+---+----+---+---+---+---+---+------+-------+------+------+------+-----+\n",
      "|faa|name|lat|lon|alt| tz|dst|qa_faa|qa_name|qa_lat|qa_lon|qa_alt|qa_tz|\n",
      "+---+----+---+---+---+---+---+------+-------+------+------+------+-----+\n",
      "+---+----+---+---+---+---+---+------+-------+------+------+------+-----+\n",
      "\n",
      "+---+----+---+---+---+---+---+-----+\n",
      "|faa|name|lat|lon|alt| tz|dst|qa_tz|\n",
      "+---+----+---+---+---+---+---+-----+\n",
      "+---+----+---+---+---+---+---+-----+\n",
      "\n"
     ]
    }
   ],
   "source": [
    "df = df.withColumn(\"qa_tz\", \n",
    "                   when(df.tz.cast('int').isNull(), 'A')\n",
    "                   .otherwise(df.qa_tz))\n",
    "\n",
    "df.filter(df.qa_tz =='A').show()\n",
    "\n",
    "\n",
    "df1 = spark.sql(\"\"\"\n",
    "                    SELECT *,\n",
    "                        CASE\n",
    "                            WHEN\n",
    "                                tz IS NULL OR tz == ''\n",
    "                                THEN 'M'\n",
    "                            WHEN\n",
    "                                tz < -11 OR tz > 14\n",
    "                                THEN 'I'\n",
    "                            WHEN\n",
    "                                tz rlike '^([^0-9]*)$'\n",
    "                                THEN 'A'\n",
    "                        END AS qa_tz\n",
    "                    FROM airports\n",
    "\"\"\")\n",
    "\n",
    "df1.filter(df1.qa_tz.isin(['M','I','A'])).show()"
   ]
  },
  {
   "cell_type": "markdown",
   "metadata": {},
   "source": [
    "#### Pergunta 7"
   ]
  },
  {
   "cell_type": "code",
   "execution_count": 24,
   "metadata": {
    "scrolled": true
   },
   "outputs": [
    {
     "name": "stdout",
     "output_type": "stream",
     "text": [
      "+---+----+---+---+---+---+---+------+-------+------+------+------+-----+------+\n",
      "|faa|name|lat|lon|alt| tz|dst|qa_faa|qa_name|qa_lat|qa_lon|qa_alt|qa_tz|qa_dst|\n",
      "+---+----+---+---+---+---+---+------+-------+------+------+------+-----+------+\n",
      "+---+----+---+---+---+---+---+------+-------+------+------+------+-----+------+\n",
      "\n",
      "+---+----+---+---+---+---+---+------+-------+------+------+------+-----+------+\n",
      "|faa|name|lat|lon|alt| tz|dst|qa_faa|qa_name|qa_lat|qa_lon|qa_alt|qa_tz|qa_dst|\n",
      "+---+----+---+---+---+---+---+------+-------+------+------+------+-----+------+\n",
      "+---+----+---+---+---+---+---+------+-------+------+------+------+-----+------+\n",
      "\n",
      "59\n",
      "1329\n"
     ]
    }
   ],
   "source": [
    "df = df.withColumn(\"qa_dst\", \n",
    "                   when(check_empty_column('dst'), 'M'))\n",
    "\n",
    "df.filter(df.qa_dst == 'M').show()\n",
    "df.filter(df.dst.rlike('[0-9]')).show()\n",
    "print(df.filter((col('dst') == 'U') | (col('tz').between(-7,-5) & (col('dst') != 'A'))).count())\n",
    "print(df.filter(col('dst') == 'A').count())"
   ]
  },
  {
   "cell_type": "code",
   "execution_count": 25,
   "metadata": {
    "scrolled": true
   },
   "outputs": [
    {
     "name": "stdout",
     "output_type": "stream",
     "text": [
      "+---+----+---+---+---+---+---+------+-------+------+------+------+-----+------+\n",
      "|faa|name|lat|lon|alt| tz|dst|qa_faa|qa_name|qa_lat|qa_lon|qa_alt|qa_tz|qa_dst|\n",
      "+---+----+---+---+---+---+---+------+-------+------+------+------+-----+------+\n",
      "+---+----+---+---+---+---+---+------+-------+------+------+------+-----+------+\n",
      "\n"
     ]
    }
   ],
   "source": [
    "categories = ['E','A','S','O','Z','N','U']\n",
    "df = df.withColumn(\"qa_dst\", \n",
    "                   when(~df.dst.isin(categories), 'C')\n",
    "                   .otherwise(df.qa_dst))\n",
    "df.filter(df.qa_dst =='C').show()"
   ]
  },
  {
   "cell_type": "code",
   "execution_count": 26,
   "metadata": {},
   "outputs": [
    {
     "name": "stdout",
     "output_type": "stream",
     "text": [
      "+---+----+---+---+---+---+---+------+-------+------+------+------+-----+------+\n",
      "|faa|name|lat|lon|alt| tz|dst|qa_faa|qa_name|qa_lat|qa_lon|qa_alt|qa_tz|qa_dst|\n",
      "+---+----+---+---+---+---+---+------+-------+------+------+------+-----+------+\n",
      "+---+----+---+---+---+---+---+------+-------+------+------+------+-----+------+\n",
      "\n",
      "+---+----+---+---+---+---+---+------+\n",
      "|faa|name|lat|lon|alt| tz|dst|qa_dst|\n",
      "+---+----+---+---+---+---+---+------+\n",
      "+---+----+---+---+---+---+---+------+\n",
      "\n"
     ]
    }
   ],
   "source": [
    "df = df.withColumn(\"qa_dst\", \n",
    "                   when(df.dst.cast('int').isNotNull(), 'N')\n",
    "                   .otherwise(df.qa_dst))\n",
    "\n",
    "df.filter(df.qa_dst == 'N').show()\n",
    "\n",
    "df1 = spark.sql(\"\"\"\n",
    "                    SELECT *,\n",
    "                        CASE\n",
    "                            WHEN\n",
    "                                dst IS NULL OR dst == ''\n",
    "                                THEN 'M'\n",
    "                            WHEN\n",
    "                                dst NOT IN ('E','A','S','O','Z','N','U')\n",
    "                                THEN 'C'\n",
    "                            WHEN\n",
    "                                dst rlike '^([0-9]*)$'\n",
    "                                THEN 'N'\n",
    "                        END AS qa_dst\n",
    "                    FROM airports\n",
    "\"\"\")\n",
    "\n",
    "df1.filter(df1.qa_dst.isin(['M','C','N'])).show()"
   ]
  },
  {
   "cell_type": "code",
   "execution_count": 27,
   "metadata": {},
   "outputs": [],
   "source": [
    "df_qa = df.select(df.faa ,df.qa_faa, df.qa_name, df.qa_lat, df.qa_lon, df.qa_tz, df.qa_dst, df.qa_alt)\n",
    "df_qa.write.mode('overwrite').parquet(\"output/airports_qa.parquet\")"
   ]
  },
  {
   "cell_type": "markdown",
   "metadata": {},
   "source": [
    "## Plane - Perguntas"
   ]
  },
  {
   "cell_type": "code",
   "execution_count": 28,
   "metadata": {},
   "outputs": [],
   "source": [
    "schema_plane = StructType()\\\n",
    ".add(\"tailnum\", StringType(), True)\\\n",
    ".add(\"year\", IntegerType(), True)\\\n",
    ".add(\"type\", StringType(), True) \\\n",
    ".add(\"manufacturer\", StringType(), True)\\\n",
    ".add(\"model\", StringType(), True)\\\n",
    ".add(\"engines\", IntegerType(), True)\\\n",
    ".add(\"seats\", IntegerType(), True)\\\n",
    ".add(\"speed\", IntegerType(), True)\\\n",
    ".add(\"engine\", StringType(), True)"
   ]
  },
  {
   "cell_type": "code",
   "execution_count": 29,
   "metadata": {},
   "outputs": [
    {
     "name": "stdout",
     "output_type": "stream",
     "text": [
      "root\n",
      " |-- tailnum: string (nullable = true)\n",
      " |-- year: integer (nullable = true)\n",
      " |-- type: string (nullable = true)\n",
      " |-- manufacturer: string (nullable = true)\n",
      " |-- model: string (nullable = true)\n",
      " |-- engines: integer (nullable = true)\n",
      " |-- seats: integer (nullable = true)\n",
      " |-- speed: integer (nullable = true)\n",
      " |-- engine: string (nullable = true)\n",
      "\n"
     ]
    }
   ],
   "source": [
    "df_planes = spark.read.options(header=True, delimiter=\",\").schema(schema_plane).csv(\"data/planes.csv\")\n",
    "\n",
    "df_planes_sql = df_planes\n",
    "df_planes_sql.createOrReplaceTempView(\"planes\")\n",
    "\n",
    "\n",
    "df_planes.printSchema()"
   ]
  },
  {
   "cell_type": "markdown",
   "metadata": {},
   "source": [
    "#### Pergunta 1"
   ]
  },
  {
   "cell_type": "code",
   "execution_count": 30,
   "metadata": {},
   "outputs": [
    {
     "name": "stdout",
     "output_type": "stream",
     "text": [
      "+----------+-----+\n",
      "|qa_tailnum|count|\n",
      "+----------+-----+\n",
      "|         F|  298|\n",
      "+----------+-----+\n",
      "\n"
     ]
    },
    {
     "data": {
      "text/plain": [
       "DataFrame[tailnum: string, year: int, type: string, manufacturer: string, model: string, engines: int, seats: int, speed: int, engine: string, qa_tailnum: string]"
      ]
     },
     "execution_count": 30,
     "metadata": {},
     "output_type": "execute_result"
    }
   ],
   "source": [
    "df_planes = df_planes.withColumn(\"qa_tailnum\", \n",
    "                                   when(check_empty_column('tailnum'), 'M')\n",
    "                                  .when(~length(df_planes.tailnum).between(5,6), 'S')\n",
    "                                  .when(~df_planes.tailnum.startswith('N'),'FN')\n",
    "                                  .when(df_planes.tailnum.rlike('I|O|N0'),'FE')\n",
    "                                  .when(\n",
    "                                       ~df_planes.tailnum.rlike('^N[1-9][0-9]{2,3}([ABCDEFGHJKLMNPQRSTUVXWYZ]{1,2})')\n",
    "                                       ,'F'))\n",
    "\n",
    "df_planes.filter(df_planes.qa_tailnum.isin(['M','S','FN','FE','F'])).groupBy('qa_tailnum').count().show()\n",
    "df_planes"
   ]
  },
  {
   "cell_type": "code",
   "execution_count": 31,
   "metadata": {
    "scrolled": true
   },
   "outputs": [
    {
     "name": "stdout",
     "output_type": "stream",
     "text": [
      "+-------+----+----+------------+-----+-------+-----+-----+------+----------+\n",
      "|tailnum|year|type|manufacturer|model|engines|seats|speed|engine|qa_tailnum|\n",
      "+-------+----+----+------------+-----+-------+-----+-----+------+----------+\n",
      "+-------+----+----+------------+-----+-------+-----+-----+------+----------+\n",
      "\n"
     ]
    }
   ],
   "source": [
    "df1 = spark.sql(\"\"\"\n",
    "                    SELECT *,\n",
    "                        CASE\n",
    "                            WHEN\n",
    "                                tailnum IS NULL OR tailnum == ''\n",
    "                                THEN 'M'\n",
    "                            WHEN\n",
    "                                length(tailnum) <> 5\n",
    "                                THEN 'S'\n",
    "                            WHEN \n",
    "                                tailnum rlike \"N[1-9][0-9]*2Z$|N[0-9]*2[A-Z][A-Z]$\"\n",
    "                                THEN 'F'\n",
    "                            WHEN \n",
    "                                tailnum NOT LIKE 'N%'\n",
    "                                THEN 'FN'\n",
    "                            WHEN\n",
    "                                 tailnum LIKE '%I%' OR tailnum LIKE '%O%' OR tailnum LIKE 'N0'\n",
    "                                 THEN 'FE'\n",
    "                        END AS qa_tailnum\n",
    "                    FROM planes\n",
    "\n",
    "\"\"\")\n",
    "\n",
    "df1.filter(df1.qa_tailnum.isin(['M','F','FN','FE'])).show()"
   ]
  },
  {
   "cell_type": "markdown",
   "metadata": {},
   "source": [
    "#### Pergunta 2"
   ]
  },
  {
   "cell_type": "code",
   "execution_count": 32,
   "metadata": {
    "scrolled": true
   },
   "outputs": [
    {
     "name": "stdout",
     "output_type": "stream",
     "text": [
      "+-------+----+--------------------+----------------+-------------+-------+-----+-----+-------------+----------+-------+\n",
      "|tailnum|year|                type|    manufacturer|        model|engines|seats|speed|       engine|qa_tailnum|qa_year|\n",
      "+-------+----+--------------------+----------------+-------------+-------+-----+-----+-------------+----------+-------+\n",
      "| N174US|null|Fixed wing multi ...|AIRBUS INDUSTRIE|     A321-211|      2|  199| null|    Turbo-jet|      null|      M|\n",
      "| N177US|null|Fixed wing multi ...|AIRBUS INDUSTRIE|     A321-211|      2|  199| null|    Turbo-jet|      null|      M|\n",
      "| N181UW|null|Fixed wing multi ...|AIRBUS INDUSTRIE|     A321-211|      2|  199| null|    Turbo-jet|      null|      M|\n",
      "| N194UW|null|Fixed wing multi ...|          AIRBUS|     A321-211|      2|  199| null|    Turbo-fan|      null|      M|\n",
      "| N271LV|null|Fixed wing multi ...|          BOEING|      737-705|      2|  149| null|    Turbo-fan|      null|      M|\n",
      "| N298WN|null|Fixed wing multi ...|          BOEING|      737-7H4|      2|  140| null|    Turbo-fan|      null|      M|\n",
      "| N299WN|null|Fixed wing multi ...|          BOEING|      737-7H4|      2|  140| null|    Turbo-fan|      null|      M|\n",
      "| N331NB|null|Fixed wing multi ...|AIRBUS INDUSTRIE|     A319-114|      2|  145| null|    Turbo-fan|      null|      M|\n",
      "| N33292|null|Fixed wing multi ...|          BOEING|      737-824|      2|  149| null|    Turbo-fan|         F|      M|\n",
      "| N345NB|null|Fixed wing multi ...|          AIRBUS|     A319-114|      2|  145| null|    Turbo-fan|      null|      M|\n",
      "| N389HA|null|Fixed wing multi ...|          AIRBUS|     A330-243|      2|  377| null|    Turbo-fan|      null|      M|\n",
      "| N466UA|null|Fixed wing multi ...|AIRBUS INDUSTRIE|     A320-232|      2|  200| null|    Turbo-fan|      null|      M|\n",
      "| N527AS|null|Fixed wing multi ...|          BOEING|      737-890|      2|  149| null|    Turbo-fan|      null|      M|\n",
      "| N528AA|null|Fixed wing single...| LAMBERT RICHARD|    FALCON XP|      1|    2| null|Reciprocating|      null|      M|\n",
      "| N531JB|null|Fixed wing single...|   BARKER JACK L|ZODIAC 601HDS|      1|    2| null|Reciprocating|      null|      M|\n",
      "| N53441|null|Fixed wing multi ...|          BOEING|    737-924ER|      2|  191| null|    Turbo-fan|         F|      M|\n",
      "| N583HA|null|Fixed wing multi ...|          BOEING|      767-33A|      2|  330| null|    Turbo-fan|      null|      M|\n",
      "| N613QX|null|Fixed wing multi ...|  BOMBARDIER INC|  CL-600-2C10|      2|   80| null|    Turbo-fan|      null|      M|\n",
      "| N673AW|null|Fixed wing multi ...|          AIRBUS|     A320-232|      2|  200| null|    Turbo-fan|      null|      M|\n",
      "| N679SA|null|Fixed wing multi ...|  BOMBARDIER INC|  CL-600-2B19|      2|   55| null|    Turbo-fan|      null|      M|\n",
      "+-------+----+--------------------+----------------+-------------+-------+-----+-----+-------------+----------+-------+\n",
      "only showing top 20 rows\n",
      "\n",
      "+----+-----+\n",
      "|year|count|\n",
      "+----+-----+\n",
      "|1959|    1|\n",
      "|1990|   42|\n",
      "|1975|    2|\n",
      "|2003|  117|\n",
      "|2007|   93|\n",
      "|2006|  128|\n",
      "|2013|   88|\n",
      "|null|   60|\n",
      "|1988|   29|\n",
      "|1997|   69|\n",
      "|1994|   39|\n",
      "|1968|    1|\n",
      "|2014|  105|\n",
      "|2004|  132|\n",
      "|1991|   48|\n",
      "|1996|   72|\n",
      "|1989|   21|\n",
      "|1998|  159|\n",
      "|1963|    1|\n",
      "|1985|   15|\n",
      "|2012|   88|\n",
      "|1987|   23|\n",
      "|2009|   77|\n",
      "|1995|   54|\n",
      "|1980|    1|\n",
      "|2001|  210|\n",
      "|1992|   78|\n",
      "|2005|  111|\n",
      "|1984|    5|\n",
      "|2000|  189|\n",
      "|2010|   45|\n",
      "|1986|   13|\n",
      "|2011|   64|\n",
      "|1976|    1|\n",
      "|2008|  106|\n",
      "|1999|  167|\n",
      "|2002|  132|\n",
      "|   0|    1|\n",
      "|1993|   41|\n",
      "+----+-----+\n",
      "\n"
     ]
    }
   ],
   "source": [
    "df_planes = df_planes.withColumn(\"qa_year\", \n",
    "                                 when( check_empty_column('year'), 'M'))\n",
    "df_planes.filter(df_planes.qa_year == 'M').show()\n",
    "df_planes.groupBy('year').count().show(100)"
   ]
  },
  {
   "cell_type": "code",
   "execution_count": 33,
   "metadata": {
    "scrolled": true
   },
   "outputs": [
    {
     "name": "stdout",
     "output_type": "stream",
     "text": [
      "+-------+----+--------------------+------------+---------+-------+-----+-----+----------+----------+-------+\n",
      "|tailnum|year|                type|manufacturer|    model|engines|seats|speed|    engine|qa_tailnum|qa_year|\n",
      "+-------+----+--------------------+------------+---------+-------+-----+-----+----------+----------+-------+\n",
      "| N235SW|   0|Fixed wing multi ...|     EMBRAER|EMB-120ER|      2|   32| null|Turbo-prop|      null|      I|\n",
      "+-------+----+--------------------+------------+---------+-------+-----+-----+----------+----------+-------+\n",
      "\n",
      "+-------+----+--------------------+----------------+-------------+-------+-----+-----+-------------+-------+\n",
      "|tailnum|year|                type|    manufacturer|        model|engines|seats|speed|       engine|qa_year|\n",
      "+-------+----+--------------------+----------------+-------------+-------+-----+-----+-------------+-------+\n",
      "| N174US|null|Fixed wing multi ...|AIRBUS INDUSTRIE|     A321-211|      2|  199| null|    Turbo-jet|      M|\n",
      "| N177US|null|Fixed wing multi ...|AIRBUS INDUSTRIE|     A321-211|      2|  199| null|    Turbo-jet|      M|\n",
      "| N181UW|null|Fixed wing multi ...|AIRBUS INDUSTRIE|     A321-211|      2|  199| null|    Turbo-jet|      M|\n",
      "| N194UW|null|Fixed wing multi ...|          AIRBUS|     A321-211|      2|  199| null|    Turbo-fan|      M|\n",
      "| N235SW|   0|Fixed wing multi ...|         EMBRAER|    EMB-120ER|      2|   32| null|   Turbo-prop|      I|\n",
      "| N271LV|null|Fixed wing multi ...|          BOEING|      737-705|      2|  149| null|    Turbo-fan|      M|\n",
      "| N298WN|null|Fixed wing multi ...|          BOEING|      737-7H4|      2|  140| null|    Turbo-fan|      M|\n",
      "| N299WN|null|Fixed wing multi ...|          BOEING|      737-7H4|      2|  140| null|    Turbo-fan|      M|\n",
      "| N331NB|null|Fixed wing multi ...|AIRBUS INDUSTRIE|     A319-114|      2|  145| null|    Turbo-fan|      M|\n",
      "| N33292|null|Fixed wing multi ...|          BOEING|      737-824|      2|  149| null|    Turbo-fan|      M|\n",
      "| N345NB|null|Fixed wing multi ...|          AIRBUS|     A319-114|      2|  145| null|    Turbo-fan|      M|\n",
      "| N389HA|null|Fixed wing multi ...|          AIRBUS|     A330-243|      2|  377| null|    Turbo-fan|      M|\n",
      "| N466UA|null|Fixed wing multi ...|AIRBUS INDUSTRIE|     A320-232|      2|  200| null|    Turbo-fan|      M|\n",
      "| N527AS|null|Fixed wing multi ...|          BOEING|      737-890|      2|  149| null|    Turbo-fan|      M|\n",
      "| N528AA|null|Fixed wing single...| LAMBERT RICHARD|    FALCON XP|      1|    2| null|Reciprocating|      M|\n",
      "| N531JB|null|Fixed wing single...|   BARKER JACK L|ZODIAC 601HDS|      1|    2| null|Reciprocating|      M|\n",
      "| N53441|null|Fixed wing multi ...|          BOEING|    737-924ER|      2|  191| null|    Turbo-fan|      M|\n",
      "| N583HA|null|Fixed wing multi ...|          BOEING|      767-33A|      2|  330| null|    Turbo-fan|      M|\n",
      "| N613QX|null|Fixed wing multi ...|  BOMBARDIER INC|  CL-600-2C10|      2|   80| null|    Turbo-fan|      M|\n",
      "| N673AW|null|Fixed wing multi ...|          AIRBUS|     A320-232|      2|  200| null|    Turbo-fan|      M|\n",
      "+-------+----+--------------------+----------------+-------------+-------+-----+-----+-------------+-------+\n",
      "only showing top 20 rows\n",
      "\n"
     ]
    }
   ],
   "source": [
    "df_planes = df_planes.withColumn(\"qa_year\", \n",
    "                                 when(df_planes.year < 1950, 'I')\n",
    "                                 .otherwise(df_planes.qa_year))\n",
    "df_planes.filter(df_planes.qa_year == 'I').show()\n",
    "\n",
    "\n",
    "df1 = spark.sql(\"\"\"\n",
    "            SELECT *,\n",
    "                CASE\n",
    "                    WHEN\n",
    "                        year IS NULL OR year == ''\n",
    "                        THEN 'M'\n",
    "                    WHEN\n",
    "                        year < 1950\n",
    "                        THEN 'I'\n",
    "                    END AS qa_year\n",
    "                FROM planes\n",
    "\"\"\")\n",
    "\n",
    "df1.filter(df1.qa_year.isin(['M','I'])).show()"
   ]
  },
  {
   "cell_type": "markdown",
   "metadata": {},
   "source": [
    "#### Pergunta 3\n"
   ]
  },
  {
   "cell_type": "code",
   "execution_count": 34,
   "metadata": {
    "scrolled": true
   },
   "outputs": [
    {
     "name": "stdout",
     "output_type": "stream",
     "text": [
      "+-------+----+----+------------+-----+-------+-----+-----+------+----------+-------+-------+\n",
      "|tailnum|year|type|manufacturer|model|engines|seats|speed|engine|qa_tailnum|qa_year|qa_type|\n",
      "+-------+----+----+------------+-----+-------+-----+-----+------+----------+-------+-------+\n",
      "+-------+----+----+------------+-----+-------+-----+-----+------+----------+-------+-------+\n",
      "\n",
      "+--------------------+-----+\n",
      "|                type|count|\n",
      "+--------------------+-----+\n",
      "|          Rotorcraft|    3|\n",
      "|Fixed wing multi ...| 2615|\n",
      "|Fixed wing single...|   10|\n",
      "+--------------------+-----+\n",
      "\n"
     ]
    }
   ],
   "source": [
    "df_planes = df_planes.withColumn(\"qa_type\", \n",
    "                                 when(check_empty_column('type'), 'M'))\n",
    "\n",
    "df_planes.filter(df_planes.qa_type == 'M').show()\n",
    "df_planes.groupBy('type').count().show()"
   ]
  },
  {
   "cell_type": "code",
   "execution_count": 35,
   "metadata": {
    "scrolled": true
   },
   "outputs": [
    {
     "name": "stdout",
     "output_type": "stream",
     "text": [
      "+-------+----+----+------------+-----+-------+-----+-----+------+----------+-------+-------+\n",
      "|tailnum|year|type|manufacturer|model|engines|seats|speed|engine|qa_tailnum|qa_year|qa_type|\n",
      "+-------+----+----+------------+-----+-------+-----+-----+------+----------+-------+-------+\n",
      "+-------+----+----+------------+-----+-------+-----+-----+------+----------+-------+-------+\n",
      "\n",
      "+-------+----+----+------------+-----+-------+-----+-----+------+-------+\n",
      "|tailnum|year|type|manufacturer|model|engines|seats|speed|engine|qa_type|\n",
      "+-------+----+----+------------+-----+-------+-----+-----+------+-------+\n",
      "+-------+----+----+------------+-----+-------+-----+-----+------+-------+\n",
      "\n"
     ]
    }
   ],
   "source": [
    "types = ['Fixed wing multi engine','Fixed wing single engine','Rotorcraft']\n",
    "df_planes = df_planes.withColumn(\"qa_type\", \n",
    "                                 when(~df_planes.type.isin(types), 'C')\n",
    "                                 .otherwise(df_planes.qa_type))\n",
    "\n",
    "df_planes.filter(df_planes.qa_type == 'C').show()\n",
    "\n",
    "\n",
    "df1 = spark.sql(\"\"\"\n",
    "                    SELECT *,\n",
    "                CASE\n",
    "                    WHEN\n",
    "                        type IS NULL OR type == ''\n",
    "                        THEN 'M'\n",
    "                    WHEN\n",
    "                        type NOT IN ('Fixed wing multi engine','Fixed wing single engine','Rotorcraft')\n",
    "                        THEN 'C'\n",
    "                    END AS qa_type\n",
    "                FROM planes\n",
    "\"\"\")\n",
    "\n",
    "df1.filter(df1.qa_type.isin(['M','C'])).show()"
   ]
  },
  {
   "cell_type": "markdown",
   "metadata": {},
   "source": [
    "#### Pergunta 4"
   ]
  },
  {
   "cell_type": "code",
   "execution_count": 36,
   "metadata": {},
   "outputs": [
    {
     "name": "stdout",
     "output_type": "stream",
     "text": [
      "+-------+----+----+------------+-----+-------+-----+-----+------+----------+-------+-------+---------------+\n",
      "|tailnum|year|type|manufacturer|model|engines|seats|speed|engine|qa_tailnum|qa_year|qa_type|qa_manufacturer|\n",
      "+-------+----+----+------------+-----+-------+-----+-----+------+----------+-------+-------+---------------+\n",
      "+-------+----+----+------------+-----+-------+-----+-----+------+----------+-------+-------+---------------+\n",
      "\n",
      "+--------------------+-----+\n",
      "|        manufacturer|count|\n",
      "+--------------------+-----+\n",
      "|       BARKER JACK L|    1|\n",
      "|    AIRBUS INDUSTRIE|  401|\n",
      "|ROBINSON HELICOPT...|    1|\n",
      "|            SIKORSKY|    1|\n",
      "|              BOEING| 1460|\n",
      "|             EMBRAER|   37|\n",
      "|  CIRRUS DESIGN CORP|    1|\n",
      "|          MARZ BARRY|    1|\n",
      "|              CESSNA|    4|\n",
      "|     LAMBERT RICHARD|    1|\n",
      "|      BOMBARDIER INC|  214|\n",
      "|               PIPER|    2|\n",
      "|                BELL|    1|\n",
      "|MCDONNELL DOUGLAS...|    2|\n",
      "|   MCDONNELL DOUGLAS|   94|\n",
      "|        KILDALL GARY|    1|\n",
      "|            CANADAIR|    8|\n",
      "|              AIRBUS|  397|\n",
      "|GULFSTREAM AEROSPACE|    1|\n",
      "+--------------------+-----+\n",
      "\n"
     ]
    }
   ],
   "source": [
    "df_planes = df_planes.withColumn(\"qa_manufacturer\", \n",
    "                                 when(check_empty_column('manufacturer'),'M'))\n",
    "\n",
    "df_planes.filter(df_planes.qa_manufacturer == 'M').show()\n",
    "df_planes.groupBy('manufacturer').count().show()"
   ]
  },
  {
   "cell_type": "code",
   "execution_count": 37,
   "metadata": {},
   "outputs": [
    {
     "name": "stdout",
     "output_type": "stream",
     "text": [
      "+-------+----+----+------------+-----+-------+-----+-----+------+----------+-------+-------+---------------+\n",
      "|tailnum|year|type|manufacturer|model|engines|seats|speed|engine|qa_tailnum|qa_year|qa_type|qa_manufacturer|\n",
      "+-------+----+----+------------+-----+-------+-----+-----+------+----------+-------+-------+---------------+\n",
      "+-------+----+----+------------+-----+-------+-----+-----+------+----------+-------+-------+---------------+\n",
      "\n",
      "+-------+----+--------------------+----------------+-----------+-------+-----+-----+---------+---------------+\n",
      "|tailnum|year|                type|    manufacturer|      model|engines|seats|speed|   engine|qa_manufacturer|\n",
      "+-------+----+--------------------+----------------+-----------+-------+-----+-----+---------+---------------+\n",
      "| N102UW|1998|Fixed wing multi ...|AIRBUS INDUSTRIE|   A320-214|      2|  182| null|Turbo-fan|              C|\n",
      "| N103US|1999|Fixed wing multi ...|AIRBUS INDUSTRIE|   A320-214|      2|  182| null|Turbo-fan|              C|\n",
      "| N104UW|1999|Fixed wing multi ...|AIRBUS INDUSTRIE|   A320-214|      2|  182| null|Turbo-fan|              C|\n",
      "| N105UW|1999|Fixed wing multi ...|AIRBUS INDUSTRIE|   A320-214|      2|  182| null|Turbo-fan|              C|\n",
      "| N107US|1999|Fixed wing multi ...|AIRBUS INDUSTRIE|   A320-214|      2|  182| null|Turbo-fan|              C|\n",
      "| N108UW|1999|Fixed wing multi ...|AIRBUS INDUSTRIE|   A320-214|      2|  182| null|Turbo-fan|              C|\n",
      "| N109UW|1999|Fixed wing multi ...|AIRBUS INDUSTRIE|   A320-214|      2|  182| null|Turbo-fan|              C|\n",
      "| N110UW|1999|Fixed wing multi ...|AIRBUS INDUSTRIE|   A320-214|      2|  182| null|Turbo-fan|              C|\n",
      "| N111US|1999|Fixed wing multi ...|AIRBUS INDUSTRIE|   A320-214|      2|  182| null|Turbo-fan|              C|\n",
      "| N112US|1999|Fixed wing multi ...|AIRBUS INDUSTRIE|   A320-214|      2|  182| null|Turbo-fan|              C|\n",
      "| N113UW|1999|Fixed wing multi ...|AIRBUS INDUSTRIE|   A320-214|      2|  182| null|Turbo-fan|              C|\n",
      "| N114UW|1999|Fixed wing multi ...|AIRBUS INDUSTRIE|   A320-214|      2|  182| null|Turbo-fan|              C|\n",
      "| N117UW|2000|Fixed wing multi ...|AIRBUS INDUSTRIE|   A320-214|      2|  182| null|Turbo-fan|              C|\n",
      "| N118US|2000|Fixed wing multi ...|AIRBUS INDUSTRIE|   A320-214|      2|  182| null|Turbo-fan|              C|\n",
      "| N119US|2000|Fixed wing multi ...|AIRBUS INDUSTRIE|   A320-214|      2|  182| null|Turbo-fan|              C|\n",
      "| N121UW|2000|Fixed wing multi ...|AIRBUS INDUSTRIE|   A320-214|      2|  182| null|Turbo-fan|              C|\n",
      "| N122US|2000|Fixed wing multi ...|AIRBUS INDUSTRIE|   A320-214|      2|  182| null|Turbo-fan|              C|\n",
      "| N123UW|2000|Fixed wing multi ...|AIRBUS INDUSTRIE|   A320-214|      2|  182| null|Turbo-fan|              C|\n",
      "| N124US|2000|Fixed wing multi ...|AIRBUS INDUSTRIE|   A320-214|      2|  182| null|Turbo-fan|              C|\n",
      "| N161PQ|2008|Fixed wing multi ...|  BOMBARDIER INC|CL-600-2D24|      2|   95| null|Turbo-fan|              C|\n",
      "+-------+----+--------------------+----------------+-----------+-------+-----+-----+---------+---------------+\n",
      "only showing top 20 rows\n",
      "\n"
     ]
    }
   ],
   "source": [
    "manufacturers = ['AIRBUS','BOEING','BOMBARDIER','CESSNA','EMBRAER','SIKORSKY','CANADAIR',\n",
    "                 'PIPER','MCDONNELL DOUGLAS','CIRRUS','BELL','KILDALL GARY','LAMBERT RICHARD',\n",
    "                 'BARKER JACK','ROBINSON HELICOPTER','GULFSTREAM','MARZ BARRY']\n",
    "\n",
    "REGEX_MANUFACTURER_LIST = r'|'.join(map(lambda word: f'.*{word}.*', manufacturers))\n",
    "\n",
    "df_planes = df_planes.withColumn(\"qa_manufacturer\", \n",
    "                                 when(~df_planes.manufacturer.rlike(REGEX_MANUFACTURER_LIST), 'C')\n",
    "                                 .otherwise(df_planes.qa_manufacturer))\n",
    "df_planes.filter(df_planes.qa_manufacturer == 'C').show()\n",
    "\n",
    "\n",
    "\n",
    "df1 = spark.sql(\"\"\"\n",
    "                    SELECT *,\n",
    "                CASE\n",
    "                    WHEN\n",
    "                        manufacturer IS NULL OR manufacturer == ''\n",
    "                        THEN 'M'\n",
    "                    WHEN\n",
    "                        manufacturer NOT IN ('AIRBUS','BOEING','BOMBARDIER','CESSNA','EMBRAER',\n",
    "                                            'SIKORSKY','CANADAIR','PIPER','MCDONNELL DOUGLAS',\n",
    "                                            'CIRRUS','BELL','KILDALL GARY','LAMBERT RICHARD',\n",
    "                                            'BARKER JACK','ROBINSON HELICOPTER','GULFSTREAM',\n",
    "                                            'MARZ BARRY')\n",
    "                        THEN 'C'\n",
    "                    END AS qa_manufacturer\n",
    "                FROM planes\n",
    "\"\"\")\n",
    "\n",
    "df1.filter(df1.qa_manufacturer.isin(['M','C'])).show()\n"
   ]
  },
  {
   "cell_type": "markdown",
   "metadata": {},
   "source": [
    "#### Pergunta 5"
   ]
  },
  {
   "cell_type": "code",
   "execution_count": 38,
   "metadata": {
    "scrolled": true
   },
   "outputs": [
    {
     "data": {
      "text/plain": [
       "15"
      ]
     },
     "execution_count": 38,
     "metadata": {},
     "output_type": "execute_result"
    }
   ],
   "source": [
    "df_planes = df_planes.withColumn(\"qa_model\", \n",
    "                                 when( check_empty_column('model'), 'M')\n",
    "                                . when(\n",
    "                                     ((col('manufacturer').rlike(r'.*AIRBUS.*') & ~col('model').startswith('A')) |\n",
    "                                      (col('manufacturer').rlike(r'.*BOEING.*') & ~col('model').startswith('7')) |\n",
    "                                      (col('manufacturer').rlike(r'.*(BOMBARDIER|CANADAIR).*') & ~col('model').startswith('CL')) |\n",
    "                                      (col('manufacturer').rlike(r'.*MCDONNELL DOUGLAS.*') &  ~(col('model').startswith('MD') | col('model').startswith('DC')) )),\n",
    "                                     'F'))\n",
    "df_planes.filter(df_planes.qa_model.isin(['M','F'])).count()"
   ]
  },
  {
   "cell_type": "markdown",
   "metadata": {},
   "source": [
    "#### Pergunta 6"
   ]
  },
  {
   "cell_type": "code",
   "execution_count": 39,
   "metadata": {},
   "outputs": [
    {
     "name": "stdout",
     "output_type": "stream",
     "text": [
      "+-------+----+----+------------+-----+-------+-----+-----+------+----------+-------+-------+---------------+--------+----------+\n",
      "|tailnum|year|type|manufacturer|model|engines|seats|speed|engine|qa_tailnum|qa_year|qa_type|qa_manufacturer|qa_model|qa_engines|\n",
      "+-------+----+----+------------+-----+-------+-----+-----+------+----------+-------+-------+---------------+--------+----------+\n",
      "+-------+----+----+------------+-----+-------+-----+-----+------+----------+-------+-------+---------------+--------+----------+\n",
      "\n",
      "+-------+----+----+------------+-----+-------+-----+-----+------+----------+-------+-------+---------------+--------+----------+\n",
      "|tailnum|year|type|manufacturer|model|engines|seats|speed|engine|qa_tailnum|qa_year|qa_type|qa_manufacturer|qa_model|qa_engines|\n",
      "+-------+----+----+------------+-----+-------+-----+-----+------+----------+-------+-------+---------------+--------+----------+\n",
      "+-------+----+----+------------+-----+-------+-----+-----+------+----------+-------+-------+---------------+--------+----------+\n",
      "\n"
     ]
    }
   ],
   "source": [
    "df_planes = df_planes.withColumn(\"qa_engines\", \n",
    "                                 when(check_empty_column('engines'), 'M'))\n",
    "df_planes.filter(df_planes.qa_engines == 'M').show()\n",
    "df_planes.filter(col('engines').rlike('^[^0-9]*$')).show()"
   ]
  },
  {
   "cell_type": "code",
   "execution_count": 40,
   "metadata": {},
   "outputs": [
    {
     "name": "stdout",
     "output_type": "stream",
     "text": [
      "+-------+----+----+------------+-----+-------+-----+-----+------+----------+-------+-------+---------------+--------+----------+\n",
      "|tailnum|year|type|manufacturer|model|engines|seats|speed|engine|qa_tailnum|qa_year|qa_type|qa_manufacturer|qa_model|qa_engines|\n",
      "+-------+----+----+------------+-----+-------+-----+-----+------+----------+-------+-------+---------------+--------+----------+\n",
      "+-------+----+----+------------+-----+-------+-----+-----+------+----------+-------+-------+---------------+--------+----------+\n",
      "\n"
     ]
    }
   ],
   "source": [
    "df_planes = df_planes.withColumn(\"qa_engines\", \n",
    "                                 when( (df_planes.engines < 1) | (df_planes.engines > 4), 'I')\n",
    "                                 .otherwise(df_planes.qa_engines))\n",
    "\n",
    "df_planes.filter(df_planes.qa_engines == 'I').show()"
   ]
  },
  {
   "cell_type": "code",
   "execution_count": 41,
   "metadata": {
    "scrolled": true
   },
   "outputs": [
    {
     "name": "stdout",
     "output_type": "stream",
     "text": [
      "+-------+----+----+------------+-----+-------+-----+-----+------+----------+-------+-------+---------------+--------+----------+\n",
      "|tailnum|year|type|manufacturer|model|engines|seats|speed|engine|qa_tailnum|qa_year|qa_type|qa_manufacturer|qa_model|qa_engines|\n",
      "+-------+----+----+------------+-----+-------+-----+-----+------+----------+-------+-------+---------------+--------+----------+\n",
      "+-------+----+----+------------+-----+-------+-----+-----+------+----------+-------+-------+---------------+--------+----------+\n",
      "\n",
      "+-------+----+----+------------+-----+-------+-----+-----+------+----------+\n",
      "|tailnum|year|type|manufacturer|model|engines|seats|speed|engine|qa_engines|\n",
      "+-------+----+----+------------+-----+-------+-----+-----+------+----------+\n",
      "+-------+----+----+------------+-----+-------+-----+-----+------+----------+\n",
      "\n"
     ]
    }
   ],
   "source": [
    "df_planes = df_planes.withColumn(\"qa_engines\", \n",
    "                                 when( df_planes.engines.rlike('\\D+'), 'A')\n",
    "                                 .otherwise(df_planes.qa_engines))\n",
    "\n",
    "df_planes.filter(df_planes.qa_engines == 'A').show()\n",
    "\n",
    "df1 = spark.sql(\"\"\"\n",
    "                    SELECT *,\n",
    "                        CASE\n",
    "                            WHEN\n",
    "                                engines IS NULL OR engines == ''\n",
    "                                THEN 'M'\n",
    "                            WHEN\n",
    "                                engines < 1 OR engines > 4\n",
    "                                THEN 'I'\n",
    "                            WHEN\n",
    "                                engines rlike '[^0-9]'\n",
    "                                THEN 'A'\n",
    "                        END AS qa_engines\n",
    "                    FROM planes\n",
    "\"\"\")\n",
    "\n",
    "df1.filter(df1.qa_engines.isin(['M','I','A'])).show()"
   ]
  },
  {
   "cell_type": "markdown",
   "metadata": {},
   "source": [
    "#### Pergunta 7"
   ]
  },
  {
   "cell_type": "code",
   "execution_count": 42,
   "metadata": {
    "scrolled": true
   },
   "outputs": [
    {
     "name": "stdout",
     "output_type": "stream",
     "text": [
      "+-------+----+----+------------+-----+-------+-----+-----+------+----------+-------+-------+---------------+--------+----------+--------+\n",
      "|tailnum|year|type|manufacturer|model|engines|seats|speed|engine|qa_tailnum|qa_year|qa_type|qa_manufacturer|qa_model|qa_engines|qa_seats|\n",
      "+-------+----+----+------------+-----+-------+-----+-----+------+----------+-------+-------+---------------+--------+----------+--------+\n",
      "+-------+----+----+------------+-----+-------+-----+-----+------+----------+-------+-------+---------------+--------+----------+--------+\n",
      "\n",
      "+-------+----+----+------------+-----+-------+-----+-----+------+----------+-------+-------+---------------+--------+----------+--------+\n",
      "|tailnum|year|type|manufacturer|model|engines|seats|speed|engine|qa_tailnum|qa_year|qa_type|qa_manufacturer|qa_model|qa_engines|qa_seats|\n",
      "+-------+----+----+------------+-----+-------+-----+-----+------+----------+-------+-------+---------------+--------+----------+--------+\n",
      "+-------+----+----+------------+-----+-------+-----+-----+------+----------+-------+-------+---------------+--------+----------+--------+\n",
      "\n"
     ]
    }
   ],
   "source": [
    "df_planes = df_planes.withColumn(\"qa_seats\", \n",
    "                                 when( check_empty_column('seats'), 'M'))\n",
    "df_planes.filter(df_planes.qa_seats == 'M').show()\n",
    "\n",
    "df_planes.filter(col('engines').rlike('^[^0-9]*$')).show()"
   ]
  },
  {
   "cell_type": "code",
   "execution_count": 43,
   "metadata": {},
   "outputs": [
    {
     "name": "stdout",
     "output_type": "stream",
     "text": [
      "+-------+----+----+------------+-----+-------+-----+-----+------+----------+-------+-------+---------------+--------+----------+--------+\n",
      "|tailnum|year|type|manufacturer|model|engines|seats|speed|engine|qa_tailnum|qa_year|qa_type|qa_manufacturer|qa_model|qa_engines|qa_seats|\n",
      "+-------+----+----+------------+-----+-------+-----+-----+------+----------+-------+-------+---------------+--------+----------+--------+\n",
      "+-------+----+----+------------+-----+-------+-----+-----+------+----------+-------+-------+---------------+--------+----------+--------+\n",
      "\n"
     ]
    }
   ],
   "source": [
    "df_planes = df_planes.withColumn(\"qa_seats\", \n",
    "                                 when((df_planes.seats < 2) | (df_planes.seats > 500), 'I')\n",
    "                                 .otherwise(df_planes.qa_seats))\n",
    "\n",
    "df_planes.filter(df_planes.qa_seats == 'I').show()"
   ]
  },
  {
   "cell_type": "code",
   "execution_count": 44,
   "metadata": {},
   "outputs": [
    {
     "name": "stdout",
     "output_type": "stream",
     "text": [
      "+-------+----+----+------------+-----+-------+-----+-----+------+----------+-------+-------+---------------+--------+----------+--------+\n",
      "|tailnum|year|type|manufacturer|model|engines|seats|speed|engine|qa_tailnum|qa_year|qa_type|qa_manufacturer|qa_model|qa_engines|qa_seats|\n",
      "+-------+----+----+------------+-----+-------+-----+-----+------+----------+-------+-------+---------------+--------+----------+--------+\n",
      "+-------+----+----+------------+-----+-------+-----+-----+------+----------+-------+-------+---------------+--------+----------+--------+\n",
      "\n",
      "+-------+----+----+------------+-----+-------+-----+-----+------+--------+\n",
      "|tailnum|year|type|manufacturer|model|engines|seats|speed|engine|qa_seats|\n",
      "+-------+----+----+------------+-----+-------+-----+-----+------+--------+\n",
      "+-------+----+----+------------+-----+-------+-----+-----+------+--------+\n",
      "\n"
     ]
    }
   ],
   "source": [
    "df_planes = df_planes.withColumn(\"qa_seats\", \n",
    "                                 when( df_planes.seats.rlike('\\D+'), 'A')\n",
    "                                 .otherwise(df_planes.qa_seats))\n",
    "\n",
    "df_planes.filter(df_planes.qa_seats == 'A').show()\n",
    "\n",
    "\n",
    "df1 = spark.sql(\"\"\"\n",
    "                    SELECT *,\n",
    "                        CASE\n",
    "                            WHEN\n",
    "                                seats IS NULL OR seats == ''\n",
    "                                THEN 'M'\n",
    "                            WHEN\n",
    "                                seats < 2 OR seats > 500\n",
    "                                THEN 'I'\n",
    "                            WHEN\n",
    "                                seats rlike '[^0-9]'\n",
    "                                THEN 'A'\n",
    "                        END AS qa_seats\n",
    "                    FROM planes\n",
    "\"\"\")\n",
    "\n",
    "df1.filter(df1.qa_seats.isin(['M','I','A'])).show()"
   ]
  },
  {
   "cell_type": "markdown",
   "metadata": {},
   "source": [
    "#### Pergunta 8"
   ]
  },
  {
   "cell_type": "code",
   "execution_count": 45,
   "metadata": {},
   "outputs": [
    {
     "name": "stdout",
     "output_type": "stream",
     "text": [
      "+-------+----+--------------------+----------------+--------+-------+-----+-----+---------+----------+-------+-------+---------------+--------+----------+--------+--------+\n",
      "|tailnum|year|                type|    manufacturer|   model|engines|seats|speed|   engine|qa_tailnum|qa_year|qa_type|qa_manufacturer|qa_model|qa_engines|qa_seats|qa_speed|\n",
      "+-------+----+--------------------+----------------+--------+-------+-----+-----+---------+----------+-------+-------+---------------+--------+----------+--------+--------+\n",
      "| N102UW|1998|Fixed wing multi ...|AIRBUS INDUSTRIE|A320-214|      2|  182| null|Turbo-fan|      null|   null|   null|           null|    null|      null|    null|       M|\n",
      "| N103US|1999|Fixed wing multi ...|AIRBUS INDUSTRIE|A320-214|      2|  182| null|Turbo-fan|      null|   null|   null|           null|    null|      null|    null|       M|\n",
      "| N104UW|1999|Fixed wing multi ...|AIRBUS INDUSTRIE|A320-214|      2|  182| null|Turbo-fan|      null|   null|   null|           null|    null|      null|    null|       M|\n",
      "| N105UW|1999|Fixed wing multi ...|AIRBUS INDUSTRIE|A320-214|      2|  182| null|Turbo-fan|      null|   null|   null|           null|    null|      null|    null|       M|\n",
      "| N107US|1999|Fixed wing multi ...|AIRBUS INDUSTRIE|A320-214|      2|  182| null|Turbo-fan|      null|   null|   null|           null|    null|      null|    null|       M|\n",
      "| N108UW|1999|Fixed wing multi ...|AIRBUS INDUSTRIE|A320-214|      2|  182| null|Turbo-fan|      null|   null|   null|           null|    null|      null|    null|       M|\n",
      "| N109UW|1999|Fixed wing multi ...|AIRBUS INDUSTRIE|A320-214|      2|  182| null|Turbo-fan|      null|   null|   null|           null|    null|      null|    null|       M|\n",
      "| N110UW|1999|Fixed wing multi ...|AIRBUS INDUSTRIE|A320-214|      2|  182| null|Turbo-fan|      null|   null|   null|           null|    null|      null|    null|       M|\n",
      "| N111US|1999|Fixed wing multi ...|AIRBUS INDUSTRIE|A320-214|      2|  182| null|Turbo-fan|      null|   null|   null|           null|    null|      null|    null|       M|\n",
      "| N11206|2000|Fixed wing multi ...|          BOEING| 737-824|      2|  149| null|Turbo-fan|         F|   null|   null|           null|    null|      null|    null|       M|\n",
      "| N112US|1999|Fixed wing multi ...|AIRBUS INDUSTRIE|A320-214|      2|  182| null|Turbo-fan|      null|   null|   null|           null|    null|      null|    null|       M|\n",
      "| N113UW|1999|Fixed wing multi ...|AIRBUS INDUSTRIE|A320-214|      2|  182| null|Turbo-fan|      null|   null|   null|           null|    null|      null|    null|       M|\n",
      "| N114UW|1999|Fixed wing multi ...|AIRBUS INDUSTRIE|A320-214|      2|  182| null|Turbo-fan|      null|   null|   null|           null|    null|      null|    null|       M|\n",
      "| N117UW|2000|Fixed wing multi ...|AIRBUS INDUSTRIE|A320-214|      2|  182| null|Turbo-fan|      null|   null|   null|           null|    null|      null|    null|       M|\n",
      "| N118US|2000|Fixed wing multi ...|AIRBUS INDUSTRIE|A320-214|      2|  182| null|Turbo-fan|      null|   null|   null|           null|    null|      null|    null|       M|\n",
      "| N119US|2000|Fixed wing multi ...|AIRBUS INDUSTRIE|A320-214|      2|  182| null|Turbo-fan|      null|   null|   null|           null|    null|      null|    null|       M|\n",
      "| N1200K|1998|Fixed wing multi ...|          BOEING| 767-332|      2|  330| null|Turbo-fan|      null|   null|   null|           null|    null|      null|    null|       M|\n",
      "| N1201P|1998|Fixed wing multi ...|          BOEING| 767-332|      2|  330| null|Turbo-fan|      null|   null|   null|           null|    null|      null|    null|       M|\n",
      "| N12114|1995|Fixed wing multi ...|          BOEING| 757-224|      2|  178| null|Turbo-jet|         F|   null|   null|           null|    null|      null|    null|       M|\n",
      "| N121DE|1987|Fixed wing multi ...|          BOEING| 767-332|      2|  330| null|Turbo-fan|      null|   null|   null|           null|    null|      null|    null|       M|\n",
      "+-------+----+--------------------+----------------+--------+-------+-----+-----+---------+----------+-------+-------+---------------+--------+----------+--------+--------+\n",
      "only showing top 20 rows\n",
      "\n"
     ]
    }
   ],
   "source": [
    "df_planes = df_planes.withColumn(\"qa_speed\", \n",
    "                                 when(check_empty_column('speed'), 'M'))\n",
    "df_planes.filter(df_planes.qa_speed == 'M').show()"
   ]
  },
  {
   "cell_type": "code",
   "execution_count": 46,
   "metadata": {},
   "outputs": [
    {
     "name": "stdout",
     "output_type": "stream",
     "text": [
      "+-------+----+----+------------+-----+-------+-----+-----+------+----------+-------+-------+---------------+--------+----------+--------+--------+\n",
      "|tailnum|year|type|manufacturer|model|engines|seats|speed|engine|qa_tailnum|qa_year|qa_type|qa_manufacturer|qa_model|qa_engines|qa_seats|qa_speed|\n",
      "+-------+----+----+------------+-----+-------+-----+-----+------+----------+-------+-------+---------------+--------+----------+--------+--------+\n",
      "+-------+----+----+------------+-----+-------+-----+-----+------+----------+-------+-------+---------------+--------+----------+--------+--------+\n",
      "\n"
     ]
    }
   ],
   "source": [
    "df_planes = df_planes.withColumn(\"qa_speed\", \n",
    "                                 when((df_planes.speed < 50) | (df_planes.speed > 150), 'I')\n",
    "                                 .otherwise(df_planes.qa_speed))\n",
    "\n",
    "df_planes.filter(df_planes.qa_speed == 'I').show()"
   ]
  },
  {
   "cell_type": "code",
   "execution_count": 47,
   "metadata": {},
   "outputs": [
    {
     "name": "stdout",
     "output_type": "stream",
     "text": [
      "+-------+----+----+------------+-----+-------+-----+-----+------+----------+-------+-------+---------------+--------+----------+--------+--------+\n",
      "|tailnum|year|type|manufacturer|model|engines|seats|speed|engine|qa_tailnum|qa_year|qa_type|qa_manufacturer|qa_model|qa_engines|qa_seats|qa_speed|\n",
      "+-------+----+----+------------+-----+-------+-----+-----+------+----------+-------+-------+---------------+--------+----------+--------+--------+\n",
      "+-------+----+----+------------+-----+-------+-----+-----+------+----------+-------+-------+---------------+--------+----------+--------+--------+\n",
      "\n",
      "+-------+----+--------------------+----------------+--------+-------+-----+-----+---------+--------+\n",
      "|tailnum|year|                type|    manufacturer|   model|engines|seats|speed|   engine|qa_speed|\n",
      "+-------+----+--------------------+----------------+--------+-------+-----+-----+---------+--------+\n",
      "| N102UW|1998|Fixed wing multi ...|AIRBUS INDUSTRIE|A320-214|      2|  182| null|Turbo-fan|       M|\n",
      "| N103US|1999|Fixed wing multi ...|AIRBUS INDUSTRIE|A320-214|      2|  182| null|Turbo-fan|       M|\n",
      "| N104UW|1999|Fixed wing multi ...|AIRBUS INDUSTRIE|A320-214|      2|  182| null|Turbo-fan|       M|\n",
      "| N105UW|1999|Fixed wing multi ...|AIRBUS INDUSTRIE|A320-214|      2|  182| null|Turbo-fan|       M|\n",
      "| N107US|1999|Fixed wing multi ...|AIRBUS INDUSTRIE|A320-214|      2|  182| null|Turbo-fan|       M|\n",
      "| N108UW|1999|Fixed wing multi ...|AIRBUS INDUSTRIE|A320-214|      2|  182| null|Turbo-fan|       M|\n",
      "| N109UW|1999|Fixed wing multi ...|AIRBUS INDUSTRIE|A320-214|      2|  182| null|Turbo-fan|       M|\n",
      "| N110UW|1999|Fixed wing multi ...|AIRBUS INDUSTRIE|A320-214|      2|  182| null|Turbo-fan|       M|\n",
      "| N111US|1999|Fixed wing multi ...|AIRBUS INDUSTRIE|A320-214|      2|  182| null|Turbo-fan|       M|\n",
      "| N11206|2000|Fixed wing multi ...|          BOEING| 737-824|      2|  149| null|Turbo-fan|       M|\n",
      "| N112US|1999|Fixed wing multi ...|AIRBUS INDUSTRIE|A320-214|      2|  182| null|Turbo-fan|       M|\n",
      "| N113UW|1999|Fixed wing multi ...|AIRBUS INDUSTRIE|A320-214|      2|  182| null|Turbo-fan|       M|\n",
      "| N114UW|1999|Fixed wing multi ...|AIRBUS INDUSTRIE|A320-214|      2|  182| null|Turbo-fan|       M|\n",
      "| N117UW|2000|Fixed wing multi ...|AIRBUS INDUSTRIE|A320-214|      2|  182| null|Turbo-fan|       M|\n",
      "| N118US|2000|Fixed wing multi ...|AIRBUS INDUSTRIE|A320-214|      2|  182| null|Turbo-fan|       M|\n",
      "| N119US|2000|Fixed wing multi ...|AIRBUS INDUSTRIE|A320-214|      2|  182| null|Turbo-fan|       M|\n",
      "| N1200K|1998|Fixed wing multi ...|          BOEING| 767-332|      2|  330| null|Turbo-fan|       M|\n",
      "| N1201P|1998|Fixed wing multi ...|          BOEING| 767-332|      2|  330| null|Turbo-fan|       M|\n",
      "| N12114|1995|Fixed wing multi ...|          BOEING| 757-224|      2|  178| null|Turbo-jet|       M|\n",
      "| N121DE|1987|Fixed wing multi ...|          BOEING| 767-332|      2|  330| null|Turbo-fan|       M|\n",
      "+-------+----+--------------------+----------------+--------+-------+-----+-----+---------+--------+\n",
      "only showing top 20 rows\n",
      "\n"
     ]
    }
   ],
   "source": [
    "df_planes = df_planes.withColumn(\"qa_speed\", \n",
    "                                 when( df_planes.speed.rlike('\\D+'), 'A')\n",
    "                                 .otherwise(df_planes.qa_speed))\n",
    "\n",
    "df_planes.filter(df_planes.qa_speed == 'A').show()\n",
    "\n",
    "\n",
    "df1 = spark.sql(\"\"\"\n",
    "                    SELECT *,\n",
    "                        CASE\n",
    "                            WHEN\n",
    "                                speed IS NULL OR speed == ''\n",
    "                                THEN 'M'\n",
    "                            WHEN\n",
    "                                speed < 50 OR speed > 150\n",
    "                                THEN 'I'\n",
    "                            WHEN\n",
    "                                speed rlike '[^0-9]'\n",
    "                                THEN 'A'\n",
    "                        END AS qa_speed\n",
    "                    FROM planes\n",
    "\"\"\")\n",
    "\n",
    "df1.filter(df1.qa_speed.isin(['M','I','A'])).show()"
   ]
  },
  {
   "cell_type": "markdown",
   "metadata": {},
   "source": [
    "#### Pergunta 9"
   ]
  },
  {
   "cell_type": "code",
   "execution_count": 48,
   "metadata": {},
   "outputs": [
    {
     "name": "stdout",
     "output_type": "stream",
     "text": [
      "+-------+----+----+------------+-----+-------+-----+-----+------+----------+-------+-------+---------------+--------+----------+--------+--------+---------+\n",
      "|tailnum|year|type|manufacturer|model|engines|seats|speed|engine|qa_tailnum|qa_year|qa_type|qa_manufacturer|qa_model|qa_engines|qa_seats|qa_speed|qa_engine|\n",
      "+-------+----+----+------------+-----+-------+-----+-----+------+----------+-------+-------+---------------+--------+----------+--------+--------+---------+\n",
      "+-------+----+----+------------+-----+-------+-----+-----+------+----------+-------+-------+---------------+--------+----------+--------+--------+---------+\n",
      "\n"
     ]
    }
   ],
   "source": [
    "df_planes = df_planes.withColumn(\"qa_engine\", \n",
    "                                 when( check_empty_column('engine'), 'M'))\n",
    "df_planes.filter(df_planes.qa_engine == 'M').show()"
   ]
  },
  {
   "cell_type": "code",
   "execution_count": 49,
   "metadata": {
    "scrolled": true
   },
   "outputs": [
    {
     "name": "stdout",
     "output_type": "stream",
     "text": [
      "+---------+-----+\n",
      "|qa_engine|count|\n",
      "+---------+-----+\n",
      "|        C|   10|\n",
      "+---------+-----+\n",
      "\n",
      "+-------------+-----+\n",
      "|       engine|count|\n",
      "+-------------+-----+\n",
      "|    Turbo-jet|  450|\n",
      "|      4 Cycle|    1|\n",
      "|    Turbo-fan| 2127|\n",
      "|   Turbo-prop|   37|\n",
      "|Reciprocating|   10|\n",
      "|  Turbo-shaft|    3|\n",
      "+-------------+-----+\n",
      "\n",
      "+-------+----+--------------------+------------------+-------------+-------+-----+-----+-------------+---------+\n",
      "|tailnum|year|                type|      manufacturer|        model|engines|seats|speed|       engine|qa_engine|\n",
      "+-------+----+--------------------+------------------+-------------+-------+-----+-----+-------------+---------+\n",
      "| N201AA|1959|Fixed wing single...|            CESSNA|          150|      1|    2|   90|Reciprocating|        C|\n",
      "| N202AA|1980|Fixed wing multi ...|            CESSNA|         421C|      2|    8|   90|Reciprocating|        C|\n",
      "| N425AA|1968|Fixed wing single...|             PIPER|    PA-28-180|      1|    4|  107|Reciprocating|        C|\n",
      "| N508JB|2007|Fixed wing single...|CIRRUS DESIGN CORP|         SR22|      1|    4| null|Reciprocating|        C|\n",
      "| N520AA|1985|Fixed wing single...|      KILDALL GARY|    FALCON-XP|      1|    2| null|Reciprocating|        C|\n",
      "| N528AA|null|Fixed wing single...|   LAMBERT RICHARD|    FALCON XP|      1|    2| null|Reciprocating|        C|\n",
      "| N531JB|null|Fixed wing single...|     BARKER JACK L|ZODIAC 601HDS|      1|    2| null|Reciprocating|        C|\n",
      "| N545AA|1976|Fixed wing single...|             PIPER|   PA-32R-300|      1|    7|  126|Reciprocating|        C|\n",
      "| N557AA|1993|Fixed wing single...|        MARZ BARRY|    KITFOX IV|      1|    2| null|Reciprocating|        C|\n",
      "| N575AA|1963|Fixed wing single...|            CESSNA|   210-5(205)|      1|    6| null|Reciprocating|        C|\n",
      "+-------+----+--------------------+------------------+-------------+-------+-----+-----+-------------+---------+\n",
      "\n"
     ]
    }
   ],
   "source": [
    "engine_list = ['Turbo-fan', 'Turbo-jet','Turbo-prop','Turbo-shaft','4 Cycle']\n",
    "\n",
    "df_planes = df_planes.withColumn(\"qa_engine\", \n",
    "                                 when(~df_planes.engine.isin(engine_list), 'C')\n",
    "                                 .otherwise(df_planes.qa_engine))\n",
    "\n",
    "df_planes.filter(df_planes.qa_engine == 'C').groupBy('qa_engine').count().show()\n",
    "df_planes.groupBy('engine').count().show()\n",
    "\n",
    "df1 = spark.sql(\"\"\"\n",
    "                    SELECT *,\n",
    "                        CASE\n",
    "                            WHEN\n",
    "                                engine IS NULL OR engine == ''\n",
    "                                THEN 'M'\n",
    "                            WHEN\n",
    "                                engine NOT IN ('Turbo-fan', 'Turbo-jet','Turbo-prop',\n",
    "                                                'Turbo-shaft','4 Cycle')\n",
    "                                THEN 'C'\n",
    "                        END AS qa_engine\n",
    "                    FROM planes\n",
    "\"\"\")\n",
    "\n",
    "df1.filter(df1.qa_engine.isin(['M','C'])).show()"
   ]
  },
  {
   "cell_type": "code",
   "execution_count": 50,
   "metadata": {
    "scrolled": true
   },
   "outputs": [],
   "source": [
    "df_planes_qa = df_planes.select(col(\"tailnum\"),\n",
    "                                col(\"qa_tailnum\"),\n",
    "                                col(\"qa_year\"), \n",
    "                                col(\"qa_type\"), \n",
    "                                col(\"qa_manufacturer\"), \n",
    "                                col(\"qa_model\"), \n",
    "                                col(\"qa_engines\"), \n",
    "                                col(\"qa_seats\"), \n",
    "                                col(\"qa_speed\"), \n",
    "                                col(\"qa_engine\")\n",
    "                               )\n",
    "df_planes_qa.write.mode('overwrite').parquet(\"output/planes_qa.parquet\")"
   ]
  },
  {
   "cell_type": "markdown",
   "metadata": {},
   "source": [
    "## Flights - perguntas"
   ]
  },
  {
   "cell_type": "code",
   "execution_count": 51,
   "metadata": {},
   "outputs": [],
   "source": [
    "schema_flights = StructType()\\\n",
    ".add(\"year\", IntegerType(), True)\\\n",
    ".add('month', IntegerType(), True)\\\n",
    ".add('day', IntegerType(), True)\\\n",
    ".add('dep_time', StringType(), True)\\\n",
    ".add('dep_delay', IntegerType(), True)\\\n",
    ".add('arr_time', StringType(), True)\\\n",
    ".add('arr_delay', IntegerType(), True)\\\n",
    ".add('carrier', StringType(), True)\\\n",
    ".add('tailnum', StringType(), True)\\\n",
    ".add('flight', StringType(), True)\\\n",
    ".add('origin', StringType(), True)\\\n",
    ".add('dest', StringType(), True)\\\n",
    ".add('air_time', IntegerType(), True)\\\n",
    ".add('distance', IntegerType(), True)\\\n",
    ".add('hour', IntegerType(), True)\\\n",
    ".add('minute', IntegerType(), True)"
   ]
  },
  {
   "cell_type": "code",
   "execution_count": 52,
   "metadata": {
    "scrolled": false
   },
   "outputs": [],
   "source": [
    "df_flights = spark.read.options(delimiter=',', header=True).schema(schema_flights).csv(\"data/flights.csv\")\n",
    "\n",
    "df_flights_sql = df_flights\n",
    "rdd = df_flights.rdd\n",
    "rdd1 = rdd.coalesce(3)\n",
    "colunas = df_flights.columns\n",
    "df_flights_sql.createOrReplaceTempView(\"flights\")\n"
   ]
  },
  {
   "cell_type": "markdown",
   "metadata": {},
   "source": [
    "#### Pergunta 1"
   ]
  },
  {
   "cell_type": "code",
   "execution_count": 53,
   "metadata": {},
   "outputs": [
    {
     "name": "stdout",
     "output_type": "stream",
     "text": [
      "+----+-----+---+--------+---------+--------+---------+-------+-------+------+------+----+--------+--------+----+------+-----------------+\n",
      "|year|month|day|dep_time|dep_delay|arr_time|arr_delay|carrier|tailnum|flight|origin|dest|air_time|distance|hour|minute|qa_year_month_day|\n",
      "+----+-----+---+--------+---------+--------+---------+-------+-------+------+------+----+--------+--------+----+------+-----------------+\n",
      "+----+-----+---+--------+---------+--------+---------+-------+-------+------+------+----+--------+--------+----+------+-----------------+\n",
      "\n",
      "+------+-----+\n",
      "|minute|count|\n",
      "+------+-----+\n",
      "|  null|   48|\n",
      "|     0|  178|\n",
      "|     1|  184|\n",
      "|     2|  173|\n",
      "|     3|  161|\n",
      "|     4|  157|\n",
      "|     5|  167|\n",
      "|     6|  157|\n",
      "|     7|  153|\n",
      "|     8|  153|\n",
      "|     9|  183|\n",
      "|    10|  160|\n",
      "|    11|  161|\n",
      "|    12|  161|\n",
      "|    13|  150|\n",
      "|    14|  136|\n",
      "|    15|  162|\n",
      "|    16|  152|\n",
      "|    17|  155|\n",
      "|    18|  130|\n",
      "|    19|  155|\n",
      "|    20|  163|\n",
      "|    21|  139|\n",
      "|    22|  156|\n",
      "|    23|  142|\n",
      "|    24|  177|\n",
      "|    25|  188|\n",
      "|    26|  154|\n",
      "|    27|  172|\n",
      "|    28|  159|\n",
      "|    29|  180|\n",
      "|    30|  155|\n",
      "|    31|  153|\n",
      "|    32|  149|\n",
      "|    33|  173|\n",
      "|    34|  125|\n",
      "|    35|  154|\n",
      "|    36|  133|\n",
      "|    37|  135|\n",
      "|    38|  150|\n",
      "|    39|  155|\n",
      "|    40|  172|\n",
      "|    41|  166|\n",
      "|    42|  160|\n",
      "|    43|  153|\n",
      "|    44|  134|\n",
      "|    45|  145|\n",
      "|    46|  142|\n",
      "|    47|  173|\n",
      "|    48|  176|\n",
      "|    49|  155|\n",
      "|    50|  196|\n",
      "|    51|  161|\n",
      "|    52|  191|\n",
      "|    53|  200|\n",
      "|    54|  198|\n",
      "|    55|  230|\n",
      "|    56|  201|\n",
      "|    57|  242|\n",
      "|    58|  235|\n",
      "|    59|  222|\n",
      "+------+-----+\n",
      "\n",
      "48\n",
      "48\n",
      "178\n",
      "89\n"
     ]
    }
   ],
   "source": [
    "df_flights = df_flights.withColumn(\"qa_year_month_day\", \n",
    "                                   when(check_empty_column('year'), 'MY'))\n",
    "\n",
    "df_flights.filter(df_flights.qa_year_month_day == 'MY').show()\n",
    "\n",
    "df_flights.groupBy('minute').count().orderBy('minute').show(65)\n",
    "print(df_flights.filter(col('minute').isNull()).count())\n",
    "print(df_flights.filter(col('hour').isNull()).count())\n",
    "print(df_flights.filter(col('minute')==0).count())\n",
    "print(df_flights.filter(col('hour')==0).count())"
   ]
  },
  {
   "cell_type": "code",
   "execution_count": 54,
   "metadata": {},
   "outputs": [
    {
     "name": "stdout",
     "output_type": "stream",
     "text": [
      "+----+-----+---+--------+---------+--------+---------+-------+-------+------+------+----+--------+--------+----+------+-----------------+\n",
      "|year|month|day|dep_time|dep_delay|arr_time|arr_delay|carrier|tailnum|flight|origin|dest|air_time|distance|hour|minute|qa_year_month_day|\n",
      "+----+-----+---+--------+---------+--------+---------+-------+-------+------+------+----+--------+--------+----+------+-----------------+\n",
      "+----+-----+---+--------+---------+--------+---------+-------+-------+------+------+----+--------+--------+----+------+-----------------+\n",
      "\n"
     ]
    }
   ],
   "source": [
    "df_flights = df_flights.withColumn(\"qa_year_month_day\", \n",
    "                                   when(check_empty_column('month'), 'MM')\n",
    "                                   .otherwise(df_flights.qa_year_month_day))\n",
    "\n",
    "df_flights.filter(df_flights.qa_year_month_day == 'MM').show()"
   ]
  },
  {
   "cell_type": "code",
   "execution_count": 55,
   "metadata": {},
   "outputs": [
    {
     "name": "stdout",
     "output_type": "stream",
     "text": [
      "+----+-----+---+--------+---------+--------+---------+-------+-------+------+------+----+--------+--------+----+------+-----------------+\n",
      "|year|month|day|dep_time|dep_delay|arr_time|arr_delay|carrier|tailnum|flight|origin|dest|air_time|distance|hour|minute|qa_year_month_day|\n",
      "+----+-----+---+--------+---------+--------+---------+-------+-------+------+------+----+--------+--------+----+------+-----------------+\n",
      "+----+-----+---+--------+---------+--------+---------+-------+-------+------+------+----+--------+--------+----+------+-----------------+\n",
      "\n"
     ]
    }
   ],
   "source": [
    "df_flights = df_flights.withColumn(\"qa_year_month_day\", \n",
    "                                   when(check_empty_column('day'), 'MD')\n",
    "                                   .otherwise(df_flights.qa_year_month_day))\n",
    "\n",
    "df_flights.filter(df_flights.qa_year_month_day == 'MD').show()"
   ]
  },
  {
   "cell_type": "code",
   "execution_count": 56,
   "metadata": {},
   "outputs": [
    {
     "name": "stdout",
     "output_type": "stream",
     "text": [
      "+----+-----+---+--------+---------+--------+---------+-------+-------+------+------+----+--------+--------+----+------+-----------------+\n",
      "|year|month|day|dep_time|dep_delay|arr_time|arr_delay|carrier|tailnum|flight|origin|dest|air_time|distance|hour|minute|qa_year_month_day|\n",
      "+----+-----+---+--------+---------+--------+---------+-------+-------+------+------+----+--------+--------+----+------+-----------------+\n",
      "+----+-----+---+--------+---------+--------+---------+-------+-------+------+------+----+--------+--------+----+------+-----------------+\n",
      "\n"
     ]
    }
   ],
   "source": [
    "df_flights = df_flights.withColumn(\"qa_year_month_day\", \n",
    "                                   when(df_flights.year < 1950, 'IY')\n",
    "                                   .otherwise(df_flights.qa_year_month_day))\n",
    "\n",
    "df_flights.filter(df_flights.qa_year_month_day == 'IY').show()"
   ]
  },
  {
   "cell_type": "code",
   "execution_count": 57,
   "metadata": {},
   "outputs": [
    {
     "name": "stdout",
     "output_type": "stream",
     "text": [
      "+----+-----+---+--------+---------+--------+---------+-------+-------+------+------+----+--------+--------+----+------+-----------------+\n",
      "|year|month|day|dep_time|dep_delay|arr_time|arr_delay|carrier|tailnum|flight|origin|dest|air_time|distance|hour|minute|qa_year_month_day|\n",
      "+----+-----+---+--------+---------+--------+---------+-------+-------+------+------+----+--------+--------+----+------+-----------------+\n",
      "+----+-----+---+--------+---------+--------+---------+-------+-------+------+------+----+--------+--------+----+------+-----------------+\n",
      "\n"
     ]
    }
   ],
   "source": [
    "df_flights = df_flights.withColumn(\"qa_year_month_day\", \n",
    "                                   when((df_flights.month < 1) | (df_flights.month > 12) , 'IM')\n",
    "                                   .otherwise(df_flights.qa_year_month_day))\n",
    "\n",
    "df_flights.filter(df_flights.qa_year_month_day == 'IM').show()"
   ]
  },
  {
   "cell_type": "code",
   "execution_count": 58,
   "metadata": {},
   "outputs": [
    {
     "name": "stdout",
     "output_type": "stream",
     "text": [
      "+----+-----+---+--------+---------+--------+---------+-------+-------+------+------+----+--------+--------+----+------+-----------------+\n",
      "|year|month|day|dep_time|dep_delay|arr_time|arr_delay|carrier|tailnum|flight|origin|dest|air_time|distance|hour|minute|qa_year_month_day|\n",
      "+----+-----+---+--------+---------+--------+---------+-------+-------+------+------+----+--------+--------+----+------+-----------------+\n",
      "+----+-----+---+--------+---------+--------+---------+-------+-------+------+------+----+--------+--------+----+------+-----------------+\n",
      "\n",
      "+----+-----+---+--------+---------+--------+---------+-------+-------+------+------+----+--------+--------+----+------+-----------------+\n",
      "|year|month|day|dep_time|dep_delay|arr_time|arr_delay|carrier|tailnum|flight|origin|dest|air_time|distance|hour|minute|qa_year_month_day|\n",
      "+----+-----+---+--------+---------+--------+---------+-------+-------+------+------+----+--------+--------+----+------+-----------------+\n",
      "+----+-----+---+--------+---------+--------+---------+-------+-------+------+------+----+--------+--------+----+------+-----------------+\n",
      "\n"
     ]
    }
   ],
   "source": [
    "df_flights = df_flights.withColumn(\"qa_year_month_day\", \n",
    "                                   when((df_flights.day < 1) | \n",
    "                                        (df_flights.day > 31) |\n",
    "                                        ((df_flights.month == 2) & ((df_flights.day < 1) | (df_flights.day > 29))), 'ID')\n",
    "                                   .otherwise(df_flights.qa_year_month_day))\n",
    "\n",
    "df_flights.filter(df_flights.qa_year_month_day == 'ID').show()\n",
    "\n",
    "\n",
    "\n",
    "\n",
    "df1 = spark.sql(\"\"\"\n",
    "                    SELECT *,\n",
    "                        CASE\n",
    "                            WHEN\n",
    "                                year IS NULL OR year == ''\n",
    "                                THEN 'MY'\n",
    "                            WHEN\n",
    "                                month IS NULL OR month == ''\n",
    "                                THEN 'MM'\n",
    "                            WHEN\n",
    "                                day IS NULL OR day == ''\n",
    "                                THEN 'MD'\n",
    "                            WHEN\n",
    "                                year < 1950\n",
    "                                THEN 'IY'\n",
    "                            WHEN \n",
    "                                month < 1 OR month > 12\n",
    "                                THEN 'IM'\n",
    "                            WHEN\n",
    "                                day < 1 OR day > 31 OR\n",
    "                                (month == 2 AND day > 29)\n",
    "                            THEN 'ID'\n",
    "                        END AS qa_year_month_day\n",
    "                    FROM flights\n",
    "\"\"\")\n",
    "\n",
    "df1.filter(df1.qa_year_month_day.isin(['MY','MM','MD','IY','IM','ID'])).show()"
   ]
  },
  {
   "cell_type": "markdown",
   "metadata": {},
   "source": [
    "#### Pergunta 2\n"
   ]
  },
  {
   "cell_type": "code",
   "execution_count": 59,
   "metadata": {
    "scrolled": false
   },
   "outputs": [
    {
     "name": "stdout",
     "output_type": "stream",
     "text": [
      "+----+-----+---+--------+---------+--------+---------+-------+-------+------+------+----+--------+--------+----+------+-----------------+--------------+\n",
      "|year|month|day|dep_time|dep_delay|arr_time|arr_delay|carrier|tailnum|flight|origin|dest|air_time|distance|hour|minute|qa_year_month_day|qa_hour_minute|\n",
      "+----+-----+---+--------+---------+--------+---------+-------+-------+------+------+----+--------+--------+----+------+-----------------+--------------+\n",
      "|2014|    3|  4|      NA|     null|      NA|     null|     UA|     NA|   156|   SEA| DEN|    null|    1024|null|  null|             null|            MH|\n",
      "|2014|    2| 12|      NA|     null|      NA|     null|     AS| N527AS|     2|   SEA| DCA|    null|    2329|null|  null|             null|            MH|\n",
      "|2014|    7|  1|      NA|     null|      NA|     null|     WN| N8323C|  2485|   SEA| MDW|    null|    1733|null|  null|             null|            MH|\n",
      "|2014|    4| 30|      NA|     null|      NA|     null|     AS| N526AS|   566|   PDX| LAX|    null|     834|null|  null|             null|            MH|\n",
      "|2014|    1|  3|      NA|     null|      NA|     null|     US|     NA|   553|   SEA| PHL|    null|    2378|null|  null|             null|            MH|\n",
      "|2014|    8|  7|      NA|     null|      NA|     null|     AS| N579AS|   867|   SEA| OGG|    null|    2640|null|  null|             null|            MH|\n",
      "|2014|    8| 11|      NA|     null|      NA|     null|     OO| N689CA|  4528|   PDX| SEA|    null|     129|null|  null|             null|            MH|\n",
      "|2014|    1|  2|      NA|     null|      NA|     null|     UA|     NA|   212|   SEA| EWR|    null|    2402|null|  null|             null|            MH|\n",
      "|2014|    5| 15|      NA|     null|      NA|     null|     OO| N917SW|  6250|   PDX| LAX|    null|     834|null|  null|             null|            MH|\n",
      "|2014|    2|  7|      NA|     null|      NA|     null|     OO| N594SW|  5553|   PDX| SFO|    null|     550|null|  null|             null|            MH|\n",
      "|2014|    6|  6|      NA|     null|      NA|     null|     WN| N645SW|   956|   PDX| OAK|    null|     543|null|  null|             null|            MH|\n",
      "|2014|    1|  5|      NA|     null|      NA|     null|     UA|     NA|   758|   PDX| IAH|    null|    1825|null|  null|             null|            MH|\n",
      "|2014|    1|  6|      NA|     null|      NA|     null|     UA|     NA|  1729|   SEA| DEN|    null|    1024|null|  null|             null|            MH|\n",
      "|2014|    3| 30|      NA|     null|      NA|     null|     US|     NA|   500|   SEA| PHX|    null|    1107|null|  null|             null|            MH|\n",
      "|2014|    2|  9|      NA|     null|      NA|     null|     OO| N580SW|  5438|   PDX| EUG|    null|     106|null|  null|             null|            MH|\n",
      "|2014|    2|  9|      NA|     null|      NA|     null|     OO| N297SW|  5342|   SEA| PDX|    null|     129|null|  null|             null|            MH|\n",
      "|2014|    1|  1|      NA|     null|      NA|     null|     OO| N295SW|  5403|   PDX| EUG|    null|     106|null|  null|             null|            MH|\n",
      "|2014|    2| 17|      NA|     null|      NA|     null|     AA| N3LCAA|  1236|   SEA| ORD|    null|    1721|null|  null|             null|            MH|\n",
      "|2014|    1|  5|      NA|     null|      NA|     null|     UA|     NA|   995|   PDX| SFO|    null|     550|null|  null|             null|            MH|\n",
      "|2014|    5| 26|      NA|     null|      NA|     null|     UA|     NA|   690|   SEA| ORD|    null|    1721|null|  null|             null|            MH|\n",
      "+----+-----+---+--------+---------+--------+---------+-------+-------+------+------+----+--------+--------+----+------+-----------------+--------------+\n",
      "only showing top 20 rows\n",
      "\n"
     ]
    }
   ],
   "source": [
    "df_flights = df_flights.withColumn(\"qa_hour_minute\", \n",
    "                                   when(check_empty_column('hour') | col('hour').startswith('N'), 'MH')\n",
    "                                  .when(check_empty_column('minute') | col('hour').startswith('N'), 'MM'))\n",
    "\n",
    "df_flights.filter(df_flights.qa_hour_minute == 'MH').show()"
   ]
  },
  {
   "cell_type": "code",
   "execution_count": 60,
   "metadata": {
    "scrolled": true
   },
   "outputs": [
    {
     "name": "stdout",
     "output_type": "stream",
     "text": [
      "+----+-----+---+--------+---------+--------+---------+-------+-------+------+------+----+--------+--------+----+------+-----------------+--------------+\n",
      "|year|month|day|dep_time|dep_delay|arr_time|arr_delay|carrier|tailnum|flight|origin|dest|air_time|distance|hour|minute|qa_year_month_day|qa_hour_minute|\n",
      "+----+-----+---+--------+---------+--------+---------+-------+-------+------+------+----+--------+--------+----+------+-----------------+--------------+\n",
      "|2014|    6| 20|    2400|       10|     535|        0|     AA| N3GHAA|  2486|   SEA| ORD|     197|    1721|  24|     0|             null|            IH|\n",
      "+----+-----+---+--------+---------+--------+---------+-------+-------+------+------+----+--------+--------+----+------+-----------------+--------------+\n",
      "\n"
     ]
    }
   ],
   "source": [
    "df_flights = df_flights.withColumn(\"qa_hour_minute\", \n",
    "                                   when((df_flights.hour < 0) |\n",
    "                                        (df_flights.hour > 23), 'IH')\n",
    "                                   .otherwise(df_flights.qa_hour_minute))\n",
    "\n",
    "df_flights.filter(df_flights.qa_hour_minute == 'IH').show()"
   ]
  },
  {
   "cell_type": "code",
   "execution_count": 61,
   "metadata": {},
   "outputs": [
    {
     "name": "stdout",
     "output_type": "stream",
     "text": [
      "+----+-----+---+--------+---------+--------+---------+-------+-------+------+------+----+--------+--------+----+------+-----------------+--------------+\n",
      "|year|month|day|dep_time|dep_delay|arr_time|arr_delay|carrier|tailnum|flight|origin|dest|air_time|distance|hour|minute|qa_year_month_day|qa_hour_minute|\n",
      "+----+-----+---+--------+---------+--------+---------+-------+-------+------+------+----+--------+--------+----+------+-----------------+--------------+\n",
      "+----+-----+---+--------+---------+--------+---------+-------+-------+------+------+----+--------+--------+----+------+-----------------+--------------+\n",
      "\n",
      "+----+-----+---+--------+---------+--------+---------+-------+-------+------+------+----+--------+--------+----+------+--------------+\n",
      "|year|month|day|dep_time|dep_delay|arr_time|arr_delay|carrier|tailnum|flight|origin|dest|air_time|distance|hour|minute|qa_hour_minute|\n",
      "+----+-----+---+--------+---------+--------+---------+-------+-------+------+------+----+--------+--------+----+------+--------------+\n",
      "|2014|    3|  4|      NA|     null|      NA|     null|     UA|     NA|   156|   SEA| DEN|    null|    1024|null|  null|            MH|\n",
      "|2014|    2| 12|      NA|     null|      NA|     null|     AS| N527AS|     2|   SEA| DCA|    null|    2329|null|  null|            MH|\n",
      "|2014|    7|  1|      NA|     null|      NA|     null|     WN| N8323C|  2485|   SEA| MDW|    null|    1733|null|  null|            MH|\n",
      "|2014|    4| 30|      NA|     null|      NA|     null|     AS| N526AS|   566|   PDX| LAX|    null|     834|null|  null|            MH|\n",
      "|2014|    1|  3|      NA|     null|      NA|     null|     US|     NA|   553|   SEA| PHL|    null|    2378|null|  null|            MH|\n",
      "|2014|    8|  7|      NA|     null|      NA|     null|     AS| N579AS|   867|   SEA| OGG|    null|    2640|null|  null|            MH|\n",
      "|2014|    8| 11|      NA|     null|      NA|     null|     OO| N689CA|  4528|   PDX| SEA|    null|     129|null|  null|            MH|\n",
      "|2014|    1|  2|      NA|     null|      NA|     null|     UA|     NA|   212|   SEA| EWR|    null|    2402|null|  null|            MH|\n",
      "|2014|    5| 15|      NA|     null|      NA|     null|     OO| N917SW|  6250|   PDX| LAX|    null|     834|null|  null|            MH|\n",
      "|2014|    2|  7|      NA|     null|      NA|     null|     OO| N594SW|  5553|   PDX| SFO|    null|     550|null|  null|            MH|\n",
      "|2014|    6|  6|      NA|     null|      NA|     null|     WN| N645SW|   956|   PDX| OAK|    null|     543|null|  null|            MH|\n",
      "|2014|    1|  5|      NA|     null|      NA|     null|     UA|     NA|   758|   PDX| IAH|    null|    1825|null|  null|            MH|\n",
      "|2014|    1|  6|      NA|     null|      NA|     null|     UA|     NA|  1729|   SEA| DEN|    null|    1024|null|  null|            MH|\n",
      "|2014|    3| 30|      NA|     null|      NA|     null|     US|     NA|   500|   SEA| PHX|    null|    1107|null|  null|            MH|\n",
      "|2014|    2|  9|      NA|     null|      NA|     null|     OO| N580SW|  5438|   PDX| EUG|    null|     106|null|  null|            MH|\n",
      "|2014|    2|  9|      NA|     null|      NA|     null|     OO| N297SW|  5342|   SEA| PDX|    null|     129|null|  null|            MH|\n",
      "|2014|    1|  1|      NA|     null|      NA|     null|     OO| N295SW|  5403|   PDX| EUG|    null|     106|null|  null|            MH|\n",
      "|2014|    2| 17|      NA|     null|      NA|     null|     AA| N3LCAA|  1236|   SEA| ORD|    null|    1721|null|  null|            MH|\n",
      "|2014|    1|  5|      NA|     null|      NA|     null|     UA|     NA|   995|   PDX| SFO|    null|     550|null|  null|            MH|\n",
      "|2014|    5| 26|      NA|     null|      NA|     null|     UA|     NA|   690|   SEA| ORD|    null|    1721|null|  null|            MH|\n",
      "+----+-----+---+--------+---------+--------+---------+-------+-------+------+------+----+--------+--------+----+------+--------------+\n",
      "only showing top 20 rows\n",
      "\n"
     ]
    }
   ],
   "source": [
    "df_flights = df_flights.withColumn(\"qa_hour_minute\", \n",
    "                                   when((df_flights.minute < 0) |\n",
    "                                        (df_flights.minute > 59), 'IM')\n",
    "                                   .otherwise(df_flights.qa_hour_minute))\n",
    "\n",
    "df_flights.filter(df_flights.qa_hour_minute == 'IM').show()\n",
    "\n",
    "df1 = spark.sql(\"\"\"\n",
    "                    SELECT *,\n",
    "                        CASE\n",
    "                            WHEN\n",
    "                                hour IS NULL OR hour == ''\n",
    "                                THEN 'MH'\n",
    "                            WHEN\n",
    "                                minute is NULL OR minute == ''\n",
    "                                THEN 'MM'\n",
    "                            WHEN\n",
    "                                hour < 0 OR hour > 23\n",
    "                                THEN 'IH'\n",
    "                            WHEN\n",
    "                                minute < 0 OR minute > 59\n",
    "                                THEN 'IM'\n",
    "                            END AS qa_hour_minute\n",
    "                        FROM flights\n",
    "\"\"\")\n",
    "\n",
    "df1.filter(df1.qa_hour_minute.isin(['MH','MM','IH','IM'])).show()"
   ]
  },
  {
   "cell_type": "markdown",
   "metadata": {},
   "source": [
    "#### Pergunta 3\n",
    "\n"
   ]
  },
  {
   "cell_type": "code",
   "execution_count": 62,
   "metadata": {
    "scrolled": true
   },
   "outputs": [
    {
     "name": "stdout",
     "output_type": "stream",
     "text": [
      "+----+-----+---+--------+---------+--------+---------+-------+-------+------+------+----+--------+--------+----+------+-----------------+--------------+----------+\n",
      "|year|month|day|dep_time|dep_delay|arr_time|arr_delay|carrier|tailnum|flight|origin|dest|air_time|distance|hour|minute|qa_year_month_day|qa_hour_minute|qa_dep_arr|\n",
      "+----+-----+---+--------+---------+--------+---------+-------+-------+------+------+----+--------+--------+----+------+-----------------+--------------+----------+\n",
      "|2014|    3|  4|      NA|     null|      NA|     null|     UA|     NA|   156|   SEA| DEN|    null|    1024|null|  null|             null|            MH|        MD|\n",
      "|2014|    2| 12|      NA|     null|      NA|     null|     AS| N527AS|     2|   SEA| DCA|    null|    2329|null|  null|             null|            MH|        MD|\n",
      "|2014|    7|  1|      NA|     null|      NA|     null|     WN| N8323C|  2485|   SEA| MDW|    null|    1733|null|  null|             null|            MH|        MD|\n",
      "|2014|    4| 30|      NA|     null|      NA|     null|     AS| N526AS|   566|   PDX| LAX|    null|     834|null|  null|             null|            MH|        MD|\n",
      "|2014|    1|  3|      NA|     null|      NA|     null|     US|     NA|   553|   SEA| PHL|    null|    2378|null|  null|             null|            MH|        MD|\n",
      "|2014|    8|  7|      NA|     null|      NA|     null|     AS| N579AS|   867|   SEA| OGG|    null|    2640|null|  null|             null|            MH|        MD|\n",
      "|2014|    8| 11|      NA|     null|      NA|     null|     OO| N689CA|  4528|   PDX| SEA|    null|     129|null|  null|             null|            MH|        MD|\n",
      "|2014|    1|  2|      NA|     null|      NA|     null|     UA|     NA|   212|   SEA| EWR|    null|    2402|null|  null|             null|            MH|        MD|\n",
      "|2014|    5| 15|      NA|     null|      NA|     null|     OO| N917SW|  6250|   PDX| LAX|    null|     834|null|  null|             null|            MH|        MD|\n",
      "|2014|    2|  7|      NA|     null|      NA|     null|     OO| N594SW|  5553|   PDX| SFO|    null|     550|null|  null|             null|            MH|        MD|\n",
      "|2014|    6|  6|      NA|     null|      NA|     null|     WN| N645SW|   956|   PDX| OAK|    null|     543|null|  null|             null|            MH|        MD|\n",
      "|2014|    1|  5|      NA|     null|      NA|     null|     UA|     NA|   758|   PDX| IAH|    null|    1825|null|  null|             null|            MH|        MD|\n",
      "|2014|    1|  6|      NA|     null|      NA|     null|     UA|     NA|  1729|   SEA| DEN|    null|    1024|null|  null|             null|            MH|        MD|\n",
      "|2014|    3| 30|      NA|     null|      NA|     null|     US|     NA|   500|   SEA| PHX|    null|    1107|null|  null|             null|            MH|        MD|\n",
      "|2014|    2|  9|      NA|     null|      NA|     null|     OO| N580SW|  5438|   PDX| EUG|    null|     106|null|  null|             null|            MH|        MD|\n",
      "|2014|    2|  9|      NA|     null|      NA|     null|     OO| N297SW|  5342|   SEA| PDX|    null|     129|null|  null|             null|            MH|        MD|\n",
      "|2014|    1|  1|      NA|     null|      NA|     null|     OO| N295SW|  5403|   PDX| EUG|    null|     106|null|  null|             null|            MH|        MD|\n",
      "|2014|    2| 17|      NA|     null|      NA|     null|     AA| N3LCAA|  1236|   SEA| ORD|    null|    1721|null|  null|             null|            MH|        MD|\n",
      "|2014|    1|  5|      NA|     null|      NA|     null|     UA|     NA|   995|   PDX| SFO|    null|     550|null|  null|             null|            MH|        MD|\n",
      "|2014|    5| 26|      NA|     null|      NA|     null|     UA|     NA|   690|   SEA| ORD|    null|    1721|null|  null|             null|            MH|        MD|\n",
      "+----+-----+---+--------+---------+--------+---------+-------+-------+------+------+----+--------+--------+----+------+-----------------+--------------+----------+\n",
      "only showing top 20 rows\n",
      "\n",
      "+--------+-----+\n",
      "|dep_time|count|\n",
      "+--------+-----+\n",
      "|      NA|   48|\n",
      "+--------+-----+\n",
      "\n"
     ]
    }
   ],
   "source": [
    "df_flights = df_flights.withColumn(\"qa_dep_arr\", \n",
    "                                   when(check_empty_column('dep_time') |\n",
    "                                        col('dep_time').startswith('N'), 'MD')\n",
    "                                   .when(check_empty_column('arr_time') |\n",
    "                                        col('arr_time').startswith('N'), 'MA')\n",
    "                                   .when(\n",
    "                                       ~df_flights.dep_time.rlike('^([0-1]?[0-9]|2[0-3])[0-5][0-9]$'),'FD')\n",
    "                                   .when(\n",
    "                                       ~df_flights.arr_time.rlike('^([0-1]?[0-9]|2[0-3])[0-5][0-9]$'),'FA')\n",
    "                                  )\n",
    "\n",
    "df_flights.filter(df_flights.qa_dep_arr == 'MD').show()\n",
    "df_flights.filter(col('dep_time').rlike('^[^0-9]*$')).groupBy('dep_time').count().show()"
   ]
  },
  {
   "cell_type": "code",
   "execution_count": 63,
   "metadata": {},
   "outputs": [
    {
     "name": "stdout",
     "output_type": "stream",
     "text": [
      "+----+-----+---+--------+---------+--------+---------+-------+-------+------+------+----+--------+--------+----+------+----------+\n",
      "|year|month|day|dep_time|dep_delay|arr_time|arr_delay|carrier|tailnum|flight|origin|dest|air_time|distance|hour|minute|qa_dep_arr|\n",
      "+----+-----+---+--------+---------+--------+---------+-------+-------+------+------+----+--------+--------+----+------+----------+\n",
      "|2014|    6|  2|    2222|        7|      55|       15|     AS| N402AS|    99|   SEA| ANC|     190|    1448|  22|    22|        FA|\n",
      "|2014|    7|  5|    2224|       -1|      48|      -20|     AS| N459AS|   143|   PDX| ANC|     185|    1542|  22|    24|        FA|\n",
      "|2014|   12| 17|    2234|      223|      11|      212|     UA| N39450|  1596|   PDX| SFO|      76|     550|  22|    34|        FA|\n",
      "|2014|    3| 10|    2222|      -13|      55|      -30|     AS| N431AS|   143|   PDX| ANC|     203|    1542|  22|    22|        FA|\n",
      "|2014|    7| 29|       1|        2|     600|        6|     UA| N458UA|   280|   PDX| IAH|     217|    1825|   0|     1|        FD|\n",
      "|2014|    8| 11|    2233|       33|      45|       17|     DL| N391DA|  1086|   SEA| ANC|     174|    1448|  22|    33|        FA|\n",
      "|2014|    3| 17|      26|       -4|     518|      -19|     DL| N539US|  2446|   SEA| MSP|     153|    1399|   0|    26|        FD|\n",
      "|2014|    6| 27|      46|        1|     552|       -1|     DL| N126DL|  2440|   SEA| MSP|     166|    1399|   0|    46|        FD|\n",
      "|2014|    9| 26|    2339|      144|      29|      142|     OO| N822SK|  4612|   SEA| PDX|      29|     129|  23|    39|        FA|\n",
      "|2014|    3|  4|      NA|     null|      NA|     null|     UA|     NA|   156|   SEA| DEN|    null|    1024|null|  null|        FD|\n",
      "|2014|    2| 12|      NA|     null|      NA|     null|     AS| N527AS|     2|   SEA| DCA|    null|    2329|null|  null|        FD|\n",
      "|2014|    7|  1|      NA|     null|      NA|     null|     WN| N8323C|  2485|   SEA| MDW|    null|    1733|null|  null|        FD|\n",
      "|2014|    1| 17|    2219|       -6|      49|      -36|     AS| N564AS|   145|   PDX| ANC|     186|    1542|  22|    19|        FA|\n",
      "|2014|   10| 15|      29|       -1|     538|       -2|     DL| N3736C|  2440|   SEA| MSP|     159|    1399|   0|    29|        FD|\n",
      "|2014|    1| 30|      49|       79|     835|       72|     UA| N76010|  1252|   SEA| EWR|     261|    2402|   0|    49|        FD|\n",
      "|2014|   11| 16|    1603|       10|       2|       -8|     UA| N87531|  1710|   SEA| EWR|     274|    2402|  16|     3|        FA|\n",
      "|2014|    4| 30|      NA|     null|      NA|     null|     AS| N526AS|   566|   PDX| LAX|    null|     834|null|  null|        FD|\n",
      "|2014|    4| 15|      24|       34|     300|       31|     AS| N764AS|   121|   SEA| ANC|     203|    1448|   0|    24|        FD|\n",
      "|2014|    3| 14|    2231|       96|      42|       78|     AS| N706AS|   534|   SEA| ONT|     116|     956|  22|    31|        FA|\n",
      "|2014|    6| 13|      15|       -5|     800|      -16|     US| N151UW|  1818|   SEA| CLT|     261|    2279|   0|    15|        FD|\n",
      "+----+-----+---+--------+---------+--------+---------+-------+-------+------+------+----+--------+--------+----+------+----------+\n",
      "only showing top 20 rows\n",
      "\n"
     ]
    }
   ],
   "source": [
    "df1 = spark.sql(\"\"\"\n",
    "                    SELECT *,\n",
    "                        CASE\n",
    "                            WHEN\n",
    "                                dep_time IS NULL or dep_time == ''\n",
    "                                THEN 'MD'\n",
    "                            WHEN\n",
    "                                arr_time IS NULL OR arr_time == ''\n",
    "                                THEN 'MA'\n",
    "                            WHEN\n",
    "                                dep_time NOT rlike '^([0-1]?[0-9]|2[0-3])[0-5][0-9]$'\n",
    "                                THEN 'FD'\n",
    "                            WHEN\n",
    "                                arr_time NOT rlike '^([0-1]?[0-9]|2[0-3])[0-5][0-9]$'\n",
    "                                THEN 'FA'\n",
    "                        END AS qa_dep_arr\n",
    "                    FROM flights\n",
    "\"\"\")\n",
    "\n",
    "df1.filter(df1.qa_dep_arr.isin(['MD','MA','FD','FA'])).show()"
   ]
  },
  {
   "cell_type": "markdown",
   "metadata": {},
   "source": [
    "#### Pergunta 4"
   ]
  },
  {
   "cell_type": "code",
   "execution_count": 64,
   "metadata": {
    "scrolled": true
   },
   "outputs": [
    {
     "name": "stdout",
     "output_type": "stream",
     "text": [
      "+----+-----+---+--------+---------+--------+---------+-------+-------+------+------+----+--------+--------+----+------+-----------------+--------------+----------+----------------+\n",
      "|year|month|day|dep_time|dep_delay|arr_time|arr_delay|carrier|tailnum|flight|origin|dest|air_time|distance|hour|minute|qa_year_month_day|qa_hour_minute|qa_dep_arr|qa_dep_arr_delay|\n",
      "+----+-----+---+--------+---------+--------+---------+-------+-------+------+------+----+--------+--------+----+------+-----------------+--------------+----------+----------------+\n",
      "|2014|    3|  4|      NA|     null|      NA|     null|     UA|     NA|   156|   SEA| DEN|    null|    1024|null|  null|             null|            MH|        MD|              MD|\n",
      "|2014|    2| 12|      NA|     null|      NA|     null|     AS| N527AS|     2|   SEA| DCA|    null|    2329|null|  null|             null|            MH|        MD|              MD|\n",
      "|2014|    7|  1|      NA|     null|      NA|     null|     WN| N8323C|  2485|   SEA| MDW|    null|    1733|null|  null|             null|            MH|        MD|              MD|\n",
      "|2014|    4| 30|      NA|     null|      NA|     null|     AS| N526AS|   566|   PDX| LAX|    null|     834|null|  null|             null|            MH|        MD|              MD|\n",
      "|2014|    1|  3|      NA|     null|      NA|     null|     US|     NA|   553|   SEA| PHL|    null|    2378|null|  null|             null|            MH|        MD|              MD|\n",
      "|2014|    8|  7|      NA|     null|      NA|     null|     AS| N579AS|   867|   SEA| OGG|    null|    2640|null|  null|             null|            MH|        MD|              MD|\n",
      "|2014|    8| 11|      NA|     null|      NA|     null|     OO| N689CA|  4528|   PDX| SEA|    null|     129|null|  null|             null|            MH|        MD|              MD|\n",
      "|2014|    1|  2|      NA|     null|      NA|     null|     UA|     NA|   212|   SEA| EWR|    null|    2402|null|  null|             null|            MH|        MD|              MD|\n",
      "|2014|    5| 15|      NA|     null|      NA|     null|     OO| N917SW|  6250|   PDX| LAX|    null|     834|null|  null|             null|            MH|        MD|              MD|\n",
      "|2014|    2|  7|      NA|     null|      NA|     null|     OO| N594SW|  5553|   PDX| SFO|    null|     550|null|  null|             null|            MH|        MD|              MD|\n",
      "|2014|    6|  6|      NA|     null|      NA|     null|     WN| N645SW|   956|   PDX| OAK|    null|     543|null|  null|             null|            MH|        MD|              MD|\n",
      "|2014|    1|  5|      NA|     null|      NA|     null|     UA|     NA|   758|   PDX| IAH|    null|    1825|null|  null|             null|            MH|        MD|              MD|\n",
      "|2014|    1|  6|      NA|     null|      NA|     null|     UA|     NA|  1729|   SEA| DEN|    null|    1024|null|  null|             null|            MH|        MD|              MD|\n",
      "|2014|    3| 30|      NA|     null|      NA|     null|     US|     NA|   500|   SEA| PHX|    null|    1107|null|  null|             null|            MH|        MD|              MD|\n",
      "|2014|    2|  9|      NA|     null|      NA|     null|     OO| N580SW|  5438|   PDX| EUG|    null|     106|null|  null|             null|            MH|        MD|              MD|\n",
      "|2014|    2|  9|      NA|     null|      NA|     null|     OO| N297SW|  5342|   SEA| PDX|    null|     129|null|  null|             null|            MH|        MD|              MD|\n",
      "|2014|    1|  1|      NA|     null|      NA|     null|     OO| N295SW|  5403|   PDX| EUG|    null|     106|null|  null|             null|            MH|        MD|              MD|\n",
      "|2014|    2| 17|      NA|     null|      NA|     null|     AA| N3LCAA|  1236|   SEA| ORD|    null|    1721|null|  null|             null|            MH|        MD|              MD|\n",
      "|2014|    1|  5|      NA|     null|      NA|     null|     UA|     NA|   995|   PDX| SFO|    null|     550|null|  null|             null|            MH|        MD|              MD|\n",
      "|2014|    5| 26|      NA|     null|      NA|     null|     UA|     NA|   690|   SEA| ORD|    null|    1721|null|  null|             null|            MH|        MD|              MD|\n",
      "+----+-----+---+--------+---------+--------+---------+-------+-------+------+------+----+--------+--------+----+------+-----------------+--------------+----------+----------------+\n",
      "only showing top 20 rows\n",
      "\n",
      "48\n",
      "75\n",
      "+---------+-----+\n",
      "|dep_delay|count|\n",
      "+---------+-----+\n",
      "+---------+-----+\n",
      "\n"
     ]
    }
   ],
   "source": [
    "df_flights = df_flights.withColumn(\"qa_dep_arr_delay\", \n",
    "                                   when(check_empty_column('dep_delay') |\n",
    "                                        col('dep_delay').startswith('N'), 'MD')\n",
    "                                   .when(check_empty_column('arr_delay') |\n",
    "                                        col('arr_delay').startswith('N'), 'MA'))\n",
    "\n",
    "df_flights.filter(df_flights.qa_dep_arr_delay == 'MD').show()\n",
    "print(df_flights.filter(col('dep_delay').isNull()).count())\n",
    "print(df_flights.filter(col('arr_delay').isNull()).count())\n",
    "df_flights.filter(col('dep_delay').rlike('^[^0-9]*$')).groupBy('dep_delay').count().show(100)"
   ]
  },
  {
   "cell_type": "code",
   "execution_count": 65,
   "metadata": {},
   "outputs": [
    {
     "name": "stdout",
     "output_type": "stream",
     "text": [
      "+----+-----+---+--------+---------+--------+---------+-------+-------+------+------+----+--------+--------+----+------+-----------------+--------------+----------+----------------+\n",
      "|year|month|day|dep_time|dep_delay|arr_time|arr_delay|carrier|tailnum|flight|origin|dest|air_time|distance|hour|minute|qa_year_month_day|qa_hour_minute|qa_dep_arr|qa_dep_arr_delay|\n",
      "+----+-----+---+--------+---------+--------+---------+-------+-------+------+------+----+--------+--------+----+------+-----------------+--------------+----------+----------------+\n",
      "|2014|    4|  6|    1329|        4|    2159|     null|     DL| N130DL|  1929|   SEA| ATL|    null|    2182|  13|    29|             null|          null|      null|              MA|\n",
      "|2014|   12| 27|    1420|       40|    2012|     null|     OO| N224AG|  3452|   SEA| HDN|    null|     891|  14|    20|             null|          null|      null|              MA|\n",
      "|2014|    6| 11|    1054|       -9|    1624|     null|     OO| N926SW|  5576|   PDX| DEN|    null|     991|  10|    54|             null|          null|      null|              MA|\n",
      "|2014|    2|  6|    2238|        8|      NA|     null|     OO| N297SW|  5437|   PDX| LMT|    null|     241|  22|    38|             null|          null|        MA|              MA|\n",
      "|2014|    4| 15|     652|       -8|    1754|     null|     DL| N378DA|   400|   PDX| JFK|    null|    2454|   6|    52|             null|          null|      null|              MA|\n",
      "|2014|    5| 24|    1455|       55|    2212|     null|     UA| N37409|  1635|   SEA| IAH|    null|    1874|  14|    55|             null|          null|      null|              MA|\n",
      "|2014|    8| 17|    1840|       -5|    2245|     null|     AS| N615AS|   510|   SEA| SNA|    null|     978|  18|    40|             null|          null|      null|              MA|\n",
      "|2014|    3| 25|    2242|       -3|     210|     null|     OO| N298SW|  5437|   PDX| LMT|    null|     241|  22|    42|             null|          null|      null|              MA|\n",
      "|2014|    4| 30|    1303|        3|    1758|     null|     AS| N755AS|   552|   SEA| PSP|    null|     987|  13|     3|             null|          null|      null|              MA|\n",
      "|2014|    6| 21|    1325|       20|    2110|     null|     WN| N478WN|  4163|   SEA| STL|    null|    1709|  13|    25|             null|          null|      null|              MA|\n",
      "|2014|    7|  2|     651|       -9|    1853|     null|     AA| N3HXAA|   236|   SEA| JFK|    null|    2422|   6|    51|             null|          null|      null|              MA|\n",
      "|2014|    6| 18|    1541|       11|    2212|     null|     WN| N694SW|  4713|   SEA| DEN|    null|    1024|  15|    41|             null|          null|      null|              MA|\n",
      "|2014|    1| 14|    1547|       52|      NA|     null|     AS| N525AS|    67|   SEA| KTN|    null|     680|  15|    47|             null|          null|        MA|              MA|\n",
      "|2014|   11| 30|     658|       -2|    1303|     null|     DL|  N3759|   991|   SEA| LAX|    null|     954|   6|    58|             null|          null|      null|              MA|\n",
      "|2014|    5| 12|    1324|        9|    2350|     null|     AA| N3CTAA|   115|   PDX| ORD|    null|    1739|  13|    24|             null|          null|      null|              MA|\n",
      "|2014|    2|  8|    2252|      127|      NA|     null|     AS| N706AS|   574|   PDX| SAN|    null|     933|  22|    52|             null|          null|        MA|              MA|\n",
      "|2014|   12| 10|     753|       18|      NA|     null|     AS| N765AS|    61|   SEA| JNU|    null|     909|   7|    53|             null|          null|        MA|              MA|\n",
      "|2014|    8| 12|    1503|        3|      NA|     null|     AS| N612AS|   650|   SEA| PHX|    null|    1107|  15|     3|             null|          null|        MA|              MA|\n",
      "|2014|    4| 29|     550|      -10|    1407|     null|     AA| N3BWAA|  2240|   SEA| ORD|    null|    1721|   5|    50|             null|          null|      null|              MA|\n",
      "|2014|    9| 27|    1154|       -1|    1920|     null|     WN| N495WN|  1375|   PDX| PHX|    null|    1009|  11|    54|             null|          null|      null|              MA|\n",
      "+----+-----+---+--------+---------+--------+---------+-------+-------+------+------+----+--------+--------+----+------+-----------------+--------------+----------+----------------+\n",
      "only showing top 20 rows\n",
      "\n",
      "+---------+-----+\n",
      "|arr_delay|count|\n",
      "+---------+-----+\n",
      "+---------+-----+\n",
      "\n",
      "+----+-----+---+--------+---------+--------+---------+-------+-------+------+------+----+--------+--------+----+------+----------------+\n",
      "|year|month|day|dep_time|dep_delay|arr_time|arr_delay|carrier|tailnum|flight|origin|dest|air_time|distance|hour|minute|qa_dep_arr_delay|\n",
      "+----+-----+---+--------+---------+--------+---------+-------+-------+------+------+----+--------+--------+----+------+----------------+\n",
      "|2014|    4|  6|    1329|        4|    2159|     null|     DL| N130DL|  1929|   SEA| ATL|    null|    2182|  13|    29|              MA|\n",
      "|2014|    3|  4|      NA|     null|      NA|     null|     UA|     NA|   156|   SEA| DEN|    null|    1024|null|  null|              MD|\n",
      "|2014|    2| 12|      NA|     null|      NA|     null|     AS| N527AS|     2|   SEA| DCA|    null|    2329|null|  null|              MD|\n",
      "|2014|    7|  1|      NA|     null|      NA|     null|     WN| N8323C|  2485|   SEA| MDW|    null|    1733|null|  null|              MD|\n",
      "|2014|   12| 27|    1420|       40|    2012|     null|     OO| N224AG|  3452|   SEA| HDN|    null|     891|  14|    20|              MA|\n",
      "|2014|    4| 30|      NA|     null|      NA|     null|     AS| N526AS|   566|   PDX| LAX|    null|     834|null|  null|              MD|\n",
      "|2014|    1|  3|      NA|     null|      NA|     null|     US|     NA|   553|   SEA| PHL|    null|    2378|null|  null|              MD|\n",
      "|2014|    6| 11|    1054|       -9|    1624|     null|     OO| N926SW|  5576|   PDX| DEN|    null|     991|  10|    54|              MA|\n",
      "|2014|    8|  7|      NA|     null|      NA|     null|     AS| N579AS|   867|   SEA| OGG|    null|    2640|null|  null|              MD|\n",
      "|2014|    8| 11|      NA|     null|      NA|     null|     OO| N689CA|  4528|   PDX| SEA|    null|     129|null|  null|              MD|\n",
      "|2014|    2|  6|    2238|        8|      NA|     null|     OO| N297SW|  5437|   PDX| LMT|    null|     241|  22|    38|              MA|\n",
      "|2014|    1|  2|      NA|     null|      NA|     null|     UA|     NA|   212|   SEA| EWR|    null|    2402|null|  null|              MD|\n",
      "|2014|    5| 15|      NA|     null|      NA|     null|     OO| N917SW|  6250|   PDX| LAX|    null|     834|null|  null|              MD|\n",
      "|2014|    2|  7|      NA|     null|      NA|     null|     OO| N594SW|  5553|   PDX| SFO|    null|     550|null|  null|              MD|\n",
      "|2014|    4| 15|     652|       -8|    1754|     null|     DL| N378DA|   400|   PDX| JFK|    null|    2454|   6|    52|              MA|\n",
      "|2014|    6|  6|      NA|     null|      NA|     null|     WN| N645SW|   956|   PDX| OAK|    null|     543|null|  null|              MD|\n",
      "|2014|    1|  5|      NA|     null|      NA|     null|     UA|     NA|   758|   PDX| IAH|    null|    1825|null|  null|              MD|\n",
      "|2014|    1|  6|      NA|     null|      NA|     null|     UA|     NA|  1729|   SEA| DEN|    null|    1024|null|  null|              MD|\n",
      "|2014|    3| 30|      NA|     null|      NA|     null|     US|     NA|   500|   SEA| PHX|    null|    1107|null|  null|              MD|\n",
      "|2014|    5| 24|    1455|       55|    2212|     null|     UA| N37409|  1635|   SEA| IAH|    null|    1874|  14|    55|              MA|\n",
      "+----+-----+---+--------+---------+--------+---------+-------+-------+------+------+----+--------+--------+----+------+----------------+\n",
      "only showing top 20 rows\n",
      "\n"
     ]
    }
   ],
   "source": [
    "df_flights.filter(df_flights.qa_dep_arr_delay == 'MA').show()\n",
    "\n",
    "\n",
    "df1 = spark.sql(\"\"\"\n",
    "                    SELECT *,\n",
    "                        CASE\n",
    "                            WHEN\n",
    "                                dep_delay IS NULL OR dep_delay == ''\n",
    "                                THEN 'MD'\n",
    "                            WHEN\n",
    "                                arr_delay IS NULL OR arr_delay == ''\n",
    "                                THEN 'MA'\n",
    "                        END AS qa_dep_arr_delay\n",
    "                    FROM flights\n",
    "\"\"\")\n",
    "\n",
    "df_flights.filter(col('arr_delay').rlike('^[^0-9]*$')).groupBy('arr_delay').count().show(100)\n",
    "df1.filter(df1.qa_dep_arr_delay.isin(['MD','MA'])).show()"
   ]
  },
  {
   "cell_type": "markdown",
   "metadata": {},
   "source": [
    "#### Pergunta 5"
   ]
  },
  {
   "cell_type": "code",
   "execution_count": 66,
   "metadata": {
    "scrolled": true
   },
   "outputs": [
    {
     "name": "stdout",
     "output_type": "stream",
     "text": [
      "+----+-----+---+--------+---------+--------+---------+-------+-------+------+------+----+--------+--------+----+------+-----------------+--------------+----------+----------------+----------+\n",
      "|year|month|day|dep_time|dep_delay|arr_time|arr_delay|carrier|tailnum|flight|origin|dest|air_time|distance|hour|minute|qa_year_month_day|qa_hour_minute|qa_dep_arr|qa_dep_arr_delay|qa_carrier|\n",
      "+----+-----+---+--------+---------+--------+---------+-------+-------+------+------+----+--------+--------+----+------+-----------------+--------------+----------+----------------+----------+\n",
      "+----+-----+---+--------+---------+--------+---------+-------+-------+------+------+----+--------+--------+----+------+-----------------+--------------+----------+----------------+----------+\n",
      "\n",
      "+----+-----+---+--------+---------+--------+---------+-------+-------+------+------+----+--------+--------+----+------+-----------------+--------------+----------+----------------+----------+\n",
      "|year|month|day|dep_time|dep_delay|arr_time|arr_delay|carrier|tailnum|flight|origin|dest|air_time|distance|hour|minute|qa_year_month_day|qa_hour_minute|qa_dep_arr|qa_dep_arr_delay|qa_carrier|\n",
      "+----+-----+---+--------+---------+--------+---------+-------+-------+------+------+----+--------+--------+----+------+-----------------+--------------+----------+----------------+----------+\n",
      "+----+-----+---+--------+---------+--------+---------+-------+-------+------+------+----+--------+--------+----+------+-----------------+--------------+----------+----------------+----------+\n",
      "\n",
      "+-------+-----+\n",
      "|carrier|count|\n",
      "+-------+-----+\n",
      "|     UA| 1051|\n",
      "|     AA|  482|\n",
      "|     B6|  214|\n",
      "|     DL| 1082|\n",
      "|     OO| 1186|\n",
      "|     F9|  181|\n",
      "|     US|  367|\n",
      "|     HA|   73|\n",
      "|     AS| 3784|\n",
      "|     VX|  186|\n",
      "|     WN| 1394|\n",
      "+-------+-----+\n",
      "\n"
     ]
    }
   ],
   "source": [
    "df_flights = df_flights.withColumn(\"qa_carrier\", \n",
    "                                   when(check_empty_column('carrier'), 'M'))\n",
    "\n",
    "df_flights.filter(df_flights.qa_carrier == 'M').show()\n",
    "df_flights.filter(df_flights.carrier.startswith('NA')).show()\n",
    "df_flights.groupBy('carrier').count().show()"
   ]
  },
  {
   "cell_type": "code",
   "execution_count": 67,
   "metadata": {
    "scrolled": true
   },
   "outputs": [
    {
     "name": "stdout",
     "output_type": "stream",
     "text": [
      "+----+-----+---+--------+---------+--------+---------+-------+-------+------+------+----+--------+--------+----+------+-----------------+--------------+----------+----------------+----------+\n",
      "|year|month|day|dep_time|dep_delay|arr_time|arr_delay|carrier|tailnum|flight|origin|dest|air_time|distance|hour|minute|qa_year_month_day|qa_hour_minute|qa_dep_arr|qa_dep_arr_delay|qa_carrier|\n",
      "+----+-----+---+--------+---------+--------+---------+-------+-------+------+------+----+--------+--------+----+------+-----------------+--------------+----------+----------------+----------+\n",
      "+----+-----+---+--------+---------+--------+---------+-------+-------+------+------+----+--------+--------+----+------+-----------------+--------------+----------+----------------+----------+\n",
      "\n",
      "+----+-----+---+--------+---------+--------+---------+-------+-------+------+------+----+--------+--------+----+------+----------+\n",
      "|year|month|day|dep_time|dep_delay|arr_time|arr_delay|carrier|tailnum|flight|origin|dest|air_time|distance|hour|minute|qa_carrier|\n",
      "+----+-----+---+--------+---------+--------+---------+-------+-------+------+------+----+--------+--------+----+------+----------+\n",
      "+----+-----+---+--------+---------+--------+---------+-------+-------+------+------+----+--------+--------+----+------+----------+\n",
      "\n"
     ]
    }
   ],
   "source": [
    "import time\n",
    "\n",
    "inicio = time.time()\n",
    "df_flights = df_flights.withColumn(\"qa_carrier\", \n",
    "                                   when(~df_flights.carrier.rlike('^([0-9]|[A-Z]|[a-z]){2}$'),'F')\n",
    "                                   .otherwise(df_flights.qa_carrier))\n",
    "\n",
    "df_flights.filter(df_flights.qa_carrier == 'F').show()\n",
    "\n",
    "\n",
    "\n",
    "\n",
    "df1 = spark.sql(\"\"\"\n",
    "                    SELECT *,\n",
    "                        CASE\n",
    "                            WHEN\n",
    "                                carrier IS NULL OR carrier == ''\n",
    "                                THEN 'M'\n",
    "                            WHEN\n",
    "                                carrier NOT rlike '^([0-9]|[A-Z]|[a-z]){2}$'\n",
    "                                THEN 'F'\n",
    "                        END AS qa_carrier\n",
    "                    FROM flights\n",
    "\"\"\")\n",
    "\n",
    "df1.filter(df1.qa_carrier.isin(['M','F'])).show()"
   ]
  },
  {
   "cell_type": "markdown",
   "metadata": {},
   "source": [
    "#### Pergunta 6\n"
   ]
  },
  {
   "cell_type": "code",
   "execution_count": 68,
   "metadata": {
    "scrolled": true
   },
   "outputs": [
    {
     "name": "stdout",
     "output_type": "stream",
     "text": [
      "+----------+-----+\n",
      "|qa_tailnum|count|\n",
      "+----------+-----+\n",
      "|         F|  987|\n",
      "|         S|   14|\n",
      "|        FN|    2|\n",
      "+----------+-----+\n",
      "\n"
     ]
    }
   ],
   "source": [
    "df_flights = df_flights.withColumn(\"qa_tailnum\", \n",
    "                                   when(check_empty_column('tailnum'), 'M')\n",
    "                                  .when(~length(df_flights.tailnum).between(5,6), 'S')\n",
    "                                  .when(~df_flights.tailnum.startswith('N'),'FN')\n",
    "                                  .when(df_flights.tailnum.rlike('I|O|N0'),'FE')\n",
    "                                  .when(\n",
    "                                       ~df_flights.tailnum.rlike('^N[1-9][0-9]{2,3}([ABCDEFGHJKLMNPQRSTUVXWYZ]{1,2})')\n",
    "                                       ,'F'))\n",
    "\n",
    "df_flights.filter(df_flights.qa_tailnum.isin(['S','FN','FE','F'])).groupBy('qa_tailnum').count().show()\n"
   ]
  },
  {
   "cell_type": "code",
   "execution_count": 69,
   "metadata": {
    "scrolled": true
   },
   "outputs": [
    {
     "name": "stdout",
     "output_type": "stream",
     "text": [
      "+----+-----+---+--------+---------+--------+---------+-------+-------+------+------+----+--------+--------+----+------+----------+\n",
      "|year|month|day|dep_time|dep_delay|arr_time|arr_delay|carrier|tailnum|flight|origin|dest|air_time|distance|hour|minute|qa_tailnum|\n",
      "+----+-----+---+--------+---------+--------+---------+-------+-------+------+------+----+--------+--------+----+------+----------+\n",
      "|2014|   12|  8|     658|       -7|     935|       -5|     VX| N846VA|  1780|   SEA| LAX|     132|     954|   6|    58|         S|\n",
      "|2014|    1| 22|    1040|        5|    1505|        5|     AS| N559AS|   851|   SEA| HNL|     360|    2677|  10|    40|         S|\n",
      "|2014|    3|  9|    1443|       -2|    1652|        2|     VX| N847VA|   755|   SEA| SFO|     111|     679|  14|    43|         S|\n",
      "|2014|    4|  9|    1705|       45|    1839|       34|     WN| N360SW|   344|   PDX| SJC|      83|     569|  17|     5|         S|\n",
      "|2014|    3|  9|     754|       -1|    1015|        1|     AS| N612AS|   522|   SEA| BUR|     127|     937|   7|    54|         S|\n",
      "|2014|    1| 15|    1037|        7|    1352|        2|     WN| N646SW|    48|   PDX| DEN|     121|     991|  10|    37|         S|\n",
      "|2014|    7|  2|     847|       42|    1041|       51|     WN| N422WN|  1520|   PDX| OAK|      90|     543|   8|    47|         S|\n",
      "|2014|    5| 12|    1655|       -5|    1842|      -18|     VX| N361VA|   755|   SEA| SFO|      98|     679|  16|    55|         S|\n",
      "|2014|    4| 19|    1236|       -4|    1508|       -7|     AS| N309AS|   490|   SEA| SAN|     135|    1050|  12|    36|         S|\n",
      "|2014|   11| 19|    1812|       -3|    2352|       -4|     AS| N564AS|    26|   SEA| ORD|     198|    1721|  18|    12|         S|\n",
      "|2014|   11|  8|    1653|       -2|    1924|       -1|     AS| N323AS|   448|   SEA| LAX|     130|     954|  16|    53|         S|\n",
      "|2014|    8|  3|    1120|        0|    1415|        2|     AS| N305AS|   656|   SEA| PHX|     154|    1107|  11|    20|         S|\n",
      "|2014|   10| 30|     811|       21|    1038|       29|     AS| N433AS|   608|   SEA| LAS|     127|     867|   8|    11|         S|\n",
      "|2014|   11| 12|    2346|       -4|     217|      -28|     AS| N765AS|   121|   SEA| ANC|     183|    1448|  23|    46|         S|\n",
      "|2014|   10| 31|    1314|       89|    1544|      111|     AS| N713AS|   306|   SEA| SFO|     129|     679|  13|    14|         S|\n",
      "|2014|    1| 29|    2009|        3|    2159|        9|     UA| N27205|  1458|   PDX| SFO|      90|     550|  20|     9|         S|\n",
      "|2014|   12| 17|    2015|       50|    2150|       41|     AS| N626AS|   368|   SEA| SMF|      76|     605|  20|    15|         S|\n",
      "|2014|    8| 11|    1017|       -3|    1613|       -7|     WN| N8634A|   827|   SEA| MDW|     216|    1733|  10|    17|         S|\n",
      "|2014|    1| 13|    2156|       -9|     607|      -15|     AS| N597AS|    24|   SEA| BOS|     290|    2496|  21|    56|         S|\n",
      "|2014|    6|  5|    1733|      -12|    1945|      -10|     OO| N215AG|  3488|   PDX| BUR|     111|     817|  17|    33|         S|\n",
      "+----+-----+---+--------+---------+--------+---------+-------+-------+------+------+----+--------+--------+----+------+----------+\n",
      "only showing top 20 rows\n",
      "\n"
     ]
    }
   ],
   "source": [
    "df1 = spark.sql(\"\"\"SELECT *,\n",
    "                        CASE\n",
    "                            WHEN\n",
    "                                tailnum IS NULL OR tailnum == ''\n",
    "                                THEN 'M'\n",
    "                            WHEN \n",
    "                                tailnum NOT LIKE 'N%'\n",
    "                                THEN 'FN'\n",
    "                            WHEN\n",
    "                                 tailnum LIKE '%I%' OR tailnum LIKE '%O%' OR tailnum LIKE 'N0'\n",
    "                                 THEN 'FE'\n",
    "                            WHEN\n",
    "                                length(tailnum) <> 5\n",
    "                                THEN 'S'\n",
    "                            WHEN \n",
    "                                tailnum NOT rlike 'N[1-9][0-9]*2Z$|N[0-9]*2[A-Z][A-Z]$'\n",
    "                                THEN 'F'\n",
    "                        END AS qa_tailnum\n",
    "                    FROM flights\n",
    "\"\"\")\n",
    "df1.filter(df1.qa_tailnum.isin(['M','S','F','FN','FE'])).show()"
   ]
  },
  {
   "cell_type": "markdown",
   "metadata": {},
   "source": [
    "#### Pergunta 7"
   ]
  },
  {
   "cell_type": "code",
   "execution_count": 70,
   "metadata": {},
   "outputs": [
    {
     "name": "stdout",
     "output_type": "stream",
     "text": [
      "+----+-----+---+--------+---------+--------+---------+-------+-------+------+------+----+--------+--------+----+------+-----------------+--------------+----------+----------------+----------+----------+---------+\n",
      "|year|month|day|dep_time|dep_delay|arr_time|arr_delay|carrier|tailnum|flight|origin|dest|air_time|distance|hour|minute|qa_year_month_day|qa_hour_minute|qa_dep_arr|qa_dep_arr_delay|qa_carrier|qa_tailnum|qa_flight|\n",
      "+----+-----+---+--------+---------+--------+---------+-------+-------+------+------+----+--------+--------+----+------+-----------------+--------------+----------+----------------+----------+----------+---------+\n",
      "+----+-----+---+--------+---------+--------+---------+-------+-------+------+------+----+--------+--------+----+------+-----------------+--------------+----------+----------------+----------+----------+---------+\n",
      "\n",
      "+------+-----+\n",
      "|flight|count|\n",
      "+------+-----+\n",
      "+------+-----+\n",
      "\n"
     ]
    }
   ],
   "source": [
    "df_flights = df_flights.withColumn(\"qa_flight\", \n",
    "                                   when(check_empty_column('flight'), 'M'))\n",
    "\n",
    "df_flights.filter(df_flights.qa_flight == 'M').show()\n",
    "df_flights.filter(col('flight').rlike('^[^0-9]*$')).groupBy('flight').count().show()"
   ]
  },
  {
   "cell_type": "code",
   "execution_count": 71,
   "metadata": {
    "scrolled": true
   },
   "outputs": [
    {
     "name": "stdout",
     "output_type": "stream",
     "text": [
      "+----+-----+---+--------+---------+--------+---------+-------+-------+------+------+----+--------+--------+----+------+-----------------+--------------+----------+----------------+----------+----------+---------+\n",
      "|year|month|day|dep_time|dep_delay|arr_time|arr_delay|carrier|tailnum|flight|origin|dest|air_time|distance|hour|minute|qa_year_month_day|qa_hour_minute|qa_dep_arr|qa_dep_arr_delay|qa_carrier|qa_tailnum|qa_flight|\n",
      "+----+-----+---+--------+---------+--------+---------+-------+-------+------+------+----+--------+--------+----+------+-----------------+--------------+----------+----------------+----------+----------+---------+\n",
      "|2014|    1| 22|    1040|        5|    1505|        5|     AS| N559AS|   851|   SEA| HNL|     360|    2677|  10|    40|             null|          null|      null|            null|      null|      null|        F|\n",
      "|2014|    3|  9|    1443|       -2|    1652|        2|     VX| N847VA|   755|   SEA| SFO|     111|     679|  14|    43|             null|          null|      null|            null|      null|      null|        F|\n",
      "|2014|    4|  9|    1705|       45|    1839|       34|     WN| N360SW|   344|   PDX| SJC|      83|     569|  17|     5|             null|          null|      null|            null|      null|      null|        F|\n",
      "|2014|    3|  9|     754|       -1|    1015|        1|     AS| N612AS|   522|   SEA| BUR|     127|     937|   7|    54|             null|          null|      null|            null|      null|      null|        F|\n",
      "|2014|    1| 15|    1037|        7|    1352|        2|     WN| N646SW|    48|   PDX| DEN|     121|     991|  10|    37|             null|          null|      null|            null|      null|      null|        F|\n",
      "|2014|    5| 12|    1655|       -5|    1842|      -18|     VX| N361VA|   755|   SEA| SFO|      98|     679|  16|    55|             null|          null|      null|            null|      null|      null|        F|\n",
      "|2014|    4| 19|    1236|       -4|    1508|       -7|     AS| N309AS|   490|   SEA| SAN|     135|    1050|  12|    36|             null|          null|      null|            null|      null|      null|        F|\n",
      "|2014|   11| 19|    1812|       -3|    2352|       -4|     AS| N564AS|    26|   SEA| ORD|     198|    1721|  18|    12|             null|          null|      null|            null|      null|      null|        F|\n",
      "|2014|   11|  8|    1653|       -2|    1924|       -1|     AS| N323AS|   448|   SEA| LAX|     130|     954|  16|    53|             null|          null|      null|            null|      null|      null|        F|\n",
      "|2014|    8|  3|    1120|        0|    1415|        2|     AS| N305AS|   656|   SEA| PHX|     154|    1107|  11|    20|             null|          null|      null|            null|      null|      null|        F|\n",
      "|2014|   10| 30|     811|       21|    1038|       29|     AS| N433AS|   608|   SEA| LAS|     127|     867|   8|    11|             null|          null|      null|            null|      null|      null|        F|\n",
      "|2014|   11| 12|    2346|       -4|     217|      -28|     AS| N765AS|   121|   SEA| ANC|     183|    1448|  23|    46|             null|          null|      null|            null|      null|      null|        F|\n",
      "|2014|   10| 31|    1314|       89|    1544|      111|     AS| N713AS|   306|   SEA| SFO|     129|     679|  13|    14|             null|          null|      null|            null|      null|      null|        F|\n",
      "|2014|   12| 17|    2015|       50|    2150|       41|     AS| N626AS|   368|   SEA| SMF|      76|     605|  20|    15|             null|          null|      null|            null|      null|      null|        F|\n",
      "|2014|    8| 11|    1017|       -3|    1613|       -7|     WN| N8634A|   827|   SEA| MDW|     216|    1733|  10|    17|             null|          null|      null|            null|      null|      null|        F|\n",
      "|2014|    1| 13|    2156|       -9|     607|      -15|     AS| N597AS|    24|   SEA| BOS|     290|    2496|  21|    56|             null|          null|      null|            null|      null|      null|        F|\n",
      "|2014|    7| 27|    2105|       15|    2316|       21|     AS| N519AS|   300|   SEA| SFO|     106|     679|  21|     5|             null|          null|      null|            null|      null|      null|        F|\n",
      "|2014|    9| 26|     610|       -5|    1523|       65|     US| N127UW|   616|   SEA| PHL|     293|    2378|   6|    10|             null|          null|      null|            null|      null|      null|        F|\n",
      "|2014|   12| 30|    1305|       70|    1525|       86|     AS| N520AS|   306|   SEA| SFO|     117|     679|  13|     5|             null|          null|      null|            null|      null|      null|        F|\n",
      "|2014|   12|  4|     954|       -6|    1348|      -17|     HA| N395HA|    29|   SEA| OGG|     333|    2640|   9|    54|             null|          null|      null|            null|      null|      null|        F|\n",
      "+----+-----+---+--------+---------+--------+---------+-------+-------+------+------+----+--------+--------+----+------+-----------------+--------------+----------+----------------+----------+----------+---------+\n",
      "only showing top 20 rows\n",
      "\n",
      "+----+-----+---+--------+---------+--------+---------+-------+-------+------+------+----+--------+--------+----+------+---------+\n",
      "|year|month|day|dep_time|dep_delay|arr_time|arr_delay|carrier|tailnum|flight|origin|dest|air_time|distance|hour|minute|qa_flight|\n",
      "+----+-----+---+--------+---------+--------+---------+-------+-------+------+------+----+--------+--------+----+------+---------+\n",
      "|2014|    1| 22|    1040|        5|    1505|        5|     AS| N559AS|   851|   SEA| HNL|     360|    2677|  10|    40|        F|\n",
      "|2014|    3|  9|    1443|       -2|    1652|        2|     VX| N847VA|   755|   SEA| SFO|     111|     679|  14|    43|        F|\n",
      "|2014|    4|  9|    1705|       45|    1839|       34|     WN| N360SW|   344|   PDX| SJC|      83|     569|  17|     5|        F|\n",
      "|2014|    3|  9|     754|       -1|    1015|        1|     AS| N612AS|   522|   SEA| BUR|     127|     937|   7|    54|        F|\n",
      "|2014|    1| 15|    1037|        7|    1352|        2|     WN| N646SW|    48|   PDX| DEN|     121|     991|  10|    37|        F|\n",
      "|2014|    5| 12|    1655|       -5|    1842|      -18|     VX| N361VA|   755|   SEA| SFO|      98|     679|  16|    55|        F|\n",
      "|2014|    4| 19|    1236|       -4|    1508|       -7|     AS| N309AS|   490|   SEA| SAN|     135|    1050|  12|    36|        F|\n",
      "|2014|   11| 19|    1812|       -3|    2352|       -4|     AS| N564AS|    26|   SEA| ORD|     198|    1721|  18|    12|        F|\n",
      "|2014|   11|  8|    1653|       -2|    1924|       -1|     AS| N323AS|   448|   SEA| LAX|     130|     954|  16|    53|        F|\n",
      "|2014|    8|  3|    1120|        0|    1415|        2|     AS| N305AS|   656|   SEA| PHX|     154|    1107|  11|    20|        F|\n",
      "|2014|   10| 30|     811|       21|    1038|       29|     AS| N433AS|   608|   SEA| LAS|     127|     867|   8|    11|        F|\n",
      "|2014|   11| 12|    2346|       -4|     217|      -28|     AS| N765AS|   121|   SEA| ANC|     183|    1448|  23|    46|        F|\n",
      "|2014|   10| 31|    1314|       89|    1544|      111|     AS| N713AS|   306|   SEA| SFO|     129|     679|  13|    14|        F|\n",
      "|2014|   12| 17|    2015|       50|    2150|       41|     AS| N626AS|   368|   SEA| SMF|      76|     605|  20|    15|        F|\n",
      "|2014|    8| 11|    1017|       -3|    1613|       -7|     WN| N8634A|   827|   SEA| MDW|     216|    1733|  10|    17|        F|\n",
      "|2014|    1| 13|    2156|       -9|     607|      -15|     AS| N597AS|    24|   SEA| BOS|     290|    2496|  21|    56|        F|\n",
      "|2014|    7| 27|    2105|       15|    2316|       21|     AS| N519AS|   300|   SEA| SFO|     106|     679|  21|     5|        F|\n",
      "|2014|    9| 26|     610|       -5|    1523|       65|     US| N127UW|   616|   SEA| PHL|     293|    2378|   6|    10|        F|\n",
      "|2014|   12| 30|    1305|       70|    1525|       86|     AS| N520AS|   306|   SEA| SFO|     117|     679|  13|     5|        F|\n",
      "|2014|   12|  4|     954|       -6|    1348|      -17|     HA| N395HA|    29|   SEA| OGG|     333|    2640|   9|    54|        F|\n",
      "+----+-----+---+--------+---------+--------+---------+-------+-------+------+------+----+--------+--------+----+------+---------+\n",
      "only showing top 20 rows\n",
      "\n"
     ]
    }
   ],
   "source": [
    "df_flights = df_flights.withColumn(\"qa_flight\", \n",
    "                                   when(~df_flights.flight.rlike('^[0-9]{4}$'), 'F')\n",
    "                                   .otherwise(df_flights.qa_flight))\n",
    "\n",
    "df_flights.filter(df_flights.qa_flight == 'F').show()\n",
    "\n",
    "\n",
    "df1 = spark.sql(\"\"\"\n",
    "                    SELECT *,\n",
    "                        CASE\n",
    "                            WHEN\n",
    "                                flight IS NULL OR flight == ''\n",
    "                                THEN 'M'\n",
    "                            WHEN\n",
    "                                flight NOT rlike '^[0-9]{4}$'\n",
    "                                THEN 'F'\n",
    "                        END AS qa_flight\n",
    "                    FROM flights\n",
    "\"\"\")\n",
    "\n",
    "df1.filter(df1.qa_flight.isin(['M','F'])).show()"
   ]
  },
  {
   "cell_type": "markdown",
   "metadata": {},
   "source": [
    "#### Pergunta 8"
   ]
  },
  {
   "cell_type": "code",
   "execution_count": 72,
   "metadata": {},
   "outputs": [
    {
     "name": "stdout",
     "output_type": "stream",
     "text": [
      "+----+-----+---+--------+---------+--------+---------+-------+-------+------+------+----+--------+--------+----+------+-----------------+--------------+----------+----------------+----------+----------+---------+--------------+\n",
      "|year|month|day|dep_time|dep_delay|arr_time|arr_delay|carrier|tailnum|flight|origin|dest|air_time|distance|hour|minute|qa_year_month_day|qa_hour_minute|qa_dep_arr|qa_dep_arr_delay|qa_carrier|qa_tailnum|qa_flight|qa_origin_dest|\n",
      "+----+-----+---+--------+---------+--------+---------+-------+-------+------+------+----+--------+--------+----+------+-----------------+--------------+----------+----------------+----------+----------+---------+--------------+\n",
      "+----+-----+---+--------+---------+--------+---------+-------+-------+------+------+----+--------+--------+----+------+-----------------+--------------+----------+----------------+----------+----------+---------+--------------+\n",
      "\n",
      "+------+-----+\n",
      "|origin|count|\n",
      "+------+-----+\n",
      "|   SEA| 6754|\n",
      "|   PDX| 3246|\n",
      "+------+-----+\n",
      "\n"
     ]
    }
   ],
   "source": [
    "df_flights = df_flights.withColumn(\"qa_origin_dest\", \n",
    "                                   when(check_empty_column('origin'), 'MO'))\n",
    "\n",
    "df_flights.filter(df_flights.qa_origin_dest == 'MO').show()\n",
    "df_flights.groupBy('origin').count().show()"
   ]
  },
  {
   "cell_type": "code",
   "execution_count": 73,
   "metadata": {
    "scrolled": true
   },
   "outputs": [
    {
     "name": "stdout",
     "output_type": "stream",
     "text": [
      "+----+-----+---+--------+---------+--------+---------+-------+-------+------+------+----+--------+--------+----+------+-----------------+--------------+----------+----------------+----------+----------+---------+--------------+\n",
      "|year|month|day|dep_time|dep_delay|arr_time|arr_delay|carrier|tailnum|flight|origin|dest|air_time|distance|hour|minute|qa_year_month_day|qa_hour_minute|qa_dep_arr|qa_dep_arr_delay|qa_carrier|qa_tailnum|qa_flight|qa_origin_dest|\n",
      "+----+-----+---+--------+---------+--------+---------+-------+-------+------+------+----+--------+--------+----+------+-----------------+--------------+----------+----------------+----------+----------+---------+--------------+\n",
      "+----+-----+---+--------+---------+--------+---------+-------+-------+------+------+----+--------+--------+----+------+-----------------+--------------+----------+----------------+----------+----------+---------+--------------+\n",
      "\n",
      "+----+-----+\n",
      "|dest|count|\n",
      "+----+-----+\n",
      "| MSY|    9|\n",
      "| GEG|  105|\n",
      "| BUR|  137|\n",
      "| SNA|  198|\n",
      "| EUG|   41|\n",
      "| OAK|  334|\n",
      "| DCA|   69|\n",
      "| RDM|   54|\n",
      "| KTN|   77|\n",
      "| LIH|   37|\n",
      "| IAH|  226|\n",
      "| HNL|  143|\n",
      "| SJC|  369|\n",
      "| CVG|    5|\n",
      "| AUS|   31|\n",
      "| LGB|  175|\n",
      "| RNO|   21|\n",
      "| BOS|  129|\n",
      "| EWR|  143|\n",
      "| LAS|  520|\n",
      "| FAI|   80|\n",
      "| DEN|  586|\n",
      "| SBA|   46|\n",
      "| PSP|   48|\n",
      "| IAD|   92|\n",
      "| BOI|    7|\n",
      "| SEA|  144|\n",
      "| MCI|   45|\n",
      "| CLT|   78|\n",
      "| BNA|    9|\n",
      "| BLI|    5|\n",
      "| ABQ|   57|\n",
      "| CLE|    2|\n",
      "| PDX|  157|\n",
      "| MIA|   19|\n",
      "| TPA|   11|\n",
      "| BWI|   34|\n",
      "| SMF|  283|\n",
      "| PHX|  530|\n",
      "| STL|   25|\n",
      "| DFW|  371|\n",
      "| HDN|    4|\n",
      "| LMT|   10|\n",
      "| SFO|  787|\n",
      "| ATL|  258|\n",
      "| FLL|   29|\n",
      "| OMA|   25|\n",
      "| FAT|   47|\n",
      "| ORD|  439|\n",
      "| MKE|   16|\n",
      "| TUS|   50|\n",
      "| MDW|   86|\n",
      "| COS|   26|\n",
      "| JNU|   77|\n",
      "| KOA|   52|\n",
      "| DTW|  123|\n",
      "| HOU|   22|\n",
      "| ONT|  128|\n",
      "| LAX|  615|\n",
      "| MSP|  238|\n",
      "| SIT|    6|\n",
      "| MCO|   31|\n",
      "| SAN|  271|\n",
      "| ANC|  449|\n",
      "| JFK|  173|\n",
      "| PHL|   81|\n",
      "| OGG|   91|\n",
      "| SLC|  396|\n",
      "| SAT|   18|\n",
      "+----+-----+\n",
      "\n"
     ]
    }
   ],
   "source": [
    "df_flights = df_flights.withColumn(\"qa_origin_dest\", \n",
    "                                   when(check_empty_column('dest'), 'MD')\n",
    "                                   .otherwise(df_flights.qa_origin_dest))\n",
    "\n",
    "df_flights.filter(df_flights.qa_origin_dest == 'MD').show()\n",
    "df_flights.groupBy('dest').count().show(100)"
   ]
  },
  {
   "cell_type": "code",
   "execution_count": 74,
   "metadata": {
    "scrolled": true
   },
   "outputs": [
    {
     "name": "stdout",
     "output_type": "stream",
     "text": [
      "+----+-----+---+--------+---------+--------+---------+-------+-------+------+------+----+--------+--------+----+------+-----------------+--------------+----------+----------------+----------+----------+---------+--------------+\n",
      "|year|month|day|dep_time|dep_delay|arr_time|arr_delay|carrier|tailnum|flight|origin|dest|air_time|distance|hour|minute|qa_year_month_day|qa_hour_minute|qa_dep_arr|qa_dep_arr_delay|qa_carrier|qa_tailnum|qa_flight|qa_origin_dest|\n",
      "+----+-----+---+--------+---------+--------+---------+-------+-------+------+------+----+--------+--------+----+------+-----------------+--------------+----------+----------------+----------+----------+---------+--------------+\n",
      "+----+-----+---+--------+---------+--------+---------+-------+-------+------+------+----+--------+--------+----+------+-----------------+--------------+----------+----------------+----------+----------+---------+--------------+\n",
      "\n"
     ]
    }
   ],
   "source": [
    "df_flights = df_flights.withColumn(\"qa_origin_dest\", \n",
    "                                   when(~df_flights.origin.rlike('^([0-9]|[A-Z]|[a-z]){3}$'),'FO')\n",
    "                                   .otherwise(df_flights.qa_origin_dest))\n",
    "\n",
    "df_flights.filter(df_flights.qa_origin_dest == 'FO').show()"
   ]
  },
  {
   "cell_type": "code",
   "execution_count": 75,
   "metadata": {},
   "outputs": [
    {
     "name": "stdout",
     "output_type": "stream",
     "text": [
      "+----+-----+---+--------+---------+--------+---------+-------+-------+------+------+----+--------+--------+----+------+-----------------+--------------+----------+----------------+----------+----------+---------+--------------+\n",
      "|year|month|day|dep_time|dep_delay|arr_time|arr_delay|carrier|tailnum|flight|origin|dest|air_time|distance|hour|minute|qa_year_month_day|qa_hour_minute|qa_dep_arr|qa_dep_arr_delay|qa_carrier|qa_tailnum|qa_flight|qa_origin_dest|\n",
      "+----+-----+---+--------+---------+--------+---------+-------+-------+------+------+----+--------+--------+----+------+-----------------+--------------+----------+----------------+----------+----------+---------+--------------+\n",
      "+----+-----+---+--------+---------+--------+---------+-------+-------+------+------+----+--------+--------+----+------+-----------------+--------------+----------+----------------+----------+----------+---------+--------------+\n",
      "\n",
      "+----+-----+---+--------+---------+--------+---------+-------+-------+------+------+----+--------+--------+----+------+--------------+\n",
      "|year|month|day|dep_time|dep_delay|arr_time|arr_delay|carrier|tailnum|flight|origin|dest|air_time|distance|hour|minute|qa_origin_dest|\n",
      "+----+-----+---+--------+---------+--------+---------+-------+-------+------+------+----+--------+--------+----+------+--------------+\n",
      "+----+-----+---+--------+---------+--------+---------+-------+-------+------+------+----+--------+--------+----+------+--------------+\n",
      "\n"
     ]
    }
   ],
   "source": [
    "df_flights = df_flights.withColumn(\"qa_origin_dest\", \n",
    "                                   when(~df_flights.dest.rlike('^([0-9]|[A-Z]|[a-z]){3}$'),'FD')\n",
    "                                   .otherwise(df_flights.qa_origin_dest))\n",
    "\n",
    "df_flights.filter(df_flights.qa_origin_dest == 'FD').show()\n",
    "\n",
    "\n",
    "df1 = spark.sql(\"\"\"\n",
    "                    SELECT *,\n",
    "                        CASE\n",
    "                            WHEN\n",
    "                                origin IS NULL OR origin == ''\n",
    "                                THEN 'MO'\n",
    "                            WHEN \n",
    "                                dest IS NULL OR dest == ''\n",
    "                                THEN 'MD'\n",
    "                            WHEN\n",
    "                                origin NOT rlike '^([0-9]|[A-Z]|[a-z]){3}$'\n",
    "                                THEN 'FO'\n",
    "                            WHEN\n",
    "                                dest NOT rlike '^([0-9]|[A-Z]|[a-z]){3}$'\n",
    "                                THEN 'FD'\n",
    "                        END AS qa_origin_dest\n",
    "                    FROM flights\n",
    "\"\"\")\n",
    "\n",
    "df1.filter(df1.qa_origin_dest.isin(['MO','MD','FO','FD'])).show()"
   ]
  },
  {
   "cell_type": "markdown",
   "metadata": {},
   "source": [
    "#### Pergunta 9"
   ]
  },
  {
   "cell_type": "code",
   "execution_count": 76,
   "metadata": {},
   "outputs": [
    {
     "name": "stdout",
     "output_type": "stream",
     "text": [
      "+----+-----+---+--------+---------+--------+---------+-------+-------+------+------+----+--------+--------+----+------+-----------------+--------------+----------+----------------+----------+----------+---------+--------------+-----------+\n",
      "|year|month|day|dep_time|dep_delay|arr_time|arr_delay|carrier|tailnum|flight|origin|dest|air_time|distance|hour|minute|qa_year_month_day|qa_hour_minute|qa_dep_arr|qa_dep_arr_delay|qa_carrier|qa_tailnum|qa_flight|qa_origin_dest|qa_air_time|\n",
      "+----+-----+---+--------+---------+--------+---------+-------+-------+------+------+----+--------+--------+----+------+-----------------+--------------+----------+----------------+----------+----------+---------+--------------+-----------+\n",
      "|2014|    4|  6|    1329|        4|    2159|     null|     DL| N130DL|  1929|   SEA| ATL|    null|    2182|  13|    29|             null|          null|      null|              MA|      null|      null|     null|          null|          M|\n",
      "|2014|    3|  4|      NA|     null|      NA|     null|     UA|     NA|   156|   SEA| DEN|    null|    1024|null|  null|             null|            MH|        MD|              MD|      null|         S|        F|          null|          M|\n",
      "|2014|    2| 12|      NA|     null|      NA|     null|     AS| N527AS|     2|   SEA| DCA|    null|    2329|null|  null|             null|            MH|        MD|              MD|      null|      null|        F|          null|          M|\n",
      "|2014|    7|  1|      NA|     null|      NA|     null|     WN| N8323C|  2485|   SEA| MDW|    null|    1733|null|  null|             null|            MH|        MD|              MD|      null|      null|     null|          null|          M|\n",
      "|2014|   12| 27|    1420|       40|    2012|     null|     OO| N224AG|  3452|   SEA| HDN|    null|     891|  14|    20|             null|          null|      null|              MA|      null|      null|     null|          null|          M|\n",
      "|2014|    4| 30|      NA|     null|      NA|     null|     AS| N526AS|   566|   PDX| LAX|    null|     834|null|  null|             null|            MH|        MD|              MD|      null|      null|        F|          null|          M|\n",
      "|2014|    1|  3|      NA|     null|      NA|     null|     US|     NA|   553|   SEA| PHL|    null|    2378|null|  null|             null|            MH|        MD|              MD|      null|         S|        F|          null|          M|\n",
      "|2014|    6| 11|    1054|       -9|    1624|     null|     OO| N926SW|  5576|   PDX| DEN|    null|     991|  10|    54|             null|          null|      null|              MA|      null|      null|     null|          null|          M|\n",
      "|2014|    8|  7|      NA|     null|      NA|     null|     AS| N579AS|   867|   SEA| OGG|    null|    2640|null|  null|             null|            MH|        MD|              MD|      null|      null|        F|          null|          M|\n",
      "|2014|    8| 11|      NA|     null|      NA|     null|     OO| N689CA|  4528|   PDX| SEA|    null|     129|null|  null|             null|            MH|        MD|              MD|      null|      null|     null|          null|          M|\n",
      "|2014|    2|  6|    2238|        8|      NA|     null|     OO| N297SW|  5437|   PDX| LMT|    null|     241|  22|    38|             null|          null|        MA|              MA|      null|      null|     null|          null|          M|\n",
      "|2014|    1|  2|      NA|     null|      NA|     null|     UA|     NA|   212|   SEA| EWR|    null|    2402|null|  null|             null|            MH|        MD|              MD|      null|         S|        F|          null|          M|\n",
      "|2014|    5| 15|      NA|     null|      NA|     null|     OO| N917SW|  6250|   PDX| LAX|    null|     834|null|  null|             null|            MH|        MD|              MD|      null|      null|     null|          null|          M|\n",
      "|2014|    2|  7|      NA|     null|      NA|     null|     OO| N594SW|  5553|   PDX| SFO|    null|     550|null|  null|             null|            MH|        MD|              MD|      null|      null|     null|          null|          M|\n",
      "|2014|    4| 15|     652|       -8|    1754|     null|     DL| N378DA|   400|   PDX| JFK|    null|    2454|   6|    52|             null|          null|      null|              MA|      null|      null|        F|          null|          M|\n",
      "|2014|    6|  6|      NA|     null|      NA|     null|     WN| N645SW|   956|   PDX| OAK|    null|     543|null|  null|             null|            MH|        MD|              MD|      null|      null|        F|          null|          M|\n",
      "|2014|    1|  5|      NA|     null|      NA|     null|     UA|     NA|   758|   PDX| IAH|    null|    1825|null|  null|             null|            MH|        MD|              MD|      null|         S|        F|          null|          M|\n",
      "|2014|    1|  6|      NA|     null|      NA|     null|     UA|     NA|  1729|   SEA| DEN|    null|    1024|null|  null|             null|            MH|        MD|              MD|      null|         S|     null|          null|          M|\n",
      "|2014|    3| 30|      NA|     null|      NA|     null|     US|     NA|   500|   SEA| PHX|    null|    1107|null|  null|             null|            MH|        MD|              MD|      null|         S|        F|          null|          M|\n",
      "|2014|    5| 24|    1455|       55|    2212|     null|     UA| N37409|  1635|   SEA| IAH|    null|    1874|  14|    55|             null|          null|      null|              MA|      null|         F|     null|          null|          M|\n",
      "+----+-----+---+--------+---------+--------+---------+-------+-------+------+------+----+--------+--------+----+------+-----------------+--------------+----------+----------------+----------+----------+---------+--------------+-----------+\n",
      "only showing top 20 rows\n",
      "\n",
      "+--------+-----+\n",
      "|air_time|count|\n",
      "+--------+-----+\n",
      "+--------+-----+\n",
      "\n"
     ]
    }
   ],
   "source": [
    "df_flights = df_flights.withColumn(\"qa_air_time\", \n",
    "                                   when(check_empty_column('air_time') |\n",
    "                                        col('air_time').startswith('N'),'M'))\n",
    "\n",
    "df_flights.filter(df_flights.qa_air_time == 'M').show()\n",
    "df_flights.filter(col('air_time').rlike('^[^0-9]*$')).groupBy('air_time').count().show()"
   ]
  },
  {
   "cell_type": "code",
   "execution_count": 77,
   "metadata": {},
   "outputs": [
    {
     "name": "stdout",
     "output_type": "stream",
     "text": [
      "+----+-----+---+--------+---------+--------+---------+-------+-------+------+------+----+--------+--------+----+------+-----------------+--------------+----------+----------------+----------+----------+---------+--------------+-----------+\n",
      "|year|month|day|dep_time|dep_delay|arr_time|arr_delay|carrier|tailnum|flight|origin|dest|air_time|distance|hour|minute|qa_year_month_day|qa_hour_minute|qa_dep_arr|qa_dep_arr_delay|qa_carrier|qa_tailnum|qa_flight|qa_origin_dest|qa_air_time|\n",
      "+----+-----+---+--------+---------+--------+---------+-------+-------+------+------+----+--------+--------+----+------+-----------------+--------------+----------+----------------+----------+----------+---------+--------------+-----------+\n",
      "+----+-----+---+--------+---------+--------+---------+-------+-------+------+------+----+--------+--------+----+------+-----------------+--------------+----------+----------------+----------+----------+---------+--------------+-----------+\n",
      "\n",
      "+----+-----+---+--------+---------+--------+---------+-------+-------+------+------+----+--------+--------+----+------+-----------+\n",
      "|year|month|day|dep_time|dep_delay|arr_time|arr_delay|carrier|tailnum|flight|origin|dest|air_time|distance|hour|minute|qa_air_time|\n",
      "+----+-----+---+--------+---------+--------+---------+-------+-------+------+------+----+--------+--------+----+------+-----------+\n",
      "|2014|    4|  6|    1329|        4|    2159|     null|     DL| N130DL|  1929|   SEA| ATL|    null|    2182|  13|    29|          M|\n",
      "|2014|    3|  4|      NA|     null|      NA|     null|     UA|     NA|   156|   SEA| DEN|    null|    1024|null|  null|          M|\n",
      "|2014|    2| 12|      NA|     null|      NA|     null|     AS| N527AS|     2|   SEA| DCA|    null|    2329|null|  null|          M|\n",
      "|2014|    7|  1|      NA|     null|      NA|     null|     WN| N8323C|  2485|   SEA| MDW|    null|    1733|null|  null|          M|\n",
      "|2014|   12| 27|    1420|       40|    2012|     null|     OO| N224AG|  3452|   SEA| HDN|    null|     891|  14|    20|          M|\n",
      "|2014|    4| 30|      NA|     null|      NA|     null|     AS| N526AS|   566|   PDX| LAX|    null|     834|null|  null|          M|\n",
      "|2014|    1|  3|      NA|     null|      NA|     null|     US|     NA|   553|   SEA| PHL|    null|    2378|null|  null|          M|\n",
      "|2014|    6| 11|    1054|       -9|    1624|     null|     OO| N926SW|  5576|   PDX| DEN|    null|     991|  10|    54|          M|\n",
      "|2014|    8|  7|      NA|     null|      NA|     null|     AS| N579AS|   867|   SEA| OGG|    null|    2640|null|  null|          M|\n",
      "|2014|    8| 11|      NA|     null|      NA|     null|     OO| N689CA|  4528|   PDX| SEA|    null|     129|null|  null|          M|\n",
      "|2014|    2|  6|    2238|        8|      NA|     null|     OO| N297SW|  5437|   PDX| LMT|    null|     241|  22|    38|          M|\n",
      "|2014|    1|  2|      NA|     null|      NA|     null|     UA|     NA|   212|   SEA| EWR|    null|    2402|null|  null|          M|\n",
      "|2014|    5| 15|      NA|     null|      NA|     null|     OO| N917SW|  6250|   PDX| LAX|    null|     834|null|  null|          M|\n",
      "|2014|    2|  7|      NA|     null|      NA|     null|     OO| N594SW|  5553|   PDX| SFO|    null|     550|null|  null|          M|\n",
      "|2014|    4| 15|     652|       -8|    1754|     null|     DL| N378DA|   400|   PDX| JFK|    null|    2454|   6|    52|          M|\n",
      "|2014|    6|  6|      NA|     null|      NA|     null|     WN| N645SW|   956|   PDX| OAK|    null|     543|null|  null|          M|\n",
      "|2014|    1|  5|      NA|     null|      NA|     null|     UA|     NA|   758|   PDX| IAH|    null|    1825|null|  null|          M|\n",
      "|2014|    1|  6|      NA|     null|      NA|     null|     UA|     NA|  1729|   SEA| DEN|    null|    1024|null|  null|          M|\n",
      "|2014|    3| 30|      NA|     null|      NA|     null|     US|     NA|   500|   SEA| PHX|    null|    1107|null|  null|          M|\n",
      "|2014|    5| 24|    1455|       55|    2212|     null|     UA| N37409|  1635|   SEA| IAH|    null|    1874|  14|    55|          M|\n",
      "+----+-----+---+--------+---------+--------+---------+-------+-------+------+------+----+--------+--------+----+------+-----------+\n",
      "only showing top 20 rows\n",
      "\n"
     ]
    }
   ],
   "source": [
    "df_flights = df_flights.withColumn(\"qa_air_time\", \n",
    "                                   when((df_flights.air_time < 20) | (df_flights.air_time > 500),'I')\n",
    "                                   .otherwise(df_flights.qa_air_time))\n",
    "\n",
    "df_flights.filter(df_flights.qa_air_time == 'I').show()\n",
    "\n",
    "\n",
    "df1 = spark.sql(\"\"\"\n",
    "                    SELECT *,\n",
    "                        CASE\n",
    "                            WHEN\n",
    "                                air_time IS NULL OR air_time == ''\n",
    "                                THEN 'M'\n",
    "                            WHEN\n",
    "                                air_time < 20 OR air_time > 500\n",
    "                                THEN 'I'\n",
    "                        END AS qa_air_time\n",
    "                    FROM flights\n",
    "\n",
    "\"\"\")\n",
    "\n",
    "df1.filter(df1.qa_air_time.isin(['M','I'])).show()"
   ]
  },
  {
   "cell_type": "markdown",
   "metadata": {},
   "source": [
    "#### Pergunta 10"
   ]
  },
  {
   "cell_type": "code",
   "execution_count": 78,
   "metadata": {},
   "outputs": [
    {
     "name": "stdout",
     "output_type": "stream",
     "text": [
      "+----+-----+---+--------+---------+--------+---------+-------+-------+------+------+----+--------+--------+----+------+-----------------+--------------+----------+----------------+----------+----------+---------+--------------+-----------+-----------+\n",
      "|year|month|day|dep_time|dep_delay|arr_time|arr_delay|carrier|tailnum|flight|origin|dest|air_time|distance|hour|minute|qa_year_month_day|qa_hour_minute|qa_dep_arr|qa_dep_arr_delay|qa_carrier|qa_tailnum|qa_flight|qa_origin_dest|qa_air_time|qa_distance|\n",
      "+----+-----+---+--------+---------+--------+---------+-------+-------+------+------+----+--------+--------+----+------+-----------------+--------------+----------+----------------+----------+----------+---------+--------------+-----------+-----------+\n",
      "+----+-----+---+--------+---------+--------+---------+-------+-------+------+------+----+--------+--------+----+------+-----------------+--------------+----------+----------------+----------+----------+---------+--------------+-----------+-----------+\n",
      "\n"
     ]
    }
   ],
   "source": [
    "df_flights = df_flights.withColumn(\"qa_distance\", \n",
    "                                   when(check_empty_column('distance'),'M'))\n",
    "\n",
    "df_flights.filter(df_flights.qa_distance == 'M').show()"
   ]
  },
  {
   "cell_type": "code",
   "execution_count": 79,
   "metadata": {
    "scrolled": true
   },
   "outputs": [
    {
     "name": "stdout",
     "output_type": "stream",
     "text": [
      "+----+-----+---+--------+---------+--------+---------+-------+-------+------+------+----+--------+--------+----+------+-----------------+--------------+----------+----------------+----------+----------+---------+--------------+-----------+-----------+\n",
      "|year|month|day|dep_time|dep_delay|arr_time|arr_delay|carrier|tailnum|flight|origin|dest|air_time|distance|hour|minute|qa_year_month_day|qa_hour_minute|qa_dep_arr|qa_dep_arr_delay|qa_carrier|qa_tailnum|qa_flight|qa_origin_dest|qa_air_time|qa_distance|\n",
      "+----+-----+---+--------+---------+--------+---------+-------+-------+------+------+----+--------+--------+----+------+-----------------+--------------+----------+----------------+----------+----------+---------+--------------+-----------+-----------+\n",
      "+----+-----+---+--------+---------+--------+---------+-------+-------+------+------+----+--------+--------+----+------+-----------------+--------------+----------+----------------+----------+----------+---------+--------------+-----------+-----------+\n",
      "\n",
      "+----+-----+---+--------+---------+--------+---------+-------+-------+------+------+----+--------+--------+----+------+-----------+\n",
      "|year|month|day|dep_time|dep_delay|arr_time|arr_delay|carrier|tailnum|flight|origin|dest|air_time|distance|hour|minute|qa_distance|\n",
      "+----+-----+---+--------+---------+--------+---------+-------+-------+------+------+----+--------+--------+----+------+-----------+\n",
      "+----+-----+---+--------+---------+--------+---------+-------+-------+------+------+----+--------+--------+----+------+-----------+\n",
      "\n"
     ]
    }
   ],
   "source": [
    "df_flights = df_flights.withColumn(\"qa_distance\", \n",
    "                                   when((df_flights.distance < 50) | (df_flights.distance > 3000),'I')\n",
    "                                   .otherwise(df_flights.qa_distance))\n",
    "\n",
    "df_flights.filter(df_flights.qa_distance == 'I').show()\n",
    "\n",
    "\n",
    "df1 = spark.sql(\"\"\"\n",
    "                    SELECT *,\n",
    "                        CASE\n",
    "                            WHEN\n",
    "                                distance IS NULL OR distance == ''\n",
    "                                THEN 'M'\n",
    "                            WHEN\n",
    "                                distance < 50 OR distance > 3000\n",
    "                                THEN 'I'\n",
    "                        END AS qa_distance\n",
    "                    FROM flights\n",
    "\n",
    "\"\"\")\n",
    "\n",
    "df1.filter(df1.qa_distance.isin(['M','I'])).show()"
   ]
  },
  {
   "cell_type": "markdown",
   "metadata": {},
   "source": [
    "#### Pergunta 11"
   ]
  },
  {
   "cell_type": "code",
   "execution_count": 80,
   "metadata": {
    "scrolled": true
   },
   "outputs": [
    {
     "name": "stdout",
     "output_type": "stream",
     "text": [
      "+--------+-----+\n",
      "|distance|count|\n",
      "+--------+-----+\n",
      "+--------+-----+\n",
      "\n"
     ]
    }
   ],
   "source": [
    "df_flights = df_flights.withColumn(\"qa_distance_airtime\", \n",
    "                                   when(check_empty_column('distance') |\n",
    "                                       check_empty_column('air_time'), 'M')\n",
    "                                   .when(col(\"air_time\") >= (col(\"distance\") * 0.1) + 30, 'TL')\n",
    "                                   .when(col(\"air_time\") <= (col(\"distance\") * 0.1) + 10, 'TS')\n",
    "                                   .otherwise('TR'))\n",
    "\n",
    "#df_flights.filter(df_flights.qa_distance_airtime == 'M').show()\n",
    "df_flights.filter(col('distance').rlike('^[^0-9]*$')).groupBy('distance').count().show()"
   ]
  },
  {
   "cell_type": "code",
   "execution_count": 81,
   "metadata": {},
   "outputs": [
    {
     "name": "stdout",
     "output_type": "stream",
     "text": [
      "+----+-----+---+--------+---------+--------+---------+-------+-------+------+------+----+--------+--------+----+------+-------------------+\n",
      "|year|month|day|dep_time|dep_delay|arr_time|arr_delay|carrier|tailnum|flight|origin|dest|air_time|distance|hour|minute|qa_distance_airtime|\n",
      "+----+-----+---+--------+---------+--------+---------+-------+-------+------+------+----+--------+--------+----+------+-------------------+\n",
      "|2014|    4|  9|    1705|       45|    1839|       34|     WN| N360SW|   344|   PDX| SJC|      83|     569|  17|     5|                 TR|\n",
      "|2014|    1| 15|    1037|        7|    1352|        2|     WN| N646SW|    48|   PDX| DEN|     121|     991|  10|    37|                 TR|\n",
      "|2014|   11| 19|    1812|       -3|    2352|       -4|     AS| N564AS|    26|   SEA| ORD|     198|    1721|  18|    12|                 TR|\n",
      "|2014|   12| 17|    2015|       50|    2150|       41|     AS| N626AS|   368|   SEA| SMF|      76|     605|  20|    15|                 TR|\n",
      "|2014|    6|  5|    1733|      -12|    1945|      -10|     OO| N215AG|  3488|   PDX| BUR|     111|     817|  17|    33|                 TR|\n",
      "|2014|    8| 19|    1845|       -5|    2112|      -22|     DL| N354NW|  2642|   SEA| LAX|     119|     954|  18|    45|                 TR|\n",
      "|2014|    8| 19|    1222|        5|    1419|       -1|     OO| N825SK|  4623|   SEA| SJC|      90|     697|  12|    22|                 TR|\n",
      "|2014|   10| 29|     643|        3|     851|        2|     OO| N218AG|  3456|   PDX| BUR|     108|     817|   6|    43|                 TR|\n",
      "|2014|    6|  5|    1133|       38|    1247|       32|     WN| N793SA|  1617|   PDX| RNO|      61|     444|  11|    33|                 TR|\n",
      "|2014|    9| 28|    1848|       -7|    2044|       -9|     OO| N217AG|  3490|   SEA| FAT|      98|     748|  18|    48|                 TR|\n",
      "|2014|   12| 14|     633|       -7|     841|       -9|     OO| N951SW|  3456|   PDX| BUR|     107|     817|   6|    33|                 TR|\n",
      "|2014|    8| 24|    1646|       21|    1901|        1|     B6| N606JB|  1007|   SEA| LGB|     121|     965|  16|    46|                 TR|\n",
      "|2014|    6|  4|    1115|        0|    1346|       -3|     AS| N461AS|   488|   SEA| SAN|     133|    1050|  11|    15|                 TR|\n",
      "|2014|   11| 29|     905|      155|    1655|      170|     DL| N824DN|  1598|   SEA| ATL|     229|    2182|   9|     5|                 TR|\n",
      "|2014|    7| 25|     948|       -2|    1229|      -10|     OO| N223AG|  3492|   PDX| SLC|      85|     630|   9|    48|                 TR|\n",
      "|2014|    8| 30|    2004|       26|    2325|       22|     F9| N204FR|   794|   PDX| DEN|     120|     991|  20|     4|                 TR|\n",
      "|2014|   11| 15|    1034|       -6|    1414|      -26|     AS| N589AS|   794|   SEA| ABQ|     139|    1180|  10|    34|                 TR|\n",
      "|2014|   11| 15|    1858|        8|    2107|        2|     AS| N587AS|   616|   SEA| LAS|     106|     867|  18|    58|                 TR|\n",
      "|2014|   11| 19|    1319|       -6|    1821|      -14|     DL| N309US|  2164|   PDX| MSP|     169|    1426|  13|    19|                 TR|\n",
      "|2014|    9| 29|    1003|       58|    1222|       45|     US| N157UW|   630|   PDX| PHX|     125|    1009|  10|     3|                 TR|\n",
      "+----+-----+---+--------+---------+--------+---------+-------+-------+------+------+----+--------+--------+----+------+-------------------+\n",
      "only showing top 20 rows\n",
      "\n"
     ]
    }
   ],
   "source": [
    "df1 = spark.sql(\"\"\"\n",
    "                    SELECT *,\n",
    "                        CASE \n",
    "                            WHEN \n",
    "                                air_time IS NULL OR\n",
    "                                air_time == '' OR \n",
    "                                distance IS NULL OR \n",
    "                                distance == '' \n",
    "                                THEN 'M'\n",
    "                            WHEN\n",
    "                                air_time >= (distance * 0.1) + 30\n",
    "                                THEN 'TL'\n",
    "                                ELSE\n",
    "                                    CASE \n",
    "                                        WHEN\n",
    "                                            air_time <= (distance * 0.1) + 10\n",
    "                                            THEN 'TS'\n",
    "                                            ELSE 'TR'\n",
    "                                    END\n",
    "                        END AS qa_distance_airtime\n",
    "                    FROM flights\n",
    "\"\"\")\n",
    "\n",
    "df1.filter(df1.qa_distance_airtime == 'TR').show()"
   ]
  },
  {
   "cell_type": "code",
   "execution_count": 82,
   "metadata": {},
   "outputs": [],
   "source": [
    "df_flights_qa = df_flights.select(\"origin\",\n",
    "                                  \"dest\",\n",
    "                                  \"tailnum\",\n",
    "                                  \"qa_year_month_day\",\n",
    "                                 \"qa_hour_minute\",\n",
    "                                 \"qa_dep_arr\",\n",
    "                                 \"qa_dep_arr_delay\",\n",
    "                                 \"qa_carrier\",\n",
    "                                 \"qa_tailnum\",\n",
    "                                 \"qa_flight\",\n",
    "                                 \"qa_origin_dest\",\n",
    "                                 \"qa_air_time\",\n",
    "                                 \"qa_distance\",\n",
    "                                 \"qa_distance_airtime\")\n",
    "                                 \n",
    "df_flights_qa.write.mode('overwrite').parquet('output/flights_qa.parquet')"
   ]
  }
 ],
 "metadata": {
  "kernelspec": {
   "display_name": "Python 3 (ipykernel)",
   "language": "python",
   "name": "python3"
  },
  "language_info": {
   "codemirror_mode": {
    "name": "ipython",
    "version": 3
   },
   "file_extension": ".py",
   "mimetype": "text/x-python",
   "name": "python",
   "nbconvert_exporter": "python",
   "pygments_lexer": "ipython3",
   "version": "3.9.7"
  }
 },
 "nbformat": 4,
 "nbformat_minor": 4
}
